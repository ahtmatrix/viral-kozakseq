{
 "cells": [
  {
   "cell_type": "code",
   "execution_count": 11,
   "metadata": {
    "collapsed": false,
    "deletable": true,
    "editable": true
   },
   "outputs": [],
   "source": [
    "import pandas as pd\n",
    "import numpy as np\n",
    "import matplotlib.pyplot as plt\n",
    "import itertools"
   ]
  },
  {
   "cell_type": "markdown",
   "metadata": {},
   "source": [
    "# Generate all interactions"
   ]
  },
  {
   "cell_type": "code",
   "execution_count": 6,
   "metadata": {
    "collapsed": false,
    "deletable": true,
    "editable": true
   },
   "outputs": [],
   "source": [
    "#source https://stackoverflow.com/questions/43106707/generate-all-possible-2-character-combinations-of-a-potential-8-character-string\n",
    "from itertools import product, combinations\n",
    "\n",
    "def build(num_chars, length):\n",
    "    bases = [\"U\", \"C\", \"A\", \"G\"]\n",
    "    for letters in product(bases, repeat=num_chars):\n",
    "        for positions in combinations(range(length), num_chars):\n",
    "            yield tuple(zip(letters, positions))"
   ]
  },
  {
   "cell_type": "code",
   "execution_count": 39,
   "metadata": {
    "collapsed": false,
    "deletable": true,
    "editable": true
   },
   "outputs": [],
   "source": [
    "\n",
    "pre_mono = list(build(1,8))\n",
    "post_mono = []\n",
    "for i in range(len(pre_mono)):\n",
    "    post_mono.append((pre_mono[i][0],(False,False)))\n",
    "    \n",
    "dint_combos = list(build(2,8))\n",
    "complete_combinations = post_mono+dint_combos"
   ]
  },
  {
   "cell_type": "markdown",
   "metadata": {},
   "source": [
    "# Get interactions of each seq"
   ]
  },
  {
   "cell_type": "code",
   "execution_count": 12,
   "metadata": {
    "collapsed": false,
    "deletable": true,
    "editable": true
   },
   "outputs": [],
   "source": [
    "predicted_eff = pd.read_csv(\"dinucleotide_TIS_eff.csv\")"
   ]
  },
  {
   "cell_type": "code",
   "execution_count": 13,
   "metadata": {
    "collapsed": false,
    "deletable": true,
    "editable": true
   },
   "outputs": [],
   "source": [
    "del predicted_eff['lower.bound']\n",
    "del predicted_eff['upper.bound']"
   ]
  },
  {
   "cell_type": "code",
   "execution_count": 83,
   "metadata": {
    "collapsed": false,
    "deletable": true,
    "editable": true
   },
   "outputs": [],
   "source": [
    "def make_keys(sequence):\n",
    "    interactions = []\n",
    "    \n",
    "    #remove AUG\n",
    "    stripped_TIS = sequence[:6]+sequence[9:]\n",
    "    range_2 = list(range(len(stripped_TIS)))\n",
    "\n",
    "    #make the mono interactions\n",
    "    for a in range(len(stripped_TIS)):\n",
    "        monont_pos_key = ((stripped_TIS[a],a),(False,False))\n",
    "        interactions.append(monont_pos_key)\n",
    "\n",
    "    #make the dint interactions\n",
    "    for i in range(len(stripped_TIS)-1):\n",
    "\n",
    "        range_2.pop(0)\n",
    "        for j in range_2:\n",
    "            dint_pos_key = ((stripped_TIS[i],i),(stripped_TIS[j],j))\n",
    "            interactions.append(dint_pos_key)\n",
    "    return interactions"
   ]
  },
  {
   "cell_type": "code",
   "execution_count": 71,
   "metadata": {
    "collapsed": false,
    "deletable": true,
    "editable": true
   },
   "outputs": [],
   "source": [
    "def convert_seq_to_binary(interactions, complete_combinations):\n",
    "    binary_key = []\n",
    "    for combination in complete_combinations:\n",
    "        if combination in interactions:\n",
    "            binary_key.append(1)\n",
    "        elif combination not in interactions:\n",
    "            binary_key.append(0)\n",
    "    return binary_key"
   ]
  },
  {
   "cell_type": "code",
   "execution_count": 106,
   "metadata": {
    "collapsed": true
   },
   "outputs": [
    {
     "ename": "KeyboardInterrupt",
     "evalue": "",
     "output_type": "error",
     "traceback": [
      "\u001b[0;31m---------------------------------------------------------------------------\u001b[0m",
      "\u001b[0;31mKeyboardInterrupt\u001b[0m                         Traceback (most recent call last)",
      "\u001b[0;32m<ipython-input-106-81784fb24d5b>\u001b[0m in \u001b[0;36m<module>\u001b[0;34m()\u001b[0m\n\u001b[1;32m      2\u001b[0m \u001b[0mbinaries_list\u001b[0m \u001b[0;34m=\u001b[0m \u001b[0;34m[\u001b[0m\u001b[0;34m]\u001b[0m\u001b[0;34m\u001b[0m\u001b[0m\n\u001b[1;32m      3\u001b[0m \u001b[0;32mfor\u001b[0m \u001b[0meach\u001b[0m \u001b[0;32min\u001b[0m \u001b[0mpredicted_eff\u001b[0m\u001b[0;34m[\u001b[0m\u001b[0;34m'sequence'\u001b[0m\u001b[0;34m]\u001b[0m\u001b[0;34m:\u001b[0m\u001b[0;34m\u001b[0m\u001b[0m\n\u001b[0;32m----> 4\u001b[0;31m     \u001b[0mbinaries_list\u001b[0m\u001b[0;34m.\u001b[0m\u001b[0mappend\u001b[0m\u001b[0;34m(\u001b[0m\u001b[0mconvert_seq_to_binary\u001b[0m\u001b[0;34m(\u001b[0m\u001b[0mmake_keys\u001b[0m\u001b[0;34m(\u001b[0m\u001b[0meach\u001b[0m\u001b[0;34m)\u001b[0m\u001b[0;34m,\u001b[0m\u001b[0mcomplete_combinations\u001b[0m\u001b[0;34m)\u001b[0m\u001b[0;34m)\u001b[0m\u001b[0;34m\u001b[0m\u001b[0m\n\u001b[0m",
      "\u001b[0;32m<ipython-input-71-30f34860513b>\u001b[0m in \u001b[0;36mconvert_seq_to_binary\u001b[0;34m(interactions, complete_combinations)\u001b[0m\n\u001b[1;32m      2\u001b[0m     \u001b[0mbinary_key\u001b[0m \u001b[0;34m=\u001b[0m \u001b[0;34m[\u001b[0m\u001b[0;34m]\u001b[0m\u001b[0;34m\u001b[0m\u001b[0m\n\u001b[1;32m      3\u001b[0m     \u001b[0;32mfor\u001b[0m \u001b[0mcombination\u001b[0m \u001b[0;32min\u001b[0m \u001b[0mcomplete_combinations\u001b[0m\u001b[0;34m:\u001b[0m\u001b[0;34m\u001b[0m\u001b[0m\n\u001b[0;32m----> 4\u001b[0;31m         \u001b[0;32mif\u001b[0m \u001b[0mcombination\u001b[0m \u001b[0;32min\u001b[0m \u001b[0minteractions\u001b[0m\u001b[0;34m:\u001b[0m\u001b[0;34m\u001b[0m\u001b[0m\n\u001b[0m\u001b[1;32m      5\u001b[0m             \u001b[0mbinary_key\u001b[0m\u001b[0;34m.\u001b[0m\u001b[0mappend\u001b[0m\u001b[0;34m(\u001b[0m\u001b[0;36m1\u001b[0m\u001b[0;34m)\u001b[0m\u001b[0;34m\u001b[0m\u001b[0m\n\u001b[1;32m      6\u001b[0m         \u001b[0;32melif\u001b[0m \u001b[0mcombination\u001b[0m \u001b[0;32mnot\u001b[0m \u001b[0;32min\u001b[0m \u001b[0minteractions\u001b[0m\u001b[0;34m:\u001b[0m\u001b[0;34m\u001b[0m\u001b[0m\n",
      "\u001b[0;31mKeyboardInterrupt\u001b[0m: "
     ]
    }
   ],
   "source": [
    "#make a binaries of all seqs in predicted efficienies\n",
    "binaries_list = []\n",
    "for each in predicted_eff['sequence']:\n",
    "    binaries_list.append(convert_seq_to_binary(make_keys(each),complete_combinations))"
   ]
  },
  {
   "cell_type": "code",
   "execution_count": 103,
   "metadata": {
    "collapsed": false
   },
   "outputs": [],
   "source": [
    "#merge binaries list and efficienies together\n",
    "to_merge = pd.DataFrame(binaries_list,columns=complete_combinations)\n",
    "\n",
    "to_merge['effciency'] = predicted_eff['efficiency']\n",
    "\n"
   ]
  },
  {
   "cell_type": "code",
   "execution_count": 108,
   "metadata": {
    "collapsed": false
   },
   "outputs": [],
   "source": [
    "to_merge.to_csv(\"mono_and_di_interactions.csv\")"
   ]
  },
  {
   "cell_type": "markdown",
   "metadata": {},
   "source": [
    "# Make binary vector of seq compared to all combos"
   ]
  },
  {
   "cell_type": "code",
   "execution_count": 47,
   "metadata": {
    "collapsed": false,
    "deletable": true,
    "editable": true
   },
   "outputs": [
    {
     "name": "stdout",
     "output_type": "stream",
     "text": [
      "False\n",
      "False\n"
     ]
    }
   ],
   "source": [
    "# [first or second tuple] [first or second value in the tuple]\n",
    "# [0][0] = 1st value in 1st tuple\n",
    "# [0][1] = 2nd value in 1st tuple\n",
    "# \n",
    "# [1][0] = 1st value in 2nd tuple\n",
    "# [1][1] = 2nd value in 2nd tuple\n",
    "\n",
    "# lookup_key(pwm_key)"
   ]
  }
 ],
 "metadata": {
  "kernelspec": {
   "display_name": "Python 3",
   "language": "python",
   "name": "python3"
  },
  "language_info": {
   "codemirror_mode": {
    "name": "ipython",
    "version": 3
   },
   "file_extension": ".py",
   "mimetype": "text/x-python",
   "name": "python",
   "nbconvert_exporter": "python",
   "pygments_lexer": "ipython3",
   "version": "3.6.0"
  }
 },
 "nbformat": 4,
 "nbformat_minor": 2
}
