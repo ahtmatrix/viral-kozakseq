{
 "cells": [
  {
   "cell_type": "markdown",
   "metadata": {
    "deletable": true,
    "editable": true
   },
   "source": [
    "# Read CSV to make diNT PWM used for looking up the scores"
   ]
  },
  {
   "cell_type": "code",
   "execution_count": 8,
   "metadata": {
    "collapsed": true,
    "deletable": true,
    "editable": true
   },
   "outputs": [],
   "source": [
    "import csv\n",
    "\n",
    "FACS_pwm_dict = {}\n",
    "\n",
    "#opens csv file, reads into a dictionary\n",
    "with open('facs_pwm.csv') as csvfile:\n",
    "    reader = csv.DictReader(csvfile)\n",
    "    for row in reader:\n",
    "        FACS_pwm_dict[row['interaction']] = row['coefficient']"
   ]
  },
  {
   "cell_type": "markdown",
   "metadata": {
    "deletable": true,
    "editable": true
   },
   "source": [
    "# diNT PWM score TIS"
   ]
  },
  {
   "cell_type": "code",
   "execution_count": 2,
   "metadata": {
    "collapsed": true,
    "deletable": true,
    "editable": true
   },
   "outputs": [],
   "source": [
    "import pandas as pd\n",
    "import numpy as np\n",
    "import matplotlib.pyplot as plt\n",
    "from Bio import SeqIO\n",
    "from Bio import Seq\n",
    "\n",
    "import operator\n",
    "import functools\n",
    "\n",
    "import math\n",
    "\n",
    "import re\n",
    "\n",
    "import numpy as np \n",
    "import pylab \n",
    "import pandas as pd\n",
    "from scipy import stats, integrate\n",
    "import matplotlib.pyplot as plt\n",
    "import seaborn as sns\n",
    "from Bio.Alphabet import generic_dna, generic_rna\n",
    "\n",
    "\n",
    "import numpy\n",
    "import random\n",
    "from Bio.SeqRecord import SeqRecord\n",
    "from Bio.Seq import Seq\n",
    "from Bio.Alphabet import generic_rna\n",
    "\n",
    "\n",
    "import itertools\n"
   ]
  },
  {
   "cell_type": "markdown",
   "metadata": {
    "deletable": true,
    "editable": true
   },
   "source": [
    "# compartmentalized functions for extracting sequenes"
   ]
  },
  {
   "cell_type": "code",
   "execution_count": 3,
   "metadata": {
    "collapsed": true,
    "deletable": true,
    "editable": true
   },
   "outputs": [],
   "source": [
    "def get_RNA_seq(filename):\n",
    "    \n",
    "    RNA_seq_list = []\n",
    "    \n",
    "    for seq_record in SeqIO.parse(filename,\"fasta\"):\n",
    "        #may fail b/c of transcribe\n",
    "        try:\n",
    "            RNA_seq_list.append(seq_record.seq.transcribe())\n",
    "        except ValueError:\n",
    "            RNA_seq_list.append(seq_record.seq)\n",
    "    return RNA_seq_list\n",
    "    \n"
   ]
  },
  {
   "cell_type": "code",
   "execution_count": 4,
   "metadata": {
    "collapsed": false,
    "deletable": true,
    "editable": true
   },
   "outputs": [],
   "source": [
    "def get_first_capital_character(seq):\n",
    "    for i, c in enumerate(seq):\n",
    "        if c.isupper():\n",
    "            return i"
   ]
  },
  {
   "cell_type": "code",
   "execution_count": 5,
   "metadata": {
    "collapsed": false,
    "deletable": true,
    "editable": true
   },
   "outputs": [],
   "source": [
    "def get_first_TIS(RNA_seq_list, species):\n",
    "\n",
    "    if species == \"V\":\n",
    "\n",
    "        v_RNA_seq_list = []\n",
    "        for v_RNA_seq in RNA_seq_list:\n",
    "            v_TIS_seq = v_RNA_seq[24:35]\n",
    "            \n",
    "            if len(v_TIS_seq) == 11:\n",
    "                v_RNA_seq_list.append(v_TIS_seq)\n",
    "            \n",
    "\n",
    "        return v_RNA_seq_list\n",
    "    \n",
    "    else:\n",
    "        TIS_seq_list = []\n",
    "\n",
    "        for seq in RNA_seq_list:\n",
    "\n",
    "            start_codon_index = get_first_capital_character(seq)\n",
    "\n",
    "            TIS_seq = seq[start_codon_index-6:start_codon_index+5].upper()\n",
    "\n",
    "            if len(TIS_seq) == 11:\n",
    "\n",
    "                TIS_seq_list.append(TIS_seq)\n",
    "            \n",
    "\n",
    "        return TIS_seq_list\n",
    "\n",
    "# #V for viral\n",
    "# #H for human\n",
    "# #G for gemini\n",
    "# #A for arabidopsis\n",
    "\n",
    "# def get_first_TIS(RNA_seq_list,species):\n",
    "    \n",
    "\n",
    "            \n",
    "#     elif species == \"H\":\n",
    "        \n",
    "#         h_RNA_seq_list = []\n",
    "#         for h_RNA_seq in RNA_seq_list:\n",
    "#             h_RNA_seq_list.append(h_RNA_seq[30:41])\n",
    "#         return h_RNA_seq_list\n",
    "    \n",
    "#     elif species == \"G\":\n",
    "        \n",
    "#         g_RNA_seq_list = []\n",
    "#         for g_RNA_seq in RNA_seq_list:\n",
    "#             g_RNA_seq_list.append(g_RNA_seq[29:40])\n",
    "#         return g_RNA_seq_list\n",
    "# #     elif species == \"A\":\n",
    "# #         for a_RNA_seq in RNA_seq_list:\n",
    "# #             v_RNA_seq[24:35]\n"
   ]
  },
  {
   "cell_type": "markdown",
   "metadata": {
    "deletable": true,
    "editable": true
   },
   "source": [
    "# key based lookup of FACS"
   ]
  },
  {
   "cell_type": "code",
   "execution_count": 6,
   "metadata": {
    "collapsed": true,
    "deletable": true,
    "editable": true
   },
   "outputs": [],
   "source": [
    "def make_keys(sequence):\n",
    "    interactions = []\n",
    "    \n",
    "    #remove AUG\n",
    "    stripped_TIS = sequence[:6]+sequence[9:]\n",
    "    range_2 = list(range(len(stripped_TIS)))\n",
    "\n",
    "    #make the mono interactions\n",
    "    for a in range(len(stripped_TIS)):\n",
    "        monont_pos_key = ((stripped_TIS[a],a),(False,False))\n",
    "        interactions.append(monont_pos_key)\n",
    "\n",
    "    #make the dint interactions\n",
    "    for i in range(len(stripped_TIS)-1):\n",
    "\n",
    "        range_2.pop(0)\n",
    "        for j in range_2:\n",
    "            dint_pos_key = ((stripped_TIS[i],i),(stripped_TIS[j],j))\n",
    "            interactions.append(dint_pos_key)\n",
    "    return interactions"
   ]
  },
  {
   "cell_type": "code",
   "execution_count": 7,
   "metadata": {
    "collapsed": true,
    "deletable": true,
    "editable": true
   },
   "outputs": [],
   "source": [
    "def get_seqs(file):\n",
    "    seqs = get_first_TIS(get_RNA_seq(file[0]),file[1])\n",
    "    return seqs"
   ]
  },
  {
   "cell_type": "code",
   "execution_count": 8,
   "metadata": {
    "collapsed": true,
    "deletable": true,
    "editable": true
   },
   "outputs": [],
   "source": [
    "\n",
    "\n",
    "def predict_TIS_eff(seqs):\n",
    "\n",
    "    interactions_list = []\n",
    "    for seq in seqs:\n",
    "        interactions_list.append(make_keys(seq))\n",
    "    \n",
    "    seq_eff = []\n",
    "    \n",
    "    for seq in interactions_list:\n",
    "        \n",
    "        interactions = []\n",
    "            \n",
    "        #get the coefficient per interaction\n",
    "        for interaction in seq:\n",
    "            interactions.append(float(FACS_pwm_dict[str(interaction)]))\n",
    "        \n",
    "        \n",
    "        seq_eff.append(79.5*functools.reduce(lambda x, y: x*y, interactions))\n",
    "    \n",
    "    return seq_eff\n",
    "\n",
    "    \n",
    "\n",
    "    "
   ]
  },
  {
   "cell_type": "code",
   "execution_count": 9,
   "metadata": {
    "collapsed": false,
    "deletable": true,
    "editable": true
   },
   "outputs": [],
   "source": [
    "def analysis_pipeline(file):\n",
    "    return predict_TIS_eff(get_seqs(file))"
   ]
  },
  {
   "cell_type": "code",
   "execution_count": 10,
   "metadata": {
    "collapsed": false,
    "deletable": true,
    "editable": true
   },
   "outputs": [],
   "source": [
    "ex_TIS_seqs = get_RNA_seq(\"all_possible_TIS.fasta\")\n",
    "ex_eff = predict_TIS_eff(ex_TIS_seqs)\n",
    "    "
   ]
  },
  {
   "cell_type": "code",
   "execution_count": 11,
   "metadata": {
    "collapsed": true,
    "deletable": true,
    "editable": true
   },
   "outputs": [],
   "source": [
    "\n",
    "sv_filename   = \"SCANNING_viral_all_30up_toSTOP_SEP.fasta\"\n",
    "iv_filename   = \"IRES_viral_all_30up_toSTOP_SEP.fasta\"\n",
    "lv_filename   = \"LEAKY_viral_all_30up_toSTOP_SEP.fasta\"\n",
    "nv_filename   = \"NSP_viral_all_30up_toSTOP_SEP.fasta\"\n",
    "rs_filename   = \"RIBOSOMESHUNTING_viral_all_30up_toSTOP_SEP.fasta\"\n",
    "ti_filename   = \"TERMINATIONREINITIATION_viral_all_30up_toSTOP_SEP.fasta\"\n",
    "vp_filename   = \"VPG_viral_all_30up_toSTOP_SEP.fasta\"\n",
    "uk_filename   = \"UNKNOWN_viral_all_30up_toSTOP_SEP.fasta\"\n",
    "hs_filename   = \"hs_all_nodup_u36.fasta\"\n",
    "ge_filename   = \"YA_diNT_replace_C_gemini_5utr_orf.fasta\"\n",
    "ab_filename   = \"ar_utr_cds.fasta\"\n",
    "\n",
    "\n",
    "samples=[ (sv_filename, \"V\"),\n",
    "          (iv_filename,\"V\"),\n",
    "          (lv_filename,\"V\"),\n",
    "          (nv_filename,\"V\"),\n",
    "          (rs_filename,\"V\"),\n",
    "          (ti_filename,\"V\"),\n",
    "          (vp_filename,\"V\"),\n",
    "          (uk_filename,\"V\"),\n",
    "          (hs_filename,\"H\"),\n",
    "          (ge_filename,\"G\"),\n",
    "          (ab_filename,\"A\")\n",
    "          ]\n",
    "\n"
   ]
  },
  {
   "cell_type": "code",
   "execution_count": 12,
   "metadata": {
    "collapsed": false,
    "deletable": true,
    "editable": true,
    "slideshow": {
     "slide_type": "-"
    }
   },
   "outputs": [],
   "source": [
    "\n",
    "\n",
    "sv_eff   = analysis_pipeline(samples[0])\n",
    "iv_eff   = analysis_pipeline(samples[1])\n",
    "lv_eff   = analysis_pipeline(samples[2])\n",
    "nv_eff   = analysis_pipeline(samples[3])\n",
    "rs_eff   = analysis_pipeline(samples[4])\n",
    "ti_eff   = analysis_pipeline(samples[5])\n",
    "vp_eff   = analysis_pipeline(samples[6])\n",
    "uk_eff   = analysis_pipeline(samples[7])\n",
    "hs_eff   = analysis_pipeline(samples[8])\n",
    "ge_eff   = analysis_pipeline(samples[9])\n",
    "ab_eff   = analysis_pipeline(samples[10])\n",
    "\n",
    "\n"
   ]
  },
  {
   "cell_type": "code",
   "execution_count": 13,
   "metadata": {
    "collapsed": true,
    "deletable": true,
    "editable": true
   },
   "outputs": [],
   "source": [
    "sample_effs = [(sv_eff,\"Scanning\"),(iv_eff,\"IRES\"),(lv_eff,\"Leaky Scanning\"),\n",
    "               (nv_eff,\"NSP3\"),(rs_eff,\"Ribosome Shunting\"),(ti_eff,\"Termination-Reinitiation\"),(vp_eff,\"VPg\"),\n",
    "               (uk_eff,\"Unknown\"),(hs_eff,\"Human\"),(ge_eff,\"Geminivirus\"),(ex_eff,\"All possible TIS\")]"
   ]
  },
  {
   "cell_type": "code",
   "execution_count": 14,
   "metadata": {
    "collapsed": true,
    "deletable": true,
    "editable": true
   },
   "outputs": [],
   "source": [
    "# above TIS_lists will be the input of below function"
   ]
  },
  {
   "cell_type": "markdown",
   "metadata": {
    "deletable": true,
    "editable": true
   },
   "source": [
    "# NEGATIVE Controls internal AUG"
   ]
  },
  {
   "cell_type": "code",
   "execution_count": 15,
   "metadata": {
    "collapsed": false,
    "deletable": true,
    "editable": true
   },
   "outputs": [],
   "source": [
    "def extract_after_first_TIS(seqs, species):\n",
    "\n",
    "    if species == \"V\":\n",
    "        index = 35\n",
    "      \n",
    "        v_after_first_START = []\n",
    "    \n",
    "        for seq in seqs:\n",
    "            v_after_first_START.append(seq[index:])\n",
    "    \n",
    "        return v_after_first_START\n",
    "\n",
    "    else:\n",
    "        after_TIS_seqs = []\n",
    "\n",
    "        for seq in seqs:\n",
    "            start_codon_index = get_first_capital_character(seq)\n",
    "\n",
    "            after_TIS_seq = seq[start_codon_index+5:].upper()\n",
    "\n",
    "            after_TIS_seqs.append(after_TIS_seq)\n",
    "            \n",
    "        return after_TIS_seqs\n",
    "\n",
    "# #cut RNA seqs to after the first TIS\n",
    "# def extract_after_first_TIS(seqs, species):\n",
    "    \n",
    "#     if species == \"V\":\n",
    "#         index = 35\n",
    "#     elif species == \"H\":\n",
    "#         index = 40\n",
    "#     elif species == \"G\":\n",
    "#         index = 41\n",
    "    \n",
    "#     no_first_seq_list = []\n",
    "    \n",
    "#     for seq in seqs:\n",
    "#         no_first_seq_list.append(seq[index:])\n",
    "    \n",
    "#     return no_first_seq_list \n"
   ]
  },
  {
   "cell_type": "code",
   "execution_count": 16,
   "metadata": {
    "collapsed": false,
    "deletable": true,
    "editable": true
   },
   "outputs": [],
   "source": [
    "def get_all_downstream_CODON_TIS_indices(sequence,query_codon):\n",
    "    \n",
    "    #gets all the indices of the querycodon's first character \n",
    "    AUG_positions = [m.start() for m in re.finditer(query_codon,sequence)]\n",
    "    return AUG_positions\n",
    "    "
   ]
  },
  {
   "cell_type": "code",
   "execution_count": 17,
   "metadata": {
    "collapsed": false,
    "deletable": true,
    "editable": true
   },
   "outputs": [],
   "source": [
    "\n",
    "# def internal_AUG_analysis_pipeline(file):\n",
    "    \n",
    "#     nucleotides = set('AUCG')\n",
    "#     downstream_TISs = []\n",
    "\n",
    "#     downstream_seq = extract_after_first_TIS(get_RNA_seq(file[0]), file[1])\n",
    "    \n",
    "#     for seq in downstream_seq:\n",
    "#         downstream_AUGs = get_all_downstream_CODON_TIS_indices(str(seq),\"AUG\")\n",
    "    \n",
    "#         for pos in downstream_AUGs:\n",
    "#             internal_AUG = seq[pos-6:pos+5]\n",
    "            \n",
    "#             re.match('',)\n",
    "#             if \"N\" not in internal_AUG:\n",
    "#                 if \"S\" not in internal_AUG:\n",
    "#                     if \"K\" not in internal_AUG:\n",
    "#                         if len(internal_AUG) == 11:\n",
    "#                             downstream_TISs.append(internal_AUG)\n",
    "\n",
    "#     downstream_diNT_tuples = diNT_tuple_gen(downstream_TISs)\n",
    "    \n",
    "#     downstream_PWM_scores = score_seq_with_PWM(downstream_diNT_tuples)\n",
    "#     efficiencies = convert_to_Pandas_series_adjust_K_val(downstream_PWM_scores)\n",
    "# #     sns.distplot(efficiencies)\n",
    "# #     sns.plt.title(file)\n",
    "# #     plt.show()\n",
    "#     return efficiencies\n",
    "\n",
    "    \n",
    "\n",
    "\n",
    "def internal_AUG_analysis_pipeline(file):\n",
    "    downstream_TISs = []\n",
    "\n",
    "    downstream_seq = extract_after_first_TIS(get_RNA_seq(file[0]), file[1])\n",
    "    \n",
    "    for seq in downstream_seq:\n",
    "        downstream_AUGs = get_all_downstream_CODON_TIS_indices(str(seq),\"AUG\")\n",
    "    \n",
    "        for pos in downstream_AUGs:\n",
    "            internal_AUG = seq[pos-6:pos+5]\n",
    "            \n",
    "            if \"N\" not in internal_AUG:\n",
    "                if \"S\" not in internal_AUG:\n",
    "                    if \"K\" not in internal_AUG:\n",
    "                        if len(internal_AUG) == 11:\n",
    "                            downstream_TISs.append(internal_AUG)\n",
    "                        \n",
    "\n",
    "    downstream_TIS_keys = make_keys(downstream_TISs)\n",
    "    \n",
    "    efficiencies = analysis_pipeline(downstream_TIS_keys)\n",
    "    \n",
    "    return efficiencies\n",
    "\n",
    "    "
   ]
  },
  {
   "cell_type": "code",
   "execution_count": 18,
   "metadata": {
    "collapsed": false,
    "deletable": true,
    "editable": true
   },
   "outputs": [
    {
     "ename": "KeyboardInterrupt",
     "evalue": "",
     "output_type": "error",
     "traceback": [
      "\u001b[0;31m---------------------------------------------------------------------------\u001b[0m",
      "\u001b[0;31mKeyboardInterrupt\u001b[0m                         Traceback (most recent call last)",
      "\u001b[0;32m<ipython-input-18-9a3cff9090b0>\u001b[0m in \u001b[0;36m<module>\u001b[0;34m()\u001b[0m\n\u001b[1;32m      1\u001b[0m \u001b[0;34m\u001b[0m\u001b[0m\n\u001b[0;32m----> 2\u001b[0;31m \u001b[0msv_IA_eff\u001b[0m   \u001b[0;34m=\u001b[0m \u001b[0minternal_AUG_analysis_pipeline\u001b[0m\u001b[0;34m(\u001b[0m\u001b[0msamples\u001b[0m\u001b[0;34m[\u001b[0m\u001b[0;36m0\u001b[0m\u001b[0;34m]\u001b[0m\u001b[0;34m)\u001b[0m\u001b[0;34m\u001b[0m\u001b[0m\n\u001b[0m\u001b[1;32m      3\u001b[0m \u001b[0miv_IA_eff\u001b[0m   \u001b[0;34m=\u001b[0m \u001b[0minternal_AUG_analysis_pipeline\u001b[0m\u001b[0;34m(\u001b[0m\u001b[0msamples\u001b[0m\u001b[0;34m[\u001b[0m\u001b[0;36m1\u001b[0m\u001b[0;34m]\u001b[0m\u001b[0;34m)\u001b[0m\u001b[0;34m\u001b[0m\u001b[0m\n\u001b[1;32m      4\u001b[0m \u001b[0mlv_IA_eff\u001b[0m   \u001b[0;34m=\u001b[0m \u001b[0minternal_AUG_analysis_pipeline\u001b[0m\u001b[0;34m(\u001b[0m\u001b[0msamples\u001b[0m\u001b[0;34m[\u001b[0m\u001b[0;36m2\u001b[0m\u001b[0;34m]\u001b[0m\u001b[0;34m)\u001b[0m\u001b[0;34m\u001b[0m\u001b[0m\n\u001b[1;32m      5\u001b[0m \u001b[0mnv_IA_eff\u001b[0m   \u001b[0;34m=\u001b[0m \u001b[0minternal_AUG_analysis_pipeline\u001b[0m\u001b[0;34m(\u001b[0m\u001b[0msamples\u001b[0m\u001b[0;34m[\u001b[0m\u001b[0;36m3\u001b[0m\u001b[0;34m]\u001b[0m\u001b[0;34m)\u001b[0m\u001b[0;34m\u001b[0m\u001b[0m\n",
      "\u001b[0;32m<ipython-input-17-b2ebc7120c0c>\u001b[0m in \u001b[0;36minternal_AUG_analysis_pipeline\u001b[0;34m(file)\u001b[0m\n\u001b[1;32m     50\u001b[0m \u001b[0;34m\u001b[0m\u001b[0m\n\u001b[1;32m     51\u001b[0m \u001b[0;34m\u001b[0m\u001b[0m\n\u001b[0;32m---> 52\u001b[0;31m     \u001b[0mdownstream_TIS_keys\u001b[0m \u001b[0;34m=\u001b[0m \u001b[0mmake_keys\u001b[0m\u001b[0;34m(\u001b[0m\u001b[0mdownstream_TISs\u001b[0m\u001b[0;34m)\u001b[0m\u001b[0;34m\u001b[0m\u001b[0m\n\u001b[0m\u001b[1;32m     53\u001b[0m \u001b[0;34m\u001b[0m\u001b[0m\n\u001b[1;32m     54\u001b[0m     \u001b[0mefficiencies\u001b[0m \u001b[0;34m=\u001b[0m \u001b[0manalysis_pipeline\u001b[0m\u001b[0;34m(\u001b[0m\u001b[0mdownstream_TIS_keys\u001b[0m\u001b[0;34m)\u001b[0m\u001b[0;34m\u001b[0m\u001b[0m\n",
      "\u001b[0;32m<ipython-input-6-6007e8bcebcc>\u001b[0m in \u001b[0;36mmake_keys\u001b[0;34m(sequence)\u001b[0m\n\u001b[1;32m     16\u001b[0m         \u001b[0mrange_2\u001b[0m\u001b[0;34m.\u001b[0m\u001b[0mpop\u001b[0m\u001b[0;34m(\u001b[0m\u001b[0;36m0\u001b[0m\u001b[0;34m)\u001b[0m\u001b[0;34m\u001b[0m\u001b[0m\n\u001b[1;32m     17\u001b[0m         \u001b[0;32mfor\u001b[0m \u001b[0mj\u001b[0m \u001b[0;32min\u001b[0m \u001b[0mrange_2\u001b[0m\u001b[0;34m:\u001b[0m\u001b[0;34m\u001b[0m\u001b[0m\n\u001b[0;32m---> 18\u001b[0;31m             \u001b[0mdint_pos_key\u001b[0m \u001b[0;34m=\u001b[0m \u001b[0;34m(\u001b[0m\u001b[0;34m(\u001b[0m\u001b[0mstripped_TIS\u001b[0m\u001b[0;34m[\u001b[0m\u001b[0mi\u001b[0m\u001b[0;34m]\u001b[0m\u001b[0;34m,\u001b[0m\u001b[0mi\u001b[0m\u001b[0;34m)\u001b[0m\u001b[0;34m,\u001b[0m\u001b[0;34m(\u001b[0m\u001b[0mstripped_TIS\u001b[0m\u001b[0;34m[\u001b[0m\u001b[0mj\u001b[0m\u001b[0;34m]\u001b[0m\u001b[0;34m,\u001b[0m\u001b[0mj\u001b[0m\u001b[0;34m)\u001b[0m\u001b[0;34m)\u001b[0m\u001b[0;34m\u001b[0m\u001b[0m\n\u001b[0m\u001b[1;32m     19\u001b[0m             \u001b[0minteractions\u001b[0m\u001b[0;34m.\u001b[0m\u001b[0mappend\u001b[0m\u001b[0;34m(\u001b[0m\u001b[0mdint_pos_key\u001b[0m\u001b[0;34m)\u001b[0m\u001b[0;34m\u001b[0m\u001b[0m\n\u001b[1;32m     20\u001b[0m     \u001b[0;32mreturn\u001b[0m \u001b[0minteractions\u001b[0m\u001b[0;34m\u001b[0m\u001b[0m\n",
      "\u001b[0;31mKeyboardInterrupt\u001b[0m: "
     ]
    }
   ],
   "source": [
    "\n",
    "sv_IA_eff   = internal_AUG_analysis_pipeline(samples[0])\n",
    "iv_IA_eff   = internal_AUG_analysis_pipeline(samples[1])\n",
    "lv_IA_eff   = internal_AUG_analysis_pipeline(samples[2])\n",
    "nv_IA_eff   = internal_AUG_analysis_pipeline(samples[3])\n",
    "rs_IA_eff   = internal_AUG_analysis_pipeline(samples[4])\n",
    "ti_IA_eff   = internal_AUG_analysis_pipeline(samples[5])\n",
    "vp_IA_eff   = internal_AUG_analysis_pipeline(samples[6])\n",
    "uk_IA_eff   = internal_AUG_analysis_pipeline(samples[7])\n",
    "hs_IA_eff   = internal_AUG_analysis_pipeline(samples[8])\n",
    "ge_IA_eff   = internal_AUG_analysis_pipeline(samples[9])\n"
   ]
  },
  {
   "cell_type": "code",
   "execution_count": null,
   "metadata": {
    "collapsed": false,
    "deletable": true,
    "editable": true
   },
   "outputs": [],
   "source": [
    "internal_AUG_eff = [(sv_IA_eff,\"Scanning - int AUG\"),(iv_IA_eff,\"IRES- int AUG\"),(lv_IA_eff,\"Leaky Scanning- int AUG\"),\n",
    "                    (nv_IA_eff,\"NSP3- int AUG\"),(rs_IA_eff,\"Ribosome Shunting- int AUG\"),(ti_IA_eff,\"Termination-Reinitiation- int AUG\"),(vp_IA_eff,\"VPg- int AUG\"),\n",
    "                    (uk_IA_eff,\"Unknown- int AUG\"),(hs_IA_eff,\"Human- int AUG\"),(ge_IA_eff,\"Geminivirus- int AUG\")]"
   ]
  },
  {
   "cell_type": "markdown",
   "metadata": {
    "deletable": true,
    "editable": true
   },
   "source": [
    "# Scramble and PWMscore  negative control"
   ]
  },
  {
   "cell_type": "code",
   "execution_count": null,
   "metadata": {
    "collapsed": true,
    "deletable": true,
    "editable": true
   },
   "outputs": [],
   "source": [
    "def scramble_TIS(TIS_list):\n",
    "    #rerun to get more random seq\n",
    "    shuffled_TIS_list =[]\n",
    "\n",
    "    for seq in TIS_list:\n",
    "\n",
    "        #get the TIS only\n",
    "        TIS_only = str(seq[0:6] + seq[9:11])\n",
    "\n",
    "        #shuffles the TIS string\n",
    "        shuffled_TIS_source_string = ''.join(random.sample(TIS_only,len(TIS_only)))\n",
    "\n",
    "        shuffled_record = Seq(shuffled_TIS_source_string[0:6] + \"AUG\" + shuffled_TIS_source_string[6:8], \n",
    "                generic_rna)\n",
    "        shuffled_TIS_list.append(shuffled_record)\n",
    "    return shuffled_TIS_list\n",
    "    "
   ]
  },
  {
   "cell_type": "code",
   "execution_count": null,
   "metadata": {
    "collapsed": true,
    "deletable": true,
    "editable": true
   },
   "outputs": [],
   "source": [
    "def scramble_pipeline(file):\n",
    "\n",
    "    seqs = get_first_TIS(get_RNA_seq(file[0]),file[1])\n",
    "    scram_seqs = scramble_TIS(seqs)\n",
    "    efficiencies = predict_TIS_eff(scram_seqs)\n",
    "    \n",
    "    return efficiencies\n",
    "    \n",
    "    "
   ]
  },
  {
   "cell_type": "code",
   "execution_count": null,
   "metadata": {
    "collapsed": false,
    "deletable": true,
    "editable": true
   },
   "outputs": [],
   "source": [
    "\n",
    "sv_scram_eff   = scramble_pipeline(samples[0])\n",
    "iv_scram_eff   = scramble_pipeline(samples[1])\n",
    "lv_scram_eff   = scramble_pipeline(samples[2])\n",
    "nv_scram_eff   = scramble_pipeline(samples[3])\n",
    "rs_scram_eff   = scramble_pipeline(samples[4])\n",
    "ti_scram_eff   = scramble_pipeline(samples[5])\n",
    "vp_scram_eff   = scramble_pipeline(samples[6])\n",
    "uk_scram_eff   = scramble_pipeline(samples[7])\n",
    "hs_scram_eff   = scramble_pipeline(samples[8])\n",
    "ge_scram_eff   = scramble_pipeline(samples[9])\n"
   ]
  },
  {
   "cell_type": "code",
   "execution_count": null,
   "metadata": {
    "collapsed": true,
    "deletable": true,
    "editable": true
   },
   "outputs": [],
   "source": [
    "scram_eff = [(sv_scram_eff,\"Scanning - int AUG\"),(iv_scram_eff,\"IRES- int AUG\"),(lv_scram_eff,\"Leaky Scanning- int AUG\"),\n",
    "             (nv_scram_eff,\"NSP3- int AUG\"),(rs_scram_eff,\"Ribosome Shunting- int AUG\"),(ti_scram_eff,\"Termination-Reinitiation- int AUG\"),(vp_scram_eff,\"VPg- int AUG\"),\n",
    "             (uk_scram_eff,\"Unknown- int AUG\"),(hs_scram_eff,\"Human- int AUG\"),(ge_scram_eff,\"Geminivirus- int AUG\")]"
   ]
  },
  {
   "cell_type": "code",
   "execution_count": 5,
   "metadata": {
    "collapsed": false,
    "deletable": true,
    "editable": true
   },
   "outputs": [
    {
     "ename": "NameError",
     "evalue": "name 'sns' is not defined",
     "output_type": "error",
     "traceback": [
      "\u001b[0;31m---------------------------------------------------------------------------\u001b[0m",
      "\u001b[0;31mNameError\u001b[0m                                 Traceback (most recent call last)",
      "\u001b[0;32m<ipython-input-5-ef82ec59ff71>\u001b[0m in \u001b[0;36m<module>\u001b[0;34m()\u001b[0m\n\u001b[1;32m     19\u001b[0m \u001b[0;34m\u001b[0m\u001b[0m\n\u001b[1;32m     20\u001b[0m \u001b[0;34m\u001b[0m\u001b[0m\n\u001b[0;32m---> 21\u001b[0;31m \u001b[0msns\u001b[0m\u001b[0;34m.\u001b[0m\u001b[0mdistplot\u001b[0m\u001b[0;34m(\u001b[0m\u001b[0mex_eff\u001b[0m\u001b[0;34m,\u001b[0m \u001b[0mhist\u001b[0m \u001b[0;34m=\u001b[0m \u001b[0;32mFalse\u001b[0m\u001b[0;34m,\u001b[0m \u001b[0mlabel\u001b[0m \u001b[0;34m=\u001b[0m \u001b[0;34m\"All TIS seq\"\u001b[0m\u001b[0;34m)\u001b[0m\u001b[0;34m\u001b[0m\u001b[0m\n\u001b[0m\u001b[1;32m     22\u001b[0m \u001b[0msns\u001b[0m\u001b[0;34m.\u001b[0m\u001b[0mdistplot\u001b[0m\u001b[0;34m(\u001b[0m\u001b[0mhs_eff\u001b[0m\u001b[0;34m,\u001b[0m \u001b[0mhist\u001b[0m \u001b[0;34m=\u001b[0m \u001b[0;32mFalse\u001b[0m\u001b[0;34m,\u001b[0m \u001b[0mlabel\u001b[0m \u001b[0;34m=\u001b[0m \u001b[0;34m\"human\"\u001b[0m\u001b[0;34m)\u001b[0m\u001b[0;34m\u001b[0m\u001b[0m\n\u001b[1;32m     23\u001b[0m \u001b[0mplt\u001b[0m\u001b[0;34m.\u001b[0m\u001b[0mshow\u001b[0m\u001b[0;34m(\u001b[0m\u001b[0;34m)\u001b[0m\u001b[0;34m\u001b[0m\u001b[0m\n",
      "\u001b[0;31mNameError\u001b[0m: name 'sns' is not defined"
     ]
    }
   ],
   "source": [
    "import scipy\n",
    "import matplotlib.pyplot as plt\n",
    "\n",
    "# sample_effs\n",
    "# internal_AUG_eff\n",
    "# scram_eff\n",
    "\n",
    "\n",
    "# dens_plots = []\n",
    "# for eff in viral_eff:\n",
    "#      dens_plots.append(sns.distplot(eff, hist=False))\n",
    "\n",
    "\n",
    "\n",
    "\n",
    "\n",
    "\n",
    "# all_viral_test_eff = analysis_pipeline((\"viral_all_30up_toSTOP.fasta\",\"V\"))\n",
    "\n",
    "\n",
    "sns.distplot(ex_eff, hist = False, label = \"All TIS seq\")\n",
    "sns.distplot(hs_eff, hist = False, label = \"human\")\n",
    "plt.show()\n",
    "\n",
    "# plt.figure(2)\n",
    "sns.distplot(sv_eff, hist = False, label = \"scanning\")\n",
    "sns.distplot(hs_eff, hist = False, label = \"human\")\n",
    "plt.show()\n",
    "\n",
    "# plt.figure(3)\n",
    "sns.distplot(ab_eff, hist = False, label = \"arabidopsis\")\n",
    "sns.distplot(ge_eff, hist = False, label = \"geminivirus\")\n",
    "\n",
    "# plt.ylabel('Density')\n",
    "# plt.xlabel('TIS Efficiency')\n",
    "\n",
    "\n",
    "plt.show()\n",
    "\n",
    "# ax = plt.subplot(311)\n",
    "\n",
    "\n",
    "\n",
    "# scipy.stats.ks_2samp(sample1, sample2)\n",
    "\n",
    "# #https://docs.scipy.org/doc/scipy/reference/generated/scipy.stats.chisquare.html\n",
    "# scipy.stats.chisquare(hs_eff,ex_eff)"
   ]
  },
  {
   "cell_type": "markdown",
   "metadata": {
    "deletable": true,
    "editable": true
   },
   "source": [
    "# use the new scoring scheme to scan the entire ORF like what you did in last semester."
   ]
  },
  {
   "cell_type": "code",
   "execution_count": 4,
   "metadata": {
    "collapsed": false,
    "deletable": true,
    "editable": true
   },
   "outputs": [],
   "source": [
    "# have to scan the TIS + 200 bp downstream\n"
   ]
  },
  {
   "cell_type": "code",
   "execution_count": null,
   "metadata": {
    "collapsed": true
   },
   "outputs": [],
   "source": []
  }
 ],
 "metadata": {
  "kernelspec": {
   "display_name": "Python 3",
   "language": "python",
   "name": "python3"
  },
  "language_info": {
   "codemirror_mode": {
    "name": "ipython",
    "version": 3
   },
   "file_extension": ".py",
   "mimetype": "text/x-python",
   "name": "python",
   "nbconvert_exporter": "python",
   "pygments_lexer": "ipython3",
   "version": "3.6.0"
  }
 },
 "nbformat": 4,
 "nbformat_minor": 2
}
