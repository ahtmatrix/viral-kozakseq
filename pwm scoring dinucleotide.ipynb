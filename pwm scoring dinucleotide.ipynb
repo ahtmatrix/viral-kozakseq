{
 "cells": [
  {
   "cell_type": "code",
   "execution_count": 102,
   "metadata": {
    "collapsed": true,
    "deletable": true,
    "editable": true
   },
   "outputs": [],
   "source": [
    "#prototype\n",
    "\n",
    "#dictionary\n",
    "#diNT_PWM[position][dinucleotide] --> value\n",
    "\n",
    "# make a dictionary of the csv file\n",
    "#first test\n",
    "import csv\n",
    "\n",
    "diNT_csv_dictionary = {}\n",
    "\n",
    "#opens csv file, reads into a dictionary\n",
    "with open('diNTpwm_fordict.csv') as csvfile:\n",
    "    reader = csv.DictReader(csvfile)\n",
    "    for row in reader:\n",
    "        diNT_csv_dictionary[row['dinucleotide'], row['position']] = row['efficiency']\n",
    "\n",
    "  "
   ]
  },
  {
   "cell_type": "markdown",
   "metadata": {
    "deletable": true,
    "editable": true
   },
   "source": [
    "# below code is for scoring viral seq with dint pwm"
   ]
  },
  {
   "cell_type": "code",
   "execution_count": 121,
   "metadata": {
    "collapsed": true,
    "deletable": true,
    "editable": true
   },
   "outputs": [],
   "source": [
    "#1 ,  2,  3,  4,  5,  6, 7\n",
    "#-6, -5, -4, -3, -2, -1, +4, +5\n",
    "\n",
    "#have to scan through each dinucleotide position in seq\n",
    "#get the efficiency and multiply together\n",
    "#save into table\n",
    "\n",
    "import pandas as pd\n",
    "import numpy as np\n",
    "import matplotlib.pyplot as plt\n",
    "from Bio import SeqIO\n",
    "\n",
    "\n",
    "# 30_ATG_rest\n",
    "\n",
    "TIS_list = []\n",
    "#get the sequence out of the fasta file # should start at 24 until 35\n",
    "for seq_record in SeqIO.parse(\"finalviral.fasta\", \"fasta\"):\n",
    "    #transcribes from DNA to RNA by replacing T with U\n",
    "    TIS_list.append(seq_record.seq[24:35].transcribe())\n",
    "\n",
    "def PWM(dinucleotide, position):\n",
    "    #convert efficiency into float\n",
    "    return float(diNT_csv_dictionary[dinucleotide, position])"
   ]
  },
  {
   "cell_type": "code",
   "execution_count": 122,
   "metadata": {
    "collapsed": false,
    "deletable": true,
    "editable": true
   },
   "outputs": [],
   "source": [
    "seq_dint_tuple_list = []\n",
    "for i in range(len(TIS_list)):\n",
    "\n",
    "    for j in range(0,5):\n",
    "        seq_dint_tuple_list.append((str(TIS_list[i][j:j+2]), j+1))\n",
    "\n",
    "    # add dint position 6\n",
    "    seq_dint_tuple_list.append((TIS_list[i][5]+TIS_list[i][9], 6))\n",
    "\n",
    "\n",
    "    # add dint position 7\n",
    "    seq_dint_tuple_list.append((TIS_list[i][9]+TIS_list[i][10], 7))\n",
    "    \n"
   ]
  },
  {
   "cell_type": "code",
   "execution_count": 123,
   "metadata": {
    "collapsed": false,
    "deletable": true,
    "editable": true
   },
   "outputs": [],
   "source": [
    "#first index is 0 to 6\n",
    "#2nd index is from 0 to 1\n",
    "\n",
    "#have to accumulate every 7 PWMs\n",
    "\n",
    "PWM_diNT_scores_seq = []\n",
    "for i in range(len(seq_dint_tuple_list)):\n",
    "    PWM_diNT_scores_seq.append(PWM(seq_dint_tuple_list[i][0], str(seq_dint_tuple_list[i][1])))\n",
    "\n",
    "\n",
    "\n",
    "    \n",
    "    \n",
    "list_of_tuples_by_seven = [PWM_diNT_scores_seq[x:x+7] for x in range(0, len(PWM_diNT_scores_seq),7)]\n",
    "\n"
   ]
  },
  {
   "cell_type": "code",
   "execution_count": 124,
   "metadata": {
    "collapsed": false,
    "deletable": true,
    "editable": true
   },
   "outputs": [],
   "source": [
    "\n",
    "# # have to multiply every 7 indices\n",
    "    \n",
    "import operator\n",
    "import functools\n",
    "\n",
    "PWM_scores_seq = []\n",
    "for i in range(len(list_of_tuples_by_seven)):\n",
    "    PWM_scores_seq.append(functools.reduce(operator.mul, list_of_tuples_by_seven[i], 7))\n",
    "\n"
   ]
  },
  {
   "cell_type": "code",
   "execution_count": 125,
   "metadata": {
    "collapsed": false,
    "deletable": true,
    "editable": true
   },
   "outputs": [],
   "source": [
    "#convert to pandas series to easily manipulate\n",
    "pandas_PWM_scores_viral = pd.Series(PWM_scores_seq)\n",
    "\n",
    "import math\n",
    "final_data_viral = pandas_PWM_scores_viral*math.exp(4.602730)"
   ]
  },
  {
   "cell_type": "code",
   "execution_count": 8,
   "metadata": {
    "collapsed": false,
    "deletable": true,
    "editable": true
   },
   "outputs": [
    {
     "data": {
      "image/png": "[encoded data removed]",
      "text/plain": [
       "<matplotlib.figure.Figure at 0x7effb50cd780>"
      ]
     },
     "metadata": {},
     "output_type": "display_data"
    }
   ],
   "source": [
    "plt.hist(final_data_viral, bins = 200)\n",
    "plt.show()"
   ]
  },
  {
   "cell_type": "markdown",
   "metadata": {
    "deletable": true,
    "editable": true
   },
   "source": [
    "# Below code is for generating dint pwm scores for human seq"
   ]
  },
  {
   "cell_type": "code",
   "execution_count": 103,
   "metadata": {
    "collapsed": true,
    "deletable": true,
    "editable": true
   },
   "outputs": [],
   "source": [
    "#1 ,  2,  3,  4,  5,  6, 7\n",
    "#-6, -5, -4, -3, -2, -1, +4, +5\n",
    "\n",
    "#have to scan through each dinucleotide position in seq\n",
    "#get the efficiency and multiply together\n",
    "#save into table\n",
    "\n",
    "import pandas as pd\n",
    "import numpy as np\n",
    "import matplotlib.pyplot as plt\n",
    "from Bio import SeqIO\n",
    "\n",
    "\n",
    "# 30_ATG_rest\n",
    "\n",
    "TIS_list = []\n",
    "#get the sequence out of the fasta file # should start at 24 until 35\n",
    "for seq_record in SeqIO.parse(\"hs_all_nodup_u36.fasta\", \"fasta\"):\n",
    "    #transcribes from DNA to RNA by replacing T with U\n",
    "    TIS_list.append(seq_record.seq.upper()[30:41].transcribe())\n",
    "\n"
   ]
  },
  {
   "cell_type": "code",
   "execution_count": 104,
   "metadata": {
    "collapsed": true,
    "deletable": true,
    "editable": true
   },
   "outputs": [],
   "source": [
    "def PWM(dinucleotide, position):\n",
    "    #convert efficiency into float\n",
    "    return float(diNT_csv_dictionary[dinucleotide, position])"
   ]
  },
  {
   "cell_type": "code",
   "execution_count": 105,
   "metadata": {
    "collapsed": false,
    "deletable": true,
    "editable": true
   },
   "outputs": [],
   "source": [
    "seq_dint_tuple_list = []\n",
    "for i in range(len(TIS_list)):\n",
    "\n",
    "    for j in range(0,5):\n",
    "        seq_dint_tuple_list.append((str(TIS_list[i][j:j+2]), j+1))\n",
    "\n",
    "    # add dint position 6\n",
    "    seq_dint_tuple_list.append((TIS_list[i][5]+TIS_list[i][9], 6))\n",
    "\n",
    "\n",
    "    # add dint position 7\n",
    "    seq_dint_tuple_list.append((TIS_list[i][9]+TIS_list[i][10], 7))\n",
    "    \n"
   ]
  },
  {
   "cell_type": "code",
   "execution_count": 106,
   "metadata": {
    "collapsed": false,
    "deletable": true,
    "editable": true
   },
   "outputs": [],
   "source": [
    "#first index is 0 to 6\n",
    "#2nd index is from 0 to 1\n",
    "\n",
    "#have to accumulate every 7 PWMs\n",
    "\n",
    "PWM_diNT_scores_seq = []\n",
    "for i in range(len(seq_dint_tuple_list)):\n",
    "    PWM_diNT_scores_seq.append(PWM(seq_dint_tuple_list[i][0], str(seq_dint_tuple_list[i][1])))\n",
    "\n",
    "\n",
    "\n",
    "    \n",
    "    \n",
    "list_of_tuples_by_seven = [PWM_diNT_scores_seq[x:x+7] for x in range(0, len(PWM_diNT_scores_seq),7)]\n",
    "\n"
   ]
  },
  {
   "cell_type": "code",
   "execution_count": 107,
   "metadata": {
    "collapsed": false,
    "deletable": true,
    "editable": true
   },
   "outputs": [],
   "source": [
    "\n",
    "# # have to multiply every 7 indices\n",
    "    \n",
    "import operator\n",
    "import functools\n",
    "\n",
    "PWM_scores_seq = []\n",
    "for i in range(len(list_of_tuples_by_seven)):\n",
    "    PWM_scores_seq.append(functools.reduce(operator.mul, list_of_tuples_by_seven[i], 7))\n",
    "\n"
   ]
  },
  {
   "cell_type": "code",
   "execution_count": 109,
   "metadata": {
    "collapsed": false,
    "deletable": true,
    "editable": true
   },
   "outputs": [
    {
     "data": {
      "image/png": "[encoded data removed]",
      "text/plain": [
       "<matplotlib.figure.Figure at 0x7f07c47d2940>"
      ]
     },
     "metadata": {},
     "output_type": "display_data"
    }
   ],
   "source": [
    "#convert to pandas series to easily manipulate\n",
    "pandas_PWM_scores_human = pd.Series(PWM_scores_seq)\n",
    "\n",
    "import math\n",
    "final_data_human = pandas_PWM_scores_human*math.exp(4.602730)\n",
    "\n",
    "plt.hist(final_data_human, bins = 200)\n",
    "plt.show()"
   ]
  },
  {
   "cell_type": "markdown",
   "metadata": {
    "deletable": true,
    "editable": true
   },
   "source": [
    "# attempting to draw both on same graph"
   ]
  },
  {
   "cell_type": "code",
   "execution_count": 183,
   "metadata": {
    "collapsed": false,
    "deletable": true,
    "editable": true
   },
   "outputs": [
    {
     "data": {
      "image/png": "[encoded data removed]",
      "text/plain": [
       "<matplotlib.figure.Figure at 0x7facd5fa4898>"
      ]
     },
     "metadata": {},
     "output_type": "display_data"
    }
   ],
   "source": [
    "import numpy as np\n",
    "import matplotlib.pyplot as plt\n",
    "\n",
    "x = final_data_human\n",
    "y = final_data_viral\n",
    "\n",
    "fig = plt.figure()\n",
    "ax = fig.add_subplot(111)\n",
    "n, bins, rectangles = ax.hist(x, 500, normed=True)\n",
    "fig.canvas.draw()\n",
    "plt.show()"
   ]
  },
  {
   "cell_type": "markdown",
   "metadata": {
    "deletable": true,
    "editable": true
   },
   "source": [
    "# density distribution of both viral and human seq scored by dint pwm"
   ]
  },
  {
   "cell_type": "code",
   "execution_count": 131,
   "metadata": {
    "collapsed": false,
    "deletable": true,
    "editable": true
   },
   "outputs": [
    {
     "data": {
      "image/png": "[encoded data removed]",
      "text/plain": [
       "<matplotlib.figure.Figure at 0x7f07b60f57b8>"
      ]
     },
     "metadata": {},
     "output_type": "display_data"
    }
   ],
   "source": [
    "#plots densities of the efficiencies\n",
    "\n",
    "import matplotlib.pyplot as plt\n",
    "import numpy as np\n",
    "from scipy.stats import gaussian_kde\n",
    "\n",
    "data_human = final_data_human\n",
    "\n",
    "density_human = gaussian_kde(data_human)\n",
    "\n",
    "\n",
    "data_viral = final_data_viral\n",
    "\n",
    "density_viral = gaussian_kde(data_viral)\n",
    "\n",
    "\n",
    "xs = np.linspace(-1000,4000,2000)\n",
    "\n",
    "density_viral.covariance_factor = lambda : .25\n",
    "\n",
    "density_viral._compute_covariance()\n",
    "\n",
    "\n",
    "density_human.covariance_factor = lambda : .25\n",
    "\n",
    "density_human._compute_covariance()\n",
    "\n",
    "\n",
    "plt.plot(xs,density_viral(xs), label = \"viral TIS\")\n",
    "plt.plot(xs,density_human(xs), label = \"human TIS\")\n",
    "plt.legend()\n",
    "plt.show()\n",
    "\n",
    "#human"
   ]
  },
  {
   "cell_type": "code",
   "execution_count": 129,
   "metadata": {
    "collapsed": false,
    "deletable": true,
    "editable": true
   },
   "outputs": [],
   "source": [
    "SAVETHISVIRAL = final_data_viral\n",
    "SAVETHISHUMAN = final_data_human"
   ]
  },
  {
   "cell_type": "markdown",
   "metadata": {
    "deletable": true,
    "editable": true
   },
   "source": [
    "# attempt to randomize human TIS and score"
   ]
  },
  {
   "cell_type": "code",
   "execution_count": 110,
   "metadata": {
    "collapsed": false,
    "deletable": true,
    "editable": true
   },
   "outputs": [],
   "source": [
    "#TODO\n",
    "# randomized human TIS from Ho\n",
    "# scramble TIS for each seq\n",
    "\n",
    "from Bio import SeqIO\n",
    "TIS_list = []\n",
    "#get the sequence out of the fasta file # should start at 24 until 35\n",
    "for seq_record in SeqIO.parse(\"hs_all_nodup_u36.fasta\", \"fasta\"):\n",
    "    #transcribes from DNA to RNA by replacing T with U\n",
    "    TIS_list.append(seq_record.seq.upper()[30:41].transcribe())\n",
    "\n",
    "\n",
    "\n",
    "#FIX FASTA ANNOTATOR\n",
    "#run it on plant viruses\n",
    "\n"
   ]
  },
  {
   "cell_type": "code",
   "execution_count": 115,
   "metadata": {
    "collapsed": false,
    "deletable": true,
    "editable": true
   },
   "outputs": [
    {
     "data": {
      "image/png": "[encoded data removed]",
      "text/plain": [
       "<matplotlib.figure.Figure at 0x7f07bbe09748>"
      ]
     },
     "metadata": {},
     "output_type": "display_data"
    }
   ],
   "source": [
    "#rerun to get more random seq\n",
    "import numpy\n",
    "import random\n",
    "from Bio.SeqRecord import SeqRecord\n",
    "from Bio.Seq import Seq\n",
    "from Bio.Alphabet import generic_rna\n",
    "\n",
    "shuffled_TIS_list =[]\n",
    "\n",
    "for each in TIS_list:\n",
    "    TIS_only = str(each[0:6] + each[9:11])\n",
    "    \n",
    "    #shuffles a string\n",
    "    shuffled_TIS_source_string = ''.join(random.sample(TIS_only,len(TIS_only)))\n",
    "\n",
    "    \n",
    "    shuffled_record = Seq(shuffled_TIS_source_string[0:6] + \"AUG\" + shuffled_TIS_source_string[6:8], \n",
    "            generic_rna)\n",
    "    shuffled_TIS_list.append(shuffled_record)\n",
    "\n",
    "\n",
    "    \n",
    "    \n",
    "    \n",
    "seq_dint_tuple_list = []\n",
    "for i in range(len(shuffled_TIS_list)):\n",
    "\n",
    "    for j in range(0,5):\n",
    "        seq_dint_tuple_list.append((str(shuffled_TIS_list[i][j:j+2]), j+1))\n",
    "\n",
    "    # add dint position 6\n",
    "    seq_dint_tuple_list.append((shuffled_TIS_list[i][5]+TIS_list[i][9], 6))\n",
    "\n",
    "\n",
    "    # add dint position 7\n",
    "    seq_dint_tuple_list.append((shuffled_TIS_list[i][9]+TIS_list[i][10], 7))\n",
    "    \n",
    "\n",
    "    \n",
    "    #first index is 0 to 6\n",
    "#2nd index is from 0 to 1\n",
    "\n",
    "#have to accumulate every 7 PWMs\n",
    "\n",
    "PWM_diNT_scores_seq = []\n",
    "for i in range(len(seq_dint_tuple_list)):\n",
    "    PWM_diNT_scores_seq.append(PWM(seq_dint_tuple_list[i][0], str(seq_dint_tuple_list[i][1])))\n",
    "\n",
    "\n",
    "\n",
    "    \n",
    "    \n",
    "list_of_tuples_by_seven = [PWM_diNT_scores_seq[x:x+7] for x in range(0, len(PWM_diNT_scores_seq),7)]\n",
    "\n",
    "\n",
    "\n",
    "\n",
    "\n",
    "# # have to multiply every 7 indices\n",
    "    \n",
    "import operator\n",
    "import functools\n",
    "\n",
    "PWM_scores_seq = []\n",
    "for i in range(len(list_of_tuples_by_seven)):\n",
    "    PWM_scores_seq.append(functools.reduce(operator.mul, list_of_tuples_by_seven[i], 7))\n",
    "\n",
    "\n",
    "    \n",
    "import pandas as pd\n",
    "import matplotlib.pyplot as plt\n",
    "#convert to pandas series to easily manipulate\n",
    "pandas_PWM_scores_human = pd.Series(PWM_scores_seq)\n",
    "\n",
    "import math\n",
    "shuffled_human = pandas_PWM_scores_human*math.exp(4.602730)\n",
    "\n",
    "plt.hist(shuffled_human, bins = 200)\n",
    "plt.show()\n",
    "#looks the same\n"
   ]
  },
  {
   "cell_type": "code",
   "execution_count": 132,
   "metadata": {
    "collapsed": false
   },
   "outputs": [
    {
     "data": {
      "image/png": "[encoded data removed]",
      "text/plain": [
       "<matplotlib.figure.Figure at 0x7f07b0236fd0>"
      ]
     },
     "metadata": {},
     "output_type": "display_data"
    }
   ],
   "source": [
    "#plots densities of the efficiencies\n",
    "\n",
    "import matplotlib.pyplot as plt\n",
    "import numpy as np\n",
    "from scipy.stats import gaussian_kde\n",
    "\n",
    "data_human = final_data_human\n",
    "\n",
    "density_human = gaussian_kde(data_human)\n",
    "\n",
    "\n",
    "data_hum_shuffled = shuffled_human\n",
    "\n",
    "density_hum_shuffled = gaussian_kde(data_hum_shuffled)\n",
    "\n",
    "\n",
    "xs = np.linspace(-1000,4000,2000)\n",
    "\n",
    "density_hum_shuffled.covariance_factor = lambda : .25\n",
    "\n",
    "density_hum_shuffled._compute_covariance()\n",
    "\n",
    "\n",
    "density_human.covariance_factor = lambda : .25\n",
    "\n",
    "density_human._compute_covariance()\n",
    "\n",
    "\n",
    "plt.plot(xs,density_hum_shuffled(xs), label = \"human shuffled TIS\")\n",
    "plt.plot(xs,density_human(xs), label = \"human raw TIS\")\n",
    "plt.plot(xs,density_viral(xs), label = \"viral TIS\")\n",
    "\n",
    "plt.legend()\n",
    "plt.show()\n",
    "#human"
   ]
  }
 ],
 "metadata": {
  "kernelspec": {
   "display_name": "Python 3",
   "language": "python",
   "name": "python3"
  },
  "language_info": {
   "codemirror_mode": {
    "name": "ipython",
    "version": 3
   },
   "file_extension": ".py",
   "mimetype": "text/x-python",
   "name": "python",
   "nbconvert_exporter": "python",
   "pygments_lexer": "ipython3",
   "version": "3.6.0"
  }
 },
 "nbformat": 4,
 "nbformat_minor": 2
}
