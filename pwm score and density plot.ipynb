{
 "cells": [
  {
   "cell_type": "markdown",
   "metadata": {
    "deletable": true,
    "editable": true
   },
   "source": [
    "# Read CSV to make diNT PWM used for looking up the scores"
   ]
  },
  {
   "cell_type": "code",
   "execution_count": 1,
   "metadata": {
    "collapsed": true,
    "deletable": true,
    "editable": true
   },
   "outputs": [],
   "source": [
    "import csv\n",
    "\n",
    "diNT_csv_dictionary = {}\n",
    "\n",
    "#opens csv file, reads into a dictionary\n",
    "with open('diNTpwm_fordict.csv') as csvfile:\n",
    "    reader = csv.DictReader(csvfile)\n",
    "    for row in reader:\n",
    "        diNT_csv_dictionary[row['dinucleotide'], row['position']] = row['efficiency']"
   ]
  },
  {
   "cell_type": "markdown",
   "metadata": {
    "deletable": true,
    "editable": true
   },
   "source": [
    "# diNT PWM score TIS"
   ]
  },
  {
   "cell_type": "markdown",
   "metadata": {
    "deletable": true,
    "editable": true
   },
   "source": [
    "``  1 , 2,  3,  4,  5,  6,  7 ``\n",
    "\n",
    "`` -6, -5, -4, -3, -2, -1, +4, +5 ``\n"
   ]
  },
  {
   "cell_type": "code",
   "execution_count": 2,
   "metadata": {
    "collapsed": true,
    "deletable": true,
    "editable": true
   },
   "outputs": [],
   "source": [
    "#have to scan through each dinucleotide position in seq\n",
    "#get the efficiency and multiply together\n",
    "#save into table\n",
    "\n",
    "import pandas as pd\n",
    "import numpy as np\n",
    "import matplotlib.pyplot as plt\n",
    "from Bio import SeqIO\n",
    "\n",
    "import operator\n",
    "import functools\n",
    "\n",
    "import math\n",
    "\n"
   ]
  },
  {
   "cell_type": "markdown",
   "metadata": {
    "deletable": true,
    "editable": true
   },
   "source": [
    "Load sequences into differnet TIS lists, from #30_ATG_rest and transcribe to RNA"
   ]
  },
  {
   "cell_type": "code",
   "execution_count": 3,
   "metadata": {
    "collapsed": false,
    "deletable": true,
    "editable": true,
    "slideshow": {
     "slide_type": "-"
    }
   },
   "outputs": [],
   "source": [
    "all_possible_TIS_list = []\n",
    "\n",
    "for all_possible_seq_record in SeqIO.parse(\"all_possible_TIS.fasta\", \"fasta\"):\n",
    "    all_possible_TIS_list.append(all_possible_seq_record.seq)\n",
    "\n",
    "\n",
    "\n",
    "viral_TIS_list = []\n",
    "#get the sequence out of the fasta file # should start at 24 until 35\n",
    "for viral_seq_record in SeqIO.parse(\"viral_all_30up_toSTOP.fasta\", \"fasta\"):\n",
    "    #transcribes from DNA to RNA by replacing T with U\n",
    "    viral_TIS_list.append(viral_seq_record.seq[24:35].transcribe())\n",
    "    \n",
    "    \n",
    "\n",
    "\n",
    "# Scanning = []\n",
    "# IRES = []\n",
    "# LS = []\n",
    "# NSP = []\n",
    "# RS = []\n",
    "# TR = []\n",
    "# VPG = []\n",
    "# UNKNOWN = []\n",
    "    \n",
    "\n",
    "SCANNING_VIRAL_TIS_LIST = []\n",
    "#get the sequence out of the fasta file # should start at 24 until 35\n",
    "for viral_seq_record in SeqIO.parse(\"SCANNING_viral_all_30up_toSTOP_SEP.fasta\", \"fasta\"):\n",
    "    #transcribes from DNA to RNA by replacing T with U\n",
    "    SCANNING_VIRAL_TIS_LIST.append(viral_seq_record.seq[24:35].transcribe())\n",
    "    \n",
    "IRES_VIRAL_TIS_LIST = []\n",
    "#get the sequence out of the fasta file # should start at 24 until 35\n",
    "for viral_seq_record in SeqIO.parse(\"IRES_viral_all_30up_toSTOP_SEP.fasta\", \"fasta\"):\n",
    "    #transcribes from DNA to RNA by replacing T with U\n",
    "    IRES_VIRAL_TIS_LIST.append(viral_seq_record.seq[24:35].transcribe())\n",
    "    \n",
    "LEAKY_VIRAL_TIS_LIST = []\n",
    "#get the sequence out of the fasta file # should start at 24 until 35\n",
    "for viral_seq_record in SeqIO.parse(\"LEAKY_viral_all_30up_toSTOP_SEP.fasta\", \"fasta\"):\n",
    "    #transcribes from DNA to RNA by replacing T with U\n",
    "    LEAKY_VIRAL_TIS_LIST.append(viral_seq_record.seq[24:35].transcribe())\n",
    "    \n",
    "NSP_VIRAL_TIS_LIST = []\n",
    "#get the sequence out of the fasta file # should start at 24 until 35\n",
    "for viral_seq_record in SeqIO.parse(\"NSP_viral_all_30up_toSTOP_SEP.fasta\", \"fasta\"):\n",
    "    #transcribes from DNA to RNA by replacing T with U\n",
    "    NSP_VIRAL_TIS_LIST.append(viral_seq_record.seq[24:35].transcribe())\n",
    "    \n",
    "RIBOSOMESHUNTING_TIS_LIST = []\n",
    "#get the sequence out of the fasta file # should start at 24 until 35\n",
    "for viral_seq_record in SeqIO.parse(\"RIBOSOMESHUNTING_viral_all_30up_toSTOP_SEP.fasta\", \"fasta\"):\n",
    "    #transcribes from DNA to RNA by replacing T with U\n",
    "    RIBOSOMESHUNTING_TIS_LIST.append(viral_seq_record.seq[24:35].transcribe())\n",
    "    \n",
    "    \n",
    "    \n",
    "TERMINATIONINITIATION_TIS_LIST = []\n",
    "#get the sequence out of the fasta file # should start at 24 until 35\n",
    "for viral_seq_record in SeqIO.parse(\"TERMINATIONREINITIATION_viral_all_30up_toSTOP_SEP.fasta\", \"fasta\"):\n",
    "    #transcribes from DNA to RNA by replacing T with U\n",
    "    TERMINATIONINITIATION_TIS_LIST.append(viral_seq_record.seq[24:35].transcribe())\n",
    "    \n",
    "    \n",
    "    \n",
    "VPG_TIS_LIST = []\n",
    "#get the sequence out of the fasta file # should start at 24 until 35\n",
    "for viral_seq_record in SeqIO.parse(\"VPG_viral_all_30up_toSTOP_SEP.fasta\", \"fasta\"):\n",
    "    #transcribes from DNA to RNA by replacing T with U\n",
    "    VPG_TIS_LIST.append(viral_seq_record.seq[24:35].transcribe())\n",
    "    \n",
    "    \n",
    "    \n",
    "    \n",
    "UNKNOWN_TIS_LIST = []\n",
    "#get the sequence out of the fasta file # should start at 24 until 35\n",
    "for viral_seq_record in SeqIO.parse(\"UNKNOWN_viral_all_30up_toSTOP_SEP.fasta\", \"fasta\"):\n",
    "    #transcribes from DNA to RNA by replacing T with U\n",
    "    UNKNOWN_TIS_LIST.append(viral_seq_record.seq[24:35].transcribe())\n",
    "    \n",
    "    \n",
    "    \n",
    "    \n",
    "    \n",
    "    \n",
    "    \n",
    "    \n",
    "    \n",
    "    \n",
    "    \n",
    "human_TIS_list = []\n",
    "for human_seq_record in SeqIO.parse(\"hs_all_nodup_u36.fasta\", \"fasta\"):\n",
    "    human_TIS_list.append(human_seq_record.seq.upper()[30:41].transcribe())\n",
    "    \n",
    "    \n",
    "    \n",
    "        \n",
    "gemini_TIS_list = []\n",
    "for gemini_seq_record in SeqIO.parse(\"YA_diNT_replace_C_gemini_5utr_orf.fasta\", \"fasta\"):\n",
    "    gemini_TIS_list.append(gemini_seq_record.seq.upper()[29:40].transcribe())  "
   ]
  },
  {
   "cell_type": "code",
   "execution_count": 4,
   "metadata": {
    "collapsed": true,
    "deletable": true,
    "editable": true
   },
   "outputs": [],
   "source": [
    "# above TIS_lists will be the input of below function"
   ]
  },
  {
   "cell_type": "markdown",
   "metadata": {
    "deletable": true,
    "editable": true
   },
   "source": [
    "# NEGATIVE Controls internal AUG"
   ]
  },
  {
   "cell_type": "code",
   "execution_count": 5,
   "metadata": {
    "collapsed": true,
    "deletable": true,
    "editable": true
   },
   "outputs": [],
   "source": [
    "viral_TIS_INTERNALAUG_list = []\n",
    "#get the sequence out of the fasta file # should start at 24 until 35\n",
    "for viral_seq_record in SeqIO.parse(\"viral_all_30up_toSTOP.fasta\", \"fasta\"):\n",
    "    #transcribes from DNA to RNA by replacing T with U\n",
    "    viral_TIS_INTERNALAUG_list.append(viral_seq_record.seq.transcribe())\n",
    "    \n",
    "# Scanning = []\n",
    "# IRES = []\n",
    "# LS = []\n",
    "# NSP = []\n",
    "# RS = []\n",
    "# TR = []\n",
    "# VPG = []\n",
    "# UNKNOWN = []\n",
    "    \n",
    "\n",
    "SCANNING_VIRAL_TIS_INTERNALAUG_LIST = []\n",
    "#get the sequence out of the fasta file # should start at 24 until 35\n",
    "for viral_seq_record in SeqIO.parse(\"SCANNING_viral_all_30up_toSTOP_SEP.fasta\", \"fasta\"):\n",
    "    #transcribes from DNA to RNA by replacing T with U\n",
    "    SCANNING_VIRAL_TIS_INTERNALAUG_LIST.append(viral_seq_record.seq.transcribe())\n",
    "    \n",
    "IRES_VIRAL_TIS_INTERNALAUG_LIST = []\n",
    "#get the sequence out of the fasta file # should start at 24 until 35\n",
    "for viral_seq_record in SeqIO.parse(\"IRES_viral_all_30up_toSTOP_SEP.fasta\", \"fasta\"):\n",
    "    #transcribes from DNA to RNA by replacing T with U\n",
    "    IRES_VIRAL_TIS_INTERNALAUG_LIST.append(viral_seq_record.seq.transcribe())\n",
    "    \n",
    "LEAKY_VIRAL_TIS_INTERNALAUG_LIST = []\n",
    "#get the sequence out of the fasta file # should start at 24 until 35\n",
    "for viral_seq_record in SeqIO.parse(\"LEAKY_viral_all_30up_toSTOP_SEP.fasta\", \"fasta\"):\n",
    "    #transcribes from DNA to RNA by replacing T with U\n",
    "    LEAKY_VIRAL_TIS_INTERNALAUG_LIST.append(viral_seq_record.seq.transcribe())\n",
    "    \n",
    "NSP_VIRAL_TIS_INTERNALAUG_LIST = []\n",
    "#get the sequence out of the fasta file # should start at 24 until 35\n",
    "for viral_seq_record in SeqIO.parse(\"NSP_viral_all_30up_toSTOP_SEP.fasta\", \"fasta\"):\n",
    "    #transcribes from DNA to RNA by replacing T with U\n",
    "    NSP_VIRAL_TIS_INTERNALAUG_LIST.append(viral_seq_record.seq.transcribe())\n",
    "    \n",
    "RIBOSOMESHUNTING_TIS_INTERNALAUG_LIST = []\n",
    "#get the sequence out of the fasta file # should start at 24 until 35\n",
    "for viral_seq_record in SeqIO.parse(\"RIBOSOMESHUNTING_viral_all_30up_toSTOP_SEP.fasta\", \"fasta\"):\n",
    "    #transcribes from DNA to RNA by replacing T with U\n",
    "    RIBOSOMESHUNTING_TIS_INTERNALAUG_LIST.append(viral_seq_record.seq.transcribe())\n",
    "    \n",
    "    \n",
    "    \n",
    "TERMINATIONINITIATION_TIS_INTERNALAUG_LIST = []\n",
    "#get the sequence out of the fasta file # should start at 24 until 35\n",
    "for viral_seq_record in SeqIO.parse(\"TERMINATIONREINITIATION_viral_all_30up_toSTOP_SEP.fasta\", \"fasta\"):\n",
    "    #transcribes from DNA to RNA by replacing T with U\n",
    "    TERMINATIONINITIATION_TIS_INTERNALAUG_LIST.append(viral_seq_record.seq.transcribe())\n",
    "    \n",
    "    \n",
    "    \n",
    "VPG_TIS_INTERNALAUG_LIST = []\n",
    "#get the sequence out of the fasta file # should start at 24 until 35\n",
    "for viral_seq_record in SeqIO.parse(\"VPG_viral_all_30up_toSTOP_SEP.fasta\", \"fasta\"):\n",
    "    #transcribes from DNA to RNA by replacing T with U\n",
    "    VPG_TIS_INTERNALAUG_LIST.append(viral_seq_record.seq.transcribe())\n",
    "    \n",
    "    \n",
    "    \n",
    "    \n",
    "UNKNOWN_TIS_INTERNALAUG_LIST = []\n",
    "#get the sequence out of the fasta file # should start at 24 until 35\n",
    "for viral_seq_record in SeqIO.parse(\"UNKNOWN_viral_all_30up_toSTOP_SEP.fasta\", \"fasta\"):\n",
    "    #transcribes from DNA to RNA by replacing T with U\n",
    "    UNKNOWN_TIS_INTERNALAUG_LIST.append(viral_seq_record.seq.transcribe())\n",
    "    \n",
    "    \n",
    "    \n",
    "    \n",
    "    \n",
    "    \n",
    "    \n",
    "    \n",
    "    \n",
    "    \n",
    "    \n",
    "human_TIS_INTERNALAUG_list = []\n",
    "for human_seq_record in SeqIO.parse(\"hs_all_nodup_u36.fasta\", \"fasta\"):\n",
    "    human_TIS_INTERNALAUG_list.append(human_seq_record.seq.upper().transcribe())\n",
    "    \n",
    "    \n",
    "    \n",
    "        \n",
    "gemini_TIS_INTERNALAUG_list = []\n",
    "for gemini_seq_record in SeqIO.parse(\"YA_diNT_replace_C_gemini_5utr_orf.fasta\", \"fasta\"):\n",
    "    gemini_TIS_INTERNALAUG_list.append(gemini_seq_record.seq.upper().transcribe())  \n",
    "\n"
   ]
  },
  {
   "cell_type": "markdown",
   "metadata": {
    "deletable": true,
    "editable": true
   },
   "source": [
    "# test code for getting the first AUG in a sequence"
   ]
  },
  {
   "cell_type": "code",
   "execution_count": 6,
   "metadata": {
    "collapsed": true,
    "deletable": true,
    "editable": true
   },
   "outputs": [],
   "source": [
    "#find's the nth occurence of something\n",
    "#SOURCE: http://stackoverflow.com/questions/1883980/find-the-nth-occurrence-of-substring-in-a-string\n",
    "def findnth(haystack, needle, n):\n",
    "    parts= haystack.split(needle, n+1)\n",
    "    if len(parts)<=n+1:\n",
    "        return -1\n",
    "    return len(haystack)-len(parts[-1])-len(needle)"
   ]
  },
  {
   "cell_type": "code",
   "execution_count": 7,
   "metadata": {
    "collapsed": false,
    "deletable": true,
    "editable": true
   },
   "outputs": [],
   "source": [
    "#returns a list\n",
    "def extract_AUG_and_surroundings(seq_list, string_to_search ,n):\n",
    "\n",
    "    extracted_downstream_AUG = []\n",
    "    \n",
    "    for each in seq_list:\n",
    "        #will give you the index of the 2nd CHARACTER of \"AUG\"\n",
    "        internal_start_codon_index = findnth(str(each),string_to_search,n)\n",
    "\n",
    "        #apply findnth to all sequences\n",
    "        single_down_AUG = each[internal_start_codon_index-6:internal_start_codon_index+5]\n",
    "        if len(single_down_AUG) == 11:\n",
    "            extracted_downstream_AUG.append(single_down_AUG)\n",
    "            \n",
    "            \n",
    "        #find all occurences of internal AUG, except those that are smaller than the size 11\n",
    "    return extracted_downstream_AUG\n"
   ]
  },
  {
   "cell_type": "markdown",
   "metadata": {
    "deletable": true,
    "editable": true
   },
   "source": [
    "# test code for getting first AUG in a sequence"
   ]
  },
  {
   "cell_type": "code",
   "execution_count": 8,
   "metadata": {
    "collapsed": false,
    "deletable": true,
    "editable": true
   },
   "outputs": [],
   "source": [
    "# viral_TIS_INTERNALAUG_list = []\n",
    "viral_INTERNAL_AUG = extract_AUG_and_surroundings(viral_TIS_INTERNALAUG_list,\"AUG\",1)\n",
    "\n",
    "# SCANNING_VIRAL_TIS_INTERNALAUG_LIST = []\n",
    "SCANNING_INTERNAL_AUG = extract_AUG_and_surroundings(SCANNING_VIRAL_TIS_INTERNALAUG_LIST,\"AUG\",1)\n",
    "\n",
    "# IRES_VIRAL_TIS_INTERNALAUG_LIST = []\n",
    "IRES_INTERNAL_AUG = extract_AUG_and_surroundings(IRES_VIRAL_TIS_INTERNALAUG_LIST,\"AUG\",1)\n",
    "\n",
    "# LEAKY_VIRAL_TIS_INTERNALAUG_LIST = []\n",
    "LEAKY_INTERNAL_AUG = extract_AUG_and_surroundings(LEAKY_VIRAL_TIS_INTERNALAUG_LIST,\"AUG\",1)\n",
    "\n",
    "# NSP_VIRAL_TIS_INTERNALAUG_LIST = []\n",
    "NSP_INTERNAL_AUG = extract_AUG_and_surroundings(NSP_VIRAL_TIS_INTERNALAUG_LIST,\"AUG\",1)\n",
    "\n",
    "# RIBOSOMESHUNTING_TIS_INTERNALAUG_LIST = []\n",
    "RS_INTERNAL_AUG = extract_AUG_and_surroundings(RIBOSOMESHUNTING_TIS_INTERNALAUG_LIST,\"AUG\",1)\n",
    "    \n",
    "# TERMINATIONINITIATION_TIS_INTERNALAUG_LIST = []\n",
    "TI_INTERNAL_AUG = extract_AUG_and_surroundings(TERMINATIONINITIATION_TIS_INTERNALAUG_LIST,\"AUG\",1)\n",
    "    \n",
    "# VPG_TIS_INTERNALAUG_LIST = []\n",
    "VPG_INTERNAL_AUG = extract_AUG_and_surroundings(VPG_TIS_INTERNALAUG_LIST,\"AUG\",1)\n",
    "\n",
    "# UNKNOWN_TIS_INTERNALAUG_LIST = []\n",
    "UNKN_INTERNAL_AUG = extract_AUG_and_surroundings(UNKNOWN_TIS_INTERNALAUG_LIST,\"AUG\",1)\n",
    "\n",
    "    \n",
    "# human_TIS_INTERNALAUG_list = []\n",
    "HUMAN_INTERNAL_AUG = extract_AUG_and_surroundings(human_TIS_INTERNALAUG_list,\"AUG\",1)\n",
    "\n",
    "# gemini_TIS_INTERNALAUG_list = []\n",
    "GEMINI_INTERNAL_AUG = extract_AUG_and_surroundings(gemini_TIS_INTERNALAUG_list,\"AUG\",1)\n"
   ]
  },
  {
   "cell_type": "markdown",
   "metadata": {
    "deletable": true,
    "editable": true
   },
   "source": [
    "# extract diNT from TIS_list and discard common AUG"
   ]
  },
  {
   "cell_type": "code",
   "execution_count": 9,
   "metadata": {
    "collapsed": true,
    "deletable": true,
    "editable": true
   },
   "outputs": [],
   "source": [
    "def diNT_tuple_gen(TIS_list):\n",
    "    \n",
    "    # MAKES A LIST OF DINT TUPLES FOR EACH TIS DISCARDING THE AUG - saves the diNT and its position\n",
    "    seq_dint_tuple_list = []\n",
    "    \n",
    "    for i in range(len(TIS_list)):\n",
    "\n",
    "        for j in range(0,5):\n",
    "            seq_dint_tuple_list.append((str(TIS_list[i][j:j+2]), j+1))\n",
    "\n",
    "        # add dint position 6\n",
    "        seq_dint_tuple_list.append((TIS_list[i][5]+TIS_list[i][9], 6))\n",
    "\n",
    "\n",
    "        # add dint position 7\n",
    "        seq_dint_tuple_list.append((TIS_list[i][9]+TIS_list[i][10], 7))\n",
    "    \n",
    "    return seq_dint_tuple_list"
   ]
  },
  {
   "cell_type": "markdown",
   "metadata": {
    "deletable": true,
    "editable": true
   },
   "source": [
    "# TESTING CODE to remove YA from gemini diNT"
   ]
  },
  {
   "cell_type": "code",
   "execution_count": 10,
   "metadata": {
    "collapsed": false,
    "deletable": true,
    "editable": true
   },
   "outputs": [],
   "source": [
    "# test_list = diNT_tuple_gen_test(gemini_TIS_list)\n",
    "\n",
    "# \"YA\" in test_list\n",
    "\n",
    "# test_list[0:2]\n",
    "\n",
    "\n",
    "# [('YA', 1) for ]"
   ]
  },
  {
   "cell_type": "markdown",
   "metadata": {
    "deletable": true,
    "editable": true
   },
   "source": [
    "\n",
    "# define PWM score lookup function"
   ]
  },
  {
   "cell_type": "code",
   "execution_count": 11,
   "metadata": {
    "collapsed": true,
    "deletable": true,
    "editable": true
   },
   "outputs": [],
   "source": [
    "def PWM(dinucleotide, position):\n",
    "    #convert efficiency into float\n",
    "    return float(diNT_csv_dictionary[dinucleotide, position])"
   ]
  },
  {
   "cell_type": "code",
   "execution_count": 12,
   "metadata": {
    "collapsed": true,
    "deletable": true,
    "editable": true
   },
   "outputs": [],
   "source": [
    "#first index is 0 to 6\n",
    "#2nd index is from 0 to 1\n",
    "\n",
    "#have to accumulate every 7 PWMs\n",
    "\n",
    "def score_seq_with_PWM(seq_dint_tuple_list):\n",
    "    \n",
    "    PWM_diNT_scores_seq = []\n",
    "    \n",
    "    #loop through all the tuples in the dint tuple list\n",
    "    for i in range(len(seq_dint_tuple_list)):\n",
    "        \n",
    "        #score each diNT, save the position and store into another list PWM_diNT_scores_seq\n",
    "        PWM_diNT_scores_seq.append(PWM(seq_dint_tuple_list[i][0], str(seq_dint_tuple_list[i][1])))\n",
    "\n",
    "\n",
    "    #group every 7 tuples which is a single sequence\n",
    "    list_of_tuples_by_seven = [PWM_diNT_scores_seq[x:x+7] for x in range(0, len(PWM_diNT_scores_seq),7)]\n",
    "\n",
    "\n",
    "    # have to multiply every 7 indices together to get single PWM score per sequence\n",
    "    PWM_scores_seq = []\n",
    "    for i in range(len(list_of_tuples_by_seven)):\n",
    "        PWM_scores_seq.append(functools.reduce(operator.mul, list_of_tuples_by_seven[i], 7))\n",
    "    \n",
    "    return PWM_scores_seq\n"
   ]
  },
  {
   "cell_type": "code",
   "execution_count": 13,
   "metadata": {
    "collapsed": true,
    "deletable": true,
    "editable": true
   },
   "outputs": [],
   "source": [
    "def convert_to_Pandas_series_adjust_K_val(PWM_scores_seq):\n",
    "    #convert to pandas series, a datastructure, to easily manipulate\n",
    "    pandas_PWM_scores = pd.Series(PWM_scores_seq)\n",
    "    \n",
    "                                                        #CHECK THIS COEFFICIENT\n",
    "    adjusted_PWM_scores = pandas_PWM_scores*math.exp(4.602730)\n",
    "    \n",
    "    return adjusted_PWM_scores"
   ]
  },
  {
   "cell_type": "markdown",
   "metadata": {
    "deletable": true,
    "editable": true
   },
   "source": [
    "# Plotting functions"
   ]
  },
  {
   "cell_type": "code",
   "execution_count": 14,
   "metadata": {
    "collapsed": true,
    "deletable": true,
    "editable": true
   },
   "outputs": [],
   "source": [
    "# plt.hist(adjusted_PWM_scores, bins = 200)\n",
    "# plt.show()"
   ]
  },
  {
   "cell_type": "markdown",
   "metadata": {
    "deletable": true,
    "editable": true
   },
   "source": [
    "# Randomize human TIS sequence"
   ]
  },
  {
   "cell_type": "markdown",
   "metadata": {
    "deletable": true,
    "editable": true
   },
   "source": [
    "# diNT PWM scoring pipeline"
   ]
  },
  {
   "cell_type": "code",
   "execution_count": 15,
   "metadata": {
    "collapsed": true,
    "deletable": true,
    "editable": true
   },
   "outputs": [],
   "source": [
    "import numpy\n",
    "import random\n",
    "from Bio.SeqRecord import SeqRecord\n",
    "from Bio.Seq import Seq\n",
    "from Bio.Alphabet import generic_rna\n",
    "\n",
    "#for human sequences make a new fresh list of TIS sequences\n",
    "from Bio import SeqIO\n",
    "rand_TIS_list = []\n",
    "#get the sequence out of the fasta file # should start at 24 until 35\n",
    "for rand_seq_record in SeqIO.parse(\"hs_all_nodup_u36.fasta\", \"fasta\"):\n",
    "    #transcribes from DNA to RNA by replacing T with U\n",
    "    rand_TIS_list.append(rand_seq_record.seq.upper()[30:41].transcribe())"
   ]
  },
  {
   "cell_type": "code",
   "execution_count": 16,
   "metadata": {
    "collapsed": true,
    "deletable": true,
    "editable": true
   },
   "outputs": [],
   "source": [
    "def scramble_TIS(rand_TIS_list):\n",
    "    #rerun to get more random seq\n",
    "    shuffled_TIS_list =[]\n",
    "\n",
    "    for each in rand_TIS_list:\n",
    "\n",
    "        #get the TIS only\n",
    "        TIS_only = str(each[0:6] + each[9:11])\n",
    "\n",
    "        #shuffles the TIS string\n",
    "        shuffled_TIS_source_string = ''.join(random.sample(TIS_only,len(TIS_only)))\n",
    "\n",
    "        shuffled_record = Seq(shuffled_TIS_source_string[0:6] + \"AUG\" + shuffled_TIS_source_string[6:8], \n",
    "                generic_rna)\n",
    "        shuffled_TIS_list.append(shuffled_record)\n",
    "    return shuffled_TIS_list\n",
    "    "
   ]
  },
  {
   "cell_type": "code",
   "execution_count": 17,
   "metadata": {
    "collapsed": false,
    "deletable": true,
    "editable": true
   },
   "outputs": [],
   "source": [
    "# #rerun to get more random seq\n",
    "# shuffled_TIS_list =[]\n",
    "\n",
    "# for each in rand_TIS_list:\n",
    "    \n",
    "#     #get the TIS only\n",
    "#     TIS_only = str(each[0:6] + each[9:11])\n",
    "    \n",
    "#     #shuffles the TIS string\n",
    "#     shuffled_TIS_source_string = ''.join(random.sample(TIS_only,len(TIS_only)))\n",
    "    \n",
    "#     shuffled_record = Seq(shuffled_TIS_source_string[0:6] + \"AUG\" + shuffled_TIS_source_string[6:8], \n",
    "#             generic_rna)\n",
    "#     shuffled_TIS_list.append(shuffled_record)\n",
    "    \n",
    "    \n",
    "    \n",
    "\n",
    "    \n",
    "# scrambled_diNT_tuple_list = diNT_tuple_gen(shuffled_TIS_list)\n",
    "\n",
    "# scrambled_PWM_scores = score_seq_with_PWM(scrambled_diNT_tuple_list)\n",
    "\n",
    "# scrambled_human_data = convert_to_Pandas_series_adjust_K_val(scrambled_PWM_scores)\n",
    "\n",
    "# plt.hist(scrambled_human_data,bins=200)\n",
    "# plt.show()\n",
    "    \n",
    "# seq_dint_tuple_list = []\n",
    "# for i in range(len(shuffled_TIS_list)):\n",
    "\n",
    "#     for j in range(0,5):\n",
    "#         seq_dint_tuple_list.append((str(shuffled_TIS_list[i][j:j+2]), j+1))\n",
    "\n",
    "#     # add dint position 6\n",
    "#     seq_dint_tuple_list.append((shuffled_TIS_list[i][5]+TIS_list[i][9], 6))\n",
    "\n",
    "\n",
    "#     # add dint position 7\n",
    "#     seq_dint_tuple_list.append((shuffled_TIS_list[i][9]+TIS_list[i][10], 7))\n",
    "    \n",
    "\n",
    "    \n",
    "    #first index is 0 to 6\n",
    "#2nd index is from 0 to 1\n",
    "\n",
    "#have to accumulate every 7 PWMs\n",
    "\n",
    "# PWM_diNT_scores_seq = []\n",
    "# for i in range(len(seq_dint_tuple_list)):\n",
    "#     PWM_diNT_scores_seq.append(PWM(seq_dint_tuple_list[i][0], str(seq_dint_tuple_list[i][1])))\n",
    "    \n",
    "# list_of_tuples_by_seven = [PWM_diNT_scores_seq[x:x+7] for x in range(0, len(PWM_diNT_scores_seq),7)]\n",
    "\n",
    "\n",
    "# # have to multiply every 7 indices\n",
    "    \n",
    "# import operator\n",
    "# import functools\n",
    "\n",
    "# PWM_scores_seq = []\n",
    "# for i in range(len(list_of_tuples_by_seven)):\n",
    "#     PWM_scores_seq.append(functools.reduce(operator.mul, list_of_tuples_by_seven[i], 7))\n"
   ]
  },
  {
   "cell_type": "code",
   "execution_count": 18,
   "metadata": {
    "collapsed": true,
    "deletable": true,
    "editable": true
   },
   "outputs": [],
   "source": [
    "all_possible_diNT_tuples = diNT_tuple_gen(all_possible_TIS_list)\n",
    "not_adjusted_all_possible_PWM_scores = score_seq_with_PWM(all_possible_diNT_tuples)\n",
    "all_possible_data = convert_to_Pandas_series_adjust_K_val(not_adjusted_all_possible_PWM_scores)\n",
    "\n",
    "\n",
    "viral_diNT_tuples = diNT_tuple_gen(viral_TIS_list)\n",
    "not_adjusted_viral_PWM_scores = score_seq_with_PWM(viral_diNT_tuples)\n",
    "viral_data = convert_to_Pandas_series_adjust_K_val(not_adjusted_viral_PWM_scores)\n",
    "\n",
    "\n",
    "s_v_t_l = diNT_tuple_gen(SCANNING_VIRAL_TIS_LIST)\n",
    "not_adjusted_s_v_t_l = score_seq_with_PWM(s_v_t_l)\n",
    "scanning_viral_data = convert_to_Pandas_series_adjust_K_val(not_adjusted_s_v_t_l)\n",
    "\n",
    "ivtl = diNT_tuple_gen(IRES_VIRAL_TIS_LIST)\n",
    "not_adjusted_ivtl = score_seq_with_PWM(ivtl)\n",
    "ires_viral_data = convert_to_Pandas_series_adjust_K_val(not_adjusted_ivtl)\n",
    "\n",
    "lvtl = diNT_tuple_gen(LEAKY_VIRAL_TIS_LIST)\n",
    "not_adjusted_lvtl = score_seq_with_PWM(lvtl)\n",
    "leaky_viral_data = convert_to_Pandas_series_adjust_K_val(not_adjusted_lvtl)\n",
    "\n",
    "nsvtl = diNT_tuple_gen(NSP_VIRAL_TIS_LIST)\n",
    "not_adjusted_nsvtl = score_seq_with_PWM(nsvtl)\n",
    "nsp_viral_data = convert_to_Pandas_series_adjust_K_val(not_adjusted_nsvtl)\n",
    "\n",
    "\n",
    "rstl = diNT_tuple_gen(RIBOSOMESHUNTING_TIS_LIST)\n",
    "not_adjusted_rstl = score_seq_with_PWM(rstl)\n",
    "rs_viral_data = convert_to_Pandas_series_adjust_K_val(not_adjusted_rstl)\n",
    "\n",
    "\n",
    "titl = diNT_tuple_gen(TERMINATIONINITIATION_TIS_LIST)\n",
    "not_adjusted_titl = score_seq_with_PWM(titl)\n",
    "ti_viral_data = convert_to_Pandas_series_adjust_K_val(not_adjusted_titl)\n",
    "\n",
    "\n",
    "\n",
    "vpgtl = diNT_tuple_gen(VPG_TIS_LIST)\n",
    "not_adjusted_vpgtl = score_seq_with_PWM(vpgtl)\n",
    "vpg_viral_data = convert_to_Pandas_series_adjust_K_val(not_adjusted_vpgtl)\n",
    "\n",
    "\n",
    "unknowntl = diNT_tuple_gen(UNKNOWN_TIS_LIST)\n",
    "not_adjusted_unknowntl = score_seq_with_PWM(unknowntl)\n",
    "unknown_viral_data = convert_to_Pandas_series_adjust_K_val(not_adjusted_unknowntl)\n",
    "    \n",
    "\n",
    "\n",
    "human_diNT_tuples = diNT_tuple_gen(human_TIS_list)\n",
    "not_adjusted_human_PWM_scores = score_seq_with_PWM(human_diNT_tuples)\n",
    "human_data = convert_to_Pandas_series_adjust_K_val(not_adjusted_human_PWM_scores)\n",
    "\n",
    "\n",
    "scram_human_TIS                      = scramble_TIS(human_TIS_list)\n",
    "\n",
    "scram_SCANNING_VIRAL_TIS_LIST        = scramble_TIS(SCANNING_VIRAL_TIS_LIST)\n",
    "scram_IRES_VIRAL_TIS_LIST            = scramble_TIS(IRES_VIRAL_TIS_LIST)\n",
    "scarm_LEAKY_VIRAL_TIS_LIST           = scramble_TIS(LEAKY_VIRAL_TIS_LIST)\n",
    "scram_NSP_VIRAL_TIS_LIST             = scramble_TIS(NSP_VIRAL_TIS_LIST)\n",
    "scram_RIBOSOMESHUNTING_TIS_LIST      = scramble_TIS(RIBOSOMESHUNTING_TIS_LIST)\n",
    "scram_TERMINATIONINITIATION_TIS_LIST = scramble_TIS(TERMINATIONINITIATION_TIS_LIST)\n",
    "scram_VPG_TIS_LIST                   = scramble_TIS(VPG_TIS_LIST)\n",
    "scram_UNKNOWN_TIS_LIST               = scramble_TIS(UNKNOWN_TIS_LIST)\n",
    "\n",
    "\n",
    "\n",
    "\n",
    "scram_human_TIS_diNT_tuple = diNT_tuple_gen(scram_human_TIS)\n",
    "no_adjust_scram_human_TIS = score_seq_with_PWM(scram_human_TIS_diNT_tuple)\n",
    "scram_human_data = convert_to_Pandas_series_adjust_K_val(no_adjust_scram_human_TIS)\n",
    "\n",
    "\n",
    "\n",
    "\n",
    "scram_SCANNING_VIRAL_TIS_LIST_diNT_tuple = diNT_tuple_gen(scram_SCANNING_VIRAL_TIS_LIST)\n",
    "no_adjust_SCANNING_VIRAL_TIS = score_seq_with_PWM(scram_SCANNING_VIRAL_TIS_LIST_diNT_tuple)\n",
    "scram_SCANNING_data = convert_to_Pandas_series_adjust_K_val(no_adjust_SCANNING_VIRAL_TIS)\n",
    "\n",
    "scram_IRES_VIRAL_TIS_LIST_diNT_tuple = diNT_tuple_gen(scram_IRES_VIRAL_TIS_LIST)\n",
    "no_adjust_IRES_VIRAL_TIS = score_seq_with_PWM(scram_IRES_VIRAL_TIS_LIST_diNT_tuple)\n",
    "scram_IRES_data = convert_to_Pandas_series_adjust_K_val(no_adjust_IRES_VIRAL_TIS)\n",
    "\n",
    "scarm_LEAKY_VIRAL_TIS_LIST_diNT_tuple = diNT_tuple_gen(scarm_LEAKY_VIRAL_TIS_LIST)\n",
    "no_adjust_LEAKY_VIRA_TIS = score_seq_with_PWM(scarm_LEAKY_VIRAL_TIS_LIST_diNT_tuple)\n",
    "scram_LEAKY_data = convert_to_Pandas_series_adjust_K_val(no_adjust_LEAKY_VIRA_TIS)\n",
    "\n",
    "scram_NSP_VIRAL_TIS_LIST_diNT_tuple = diNT_tuple_gen(scram_NSP_VIRAL_TIS_LIST)\n",
    "no_adjust_NSP_VIRAL_TIS = score_seq_with_PWM(scram_NSP_VIRAL_TIS_LIST_diNT_tuple)\n",
    "scram_NSP_data = convert_to_Pandas_series_adjust_K_val(no_adjust_NSP_VIRAL_TIS)\n",
    "\n",
    "scram_RIBOSOMESHUNTING_TIS_LIST_diNT_tuple = diNT_tuple_gen(scram_RIBOSOMESHUNTING_TIS_LIST)\n",
    "no_adjust_RIBOSOMESHUNTING_TIS_TIS = score_seq_with_PWM(scram_RIBOSOMESHUNTING_TIS_LIST_diNT_tuple)\n",
    "scram_RS_data = convert_to_Pandas_series_adjust_K_val(no_adjust_RIBOSOMESHUNTING_TIS_TIS)\n",
    "\n",
    "scram_TERMINATIONINITIATION_TIS_LIST_diNT_tuple = diNT_tuple_gen(scram_TERMINATIONINITIATION_TIS_LIST)\n",
    "no_adjust_TERMINATIONINITIATION_TIS = score_seq_with_PWM(scram_TERMINATIONINITIATION_TIS_LIST_diNT_tuple)\n",
    "scram_TI_data = convert_to_Pandas_series_adjust_K_val(no_adjust_TERMINATIONINITIATION_TIS)\n",
    "\n",
    "scram_VPG_TIS_LIST_diNT_tuple = diNT_tuple_gen(scram_VPG_TIS_LIST)\n",
    "no_adjust_scram_VPG_TIS = score_seq_with_PWM(scram_VPG_TIS_LIST_diNT_tuple)\n",
    "scram_VPG_data = convert_to_Pandas_series_adjust_K_val(no_adjust_scram_VPG_TIS)\n",
    "\n",
    "scram_UNKNOWN_TIS_LIST_diNT_tuple = diNT_tuple_gen(scram_UNKNOWN_TIS_LIST)\n",
    "no_adjust_scram_UNKNOWN_TIS = score_seq_with_PWM(scram_UNKNOWN_TIS_LIST_diNT_tuple)\n",
    "scram_UNKNOWN_data = convert_to_Pandas_series_adjust_K_val(no_adjust_scram_UNKNOWN_TIS)\n",
    "\n",
    "\n",
    "\n",
    "gemini_diNT_tuples = diNT_tuple_gen(gemini_TIS_list)\n",
    "not_adjusted_gemini_PWM_scores = score_seq_with_PWM(gemini_diNT_tuples) \n",
    "#messed up diNT \"YA\"  so just skip the YA diNT\n",
    "gemini_data = convert_to_Pandas_series_adjust_K_val(not_adjusted_gemini_PWM_scores)\n",
    "\n",
    "\n",
    "\n",
    "\n",
    "\n",
    "\n",
    "\n",
    "\n",
    "\n",
    "\n",
    "\n",
    "\n",
    "\n",
    "# viral_IA_DNTT = diNT_tuple_gen(viral_INTERNAL_AUG)\n",
    "# NA_viral_IA_DNTT = score_seq_with_PWM(viral_IA_DNTT)\n",
    "# viral_IA_scores = convert_to_Pandas_series_adjust_K_val(NA_viral_IA_DNTT)\n",
    "\n",
    "# SCANNING_IA_DNTT = diNT_tuple_gen(SCANNING_INTERNAL_AUG)\n",
    "# NA_SCANNING_IA_DNTT = score_seq_with_PWM(SCANNING_IA_DNTT)\n",
    "# SCANNING_IA_scores = convert_to_Pandas_series_adjust_K_val(NA_SCANNING_IA_DNTT)\n",
    "\n",
    "# IRES_IA_DNTT = diNT_tuple_gen(IRES_INTERNAL_AUG)\n",
    "# NA_IRES_IA_DNTT = score_seq_with_PWM(IRES_IA_DNTT)\n",
    "# IRES_IA__scores = convert_to_Pandas_series_adjust_K_val(NA_IRES_IA_DNTT)\n",
    "\n",
    "# LEAKY_IA_DNTT = diNT_tuple_gen(LEAKY_INTERNAL_AUG)\n",
    "# NA_LEAKY_IA_DNTT = score_seq_with_PWM(LEAKY_IA_DNTT)\n",
    "# LEAKY_IA_scores = convert_to_Pandas_series_adjust_K_val(NA_LEAKY_IA_DNTT)\n",
    "\n",
    "# NSP_IA_DNTT = diNT_tuple_gen(NSP_INTERNAL_AUG)\n",
    "# NA_NSP_IA_DNTT = score_seq_with_PWM(NSP_IA_DNTT)\n",
    "# NSP_IA_scores = convert_to_Pandas_series_adjust_K_val(NA_NSP_IA_DNTT)\n",
    "\n",
    "# RS_IA_DNTT = diNT_tuple_gen(RS_INTERNAL_AUG)\n",
    "# NA_RS_IA_DNTT = score_seq_with_PWM(RS_IA_DNTT)\n",
    "# RS_IA_scores = convert_to_Pandas_series_adjust_K_val(NA_RS_IA_DNTT)\n",
    "\n",
    "# TI_IA_DNTT = diNT_tuple_gen(TI_INTERNAL_AUG)\n",
    "# NA_TI_IA_DNTT = score_seq_with_PWM(TI_IA_DNTT)\n",
    "# TI_IA_scores = convert_to_Pandas_series_adjust_K_val(NA_TI_IA_DNTT)\n",
    "\n",
    "# VPG_IA_DNTT = diNT_tuple_gen(VPG_INTERNAL_AUG)\n",
    "# NA_VPG_IA_DNTT = score_seq_with_PWM(VPG_IA_DNTT)\n",
    "# VPG_IA_scores = convert_to_Pandas_series_adjust_K_val(NA_VPG_IA_DNTT)\n",
    "\n",
    "# UNKN_IA_DNTT = diNT_tuple_gen(UNKN_INTERNAL_AUG)\n",
    "# NA_UNKN_IA_DNTT = score_seq_with_PWM(UNKN_IA_DNTT)\n",
    "# UNKN_IA_scores = convert_to_Pandas_series_adjust_K_val(NA_UNKN_IA_DNTT)\n",
    "\n",
    "# HUMAN_IA_DNTT = diNT_tuple_gen(HUMAN_INTERNAL_AUG)\n",
    "# NA_HUMAN_IA_DNTT = score_seq_with_PWM(HUMAN_IA_DNTT)\n",
    "# HUMAN_IA_scores = convert_to_Pandas_series_adjust_K_val(NA_HUMAN_IA_DNTT)\n",
    "\n",
    "# GEMINI_IA_DNTT = diNT_tuple_gen(GEMINI_INTERNAL_AUG)\n",
    "# NA_GEMINI_IA_DNTT = score_seq_with_PWM(GEMINI_IA_DNTT)\n",
    "# GEMINI_IA_scores = convert_to_Pandas_series_adjust_K_val(NA_GEMINI_IA_DNTT)\n",
    "\n",
    "\n",
    "\n",
    "\n",
    "\n",
    "\n",
    "# plt.hist(viral_data,bins = 200)\n",
    "# plt.hist(human_data, bins = 200)\n",
    "\n",
    "# plt.hist(scrambled_human_data,bins=200)\n",
    "\n",
    "# plt.hist(gemini_data,bins=200)\n",
    "\n",
    "\n",
    "\n",
    "# plt.show()"
   ]
  },
  {
   "cell_type": "markdown",
   "metadata": {
    "deletable": true,
    "editable": true
   },
   "source": [
    "^above result always has a characterisit peak at 0-1"
   ]
  },
  {
   "cell_type": "markdown",
   "metadata": {
    "deletable": true,
    "editable": true
   },
   "source": [
    "# Plot density of diNT PWM scores"
   ]
  },
  {
   "cell_type": "code",
   "execution_count": 24,
   "metadata": {
    "collapsed": false,
    "deletable": true,
    "editable": true,
    "scrolled": true
   },
   "outputs": [
    {
     "name": "stderr",
     "output_type": "stream",
     "text": [
      "/home/alan/.conda/envs/bioinfo/lib/python3.6/site-packages/matplotlib/font_manager.py:1297: UserWarning: findfont: Font family ['sans-serif'] not found. Falling back to DejaVu Sans\n",
      "  (prop.get_family(), self.defaultFamily[fontext]))\n"
     ]
    },
    {
     "data": {
      "image/png": "[encoded data removed]",
      "text/plain": [
       "<matplotlib.figure.Figure at 0x7f9135a54f28>"
      ]
     },
     "metadata": {},
     "output_type": "display_data"
    }
   ],
   "source": [
    "#plots densities of the efficiencies\n",
    "\n",
    "import matplotlib.pyplot as plt\n",
    "import numpy as np\n",
    "from scipy.stats import gaussian_kde\n",
    "\n",
    "xs = np.linspace(-1000,4000,2000)\n",
    "\n",
    "\n",
    "# plt.hist(viral_data,bins = 200)\n",
    "# plt.hist(human_data, bins = 200)\n",
    "# plt.hist(scrambled_human_data,bins=200)\n",
    "\n",
    "\n",
    "# density_viral = gaussian_kde(viral_data)\n",
    "# density_viral.covariance_factor = lambda : .25\n",
    "# density_viral._compute_covariance()\n",
    "# plt.plot(xs,density_viral(xs), label = \"viral TIS\")\n",
    "\n",
    "\n",
    "\n",
    "density_human = gaussian_kde(human_data)\n",
    "density_human.covariance_factor = lambda : .25\n",
    "density_human._compute_covariance()\n",
    "plt.plot(xs,density_human(xs), label = \"human TIS\")\n",
    "\n",
    "\n",
    "\n",
    "# density_scrambled_human = gaussian_kde(scram_human_data)\n",
    "# density_scrambled_human.covariance_factor = lambda : .25\n",
    "# density_scrambled_human._compute_covariance()\n",
    "# plt.plot(xs,density_scrambled_human(xs),label = \"scrambled human TIS\")\n",
    "\n",
    "# density_human_IA = gaussian_kde(HUMAN_IA_scores)\n",
    "# density_human_IA.covariance_factor = lambda : .25\n",
    "# density_human_IA._compute_covariance()\n",
    "# plt.plot(xs,density_human_IA(xs),label = \"human TIS downstream AUG\")\n",
    "\n",
    "# density_gemini = gaussian_kde(gemini_data)\n",
    "# density_gemini.covariance_factor = lambda : .25\n",
    "# density_gemini._compute_covariance()\n",
    "# plt.plot(xs,density_gemini(xs),label = \"gemini TIS\")\n",
    "\n",
    "\n",
    "\n",
    "\n",
    "\n",
    "# scanning_viral_data\n",
    "# ires_viral_data\n",
    "# leaky_viral_data\n",
    "# nsp_viral_data\n",
    "# rs_viral_data\n",
    "# ti_viral_data\n",
    "# vpg_viral_data\n",
    "# unknown_viral_data\n",
    "\n",
    "\n",
    "\n",
    "\n",
    "# density_s = gaussian_kde(scanning_viral_data)\n",
    "# density_s.covariance_factor = lambda : .25\n",
    "# density_s._compute_covariance()\n",
    "# plt.plot(xs,density_s(xs),label = \"scanning viral TIS\")\n",
    "\n",
    "\n",
    "\n",
    "# density_s_scram = gaussian_kde(scram_SCANNING_data)\n",
    "# density_s_scram.covariance_factor = lambda : .25\n",
    "# density_s_scram._compute_covariance()\n",
    "# plt.plot(xs,density_s_scram(xs),label = \"scram scanning viral TIS\")\n",
    "\n",
    "\n",
    "\n",
    "# density_i = gaussian_kde(ires_viral_data)\n",
    "# density_i.covariance_factor = lambda : .25\n",
    "# density_i._compute_covariance()\n",
    "# plt.plot(xs,density_i(xs),label = \"ires viral TIS\")\n",
    "\n",
    "\n",
    "# density_i_scram = gaussian_kde(scram_IRES_data)\n",
    "# density_i_scram.covariance_factor = lambda : .25\n",
    "# density_i_scram._compute_covariance()\n",
    "# plt.plot(xs,density_i_scram(xs),label = \"scram ires viral TIS\")\n",
    "\n",
    "\n",
    "\n",
    "\n",
    "\n",
    "# density_l = gaussian_kde(leaky_viral_data)\n",
    "# density_l.covariance_factor = lambda : .25\n",
    "# density_l._compute_covariance()\n",
    "# plt.plot(xs,density_l(xs),label = \"leaky viral TIS\")\n",
    "\n",
    "\n",
    "# density_l_scram = gaussian_kde(scram_LEAKY_data)\n",
    "# density_l_scram.covariance_factor = lambda : .25\n",
    "# density_l_scram._compute_covariance()\n",
    "# plt.plot(xs,density_l_scram(xs),label = \"scram leaky viral TIS\")\n",
    "\n",
    "\n",
    "\n",
    "\n",
    "# density_n = gaussian_kde(nsp_viral_data)\n",
    "# density_n.covariance_factor = lambda : .25\n",
    "# density_n._compute_covariance()\n",
    "# plt.plot(xs,density_n(xs),label = \"nsp viral TIS\")\n",
    "\n",
    "\n",
    "\n",
    "# density_n_scram = gaussian_kde(scram_NSP_data)\n",
    "# density_n_scram.covariance_factor = lambda : .25\n",
    "# density_n_scram._compute_covariance()\n",
    "# plt.plot(xs,density_n_scram(xs),label = \"scram nsp viral TIS\")\n",
    "\n",
    "\n",
    "\n",
    "# density_rs = gaussian_kde(rs_viral_data)\n",
    "# density_rs.covariance_factor = lambda : .25\n",
    "# density_rs._compute_covariance()\n",
    "# plt.plot(xs,density_rs(xs),label = \"ribosome shunting viral TIS\")\n",
    "\n",
    "# density_rs_scram = gaussian_kde(scram_RS_data)\n",
    "# density_rs_scram.covariance_factor = lambda : .25\n",
    "# density_rs_scram._compute_covariance()\n",
    "# plt.plot(xs,density_rs_scram(xs),label = \"scram ribosome shunting viral TIS\")\n",
    "\n",
    "\n",
    "\n",
    "# density_ti = gaussian_kde(ti_viral_data)\n",
    "# density_ti.covariance_factor = lambda : .25\n",
    "# density_ti._compute_covariance()\n",
    "# plt.plot(xs,density_ti(xs),label = \"TR viral TIS\")\n",
    "\n",
    "# density_ti_scram = gaussian_kde(scram_TI_data)\n",
    "# density_ti_scram.covariance_factor = lambda : .25\n",
    "# density_ti_scram._compute_covariance()\n",
    "# plt.plot(xs,density_ti_scram(xs),label = \"scram TR viral TIS\")\n",
    "\n",
    "# density_v = gaussian_kde(vpg_viral_data)\n",
    "# density_v.covariance_factor = lambda : .25\n",
    "# density_v._compute_covariance()\n",
    "# plt.plot(xs,density_v(xs),label = \"vpg viral TIS\")\n",
    "\n",
    "\n",
    "# density_v_scram = gaussian_kde(scram_VPG_data)\n",
    "# density_v_scram.covariance_factor = lambda : .25\n",
    "# density_v_scram._compute_covariance()\n",
    "# plt.plot(xs,density_v_scram(xs),label = \"scram vpg viral TIS\")\n",
    "\n",
    "\n",
    "# density_uk = gaussian_kde(unknown_viral_data)\n",
    "# density_uk.covariance_factor = lambda : .25\n",
    "# density_uk._compute_covariance()\n",
    "# plt.plot(xs,density_uk(xs),label = \"unknown TIS\")\n",
    "\n",
    "\n",
    "\n",
    "# density_uk_scram = gaussian_kde(scram_UNKNOWN_data)\n",
    "# density_uk_scram.covariance_factor = lambda : .25\n",
    "# density_uk_scram._compute_covariance()\n",
    "# plt.plot(xs,density_uk_scram(xs),label = \"scram unknown TIS\")\n",
    "\n",
    "\n",
    "density_all_possible = gaussian_kde(all_possible_data)\n",
    "density_all_possible.covariance_factor = lambda : .25\n",
    "density_all_possible._compute_covariance()\n",
    "plt.plot(xs,density_all_possible(xs),label = \"all possible TIS\")\n",
    "\n",
    "\n",
    "plt.title(\"Scanning vs human\")\n",
    "plt.legend()\n",
    "plt.show()\n",
    "\n",
    "#human"
   ]
  },
  {
   "cell_type": "code",
   "execution_count": 20,
   "metadata": {
    "collapsed": false,
    "deletable": true,
    "editable": true
   },
   "outputs": [
    {
     "name": "stderr",
     "output_type": "stream",
     "text": [
      "/home/alan/.conda/envs/bioinfo/lib/python3.6/site-packages/matplotlib/font_manager.py:1297: UserWarning: findfont: Font family ['sans-serif'] not found. Falling back to DejaVu Sans\n",
      "  (prop.get_family(), self.defaultFamily[fontext]))\n"
     ]
    },
    {
     "data": {
      "image/png": "[encoded data removed]",
      "text/plain": [
       "<matplotlib.figure.Figure at 0x7f913a41bcc0>"
      ]
     },
     "metadata": {},
     "output_type": "display_data"
    }
   ],
   "source": [
    "import numpy as np \n",
    "import pylab \n",
    "import pandas as pd\n",
    "from scipy import stats, integrate\n",
    "import matplotlib.pyplot as plt\n",
    "import seaborn as sns\n",
    "\n",
    "sns.distplot(all_possible_data)\n",
    "sns.distplot(human_data)\n",
    "plt.show()"
   ]
  },
  {
   "cell_type": "code",
   "execution_count": 21,
   "metadata": {
    "collapsed": false,
    "deletable": true,
    "editable": true
   },
   "outputs": [
    {
     "name": "stdout",
     "output_type": "stream",
     "text": [
      "159 = # of Scanning TIS seq\n",
      "1449 = # of IRES TIS seq\n",
      "501 = # of Leaky Scanning TIS seq\n",
      "11 = # of NSP TIS seq\n",
      "44 = # of Ribosome Shunting TIS seq\n",
      "11 = # Termination Reinitiation TIS seq\n",
      "10 = # of VPG TIS seq\n",
      "336 = # of unknown TIS seq\n"
     ]
    }
   ],
   "source": [
    "print(str(len(SCANNING_VIRAL_TIS_LIST))+\" = # of Scanning TIS seq\")\n",
    "print(str(len(IRES_VIRAL_TIS_LIST))+\" = # of IRES TIS seq\")\n",
    "print(str(len(LEAKY_VIRAL_TIS_LIST))+\" = # of Leaky Scanning TIS seq\")\n",
    "print(str(len(NSP_VIRAL_TIS_LIST))+\" = # of NSP TIS seq\")\n",
    "print(str(len(RIBOSOMESHUNTING_TIS_LIST))+\" = # of Ribosome Shunting TIS seq\")\n",
    "print(str(len(TERMINATIONINITIATION_TIS_LIST))+\" = # Termination Reinitiation TIS seq\")\n",
    "print(str(len(VPG_TIS_LIST))+\" = # of VPG TIS seq\")\n",
    "print(str(len(UNKNOWN_TIS_LIST))+\" = # of unknown TIS seq\")"
   ]
  },
  {
   "cell_type": "code",
   "execution_count": null,
   "metadata": {
    "collapsed": true
   },
   "outputs": [],
   "source": [
    "score PWM first immediate downstream AUG of everything\n",
    "\n",
    "# expect TIS efficiency to be lower and the PWM score to be lower as well\n",
    "\n",
    "# TIS efficiencies in plants PWM\n",
    "\n",
    "# construct same dinucleotide PWM"
   ]
  },
  {
   "cell_type": "markdown",
   "metadata": {
    "deletable": true,
    "editable": true
   },
   "source": [
    "# Chi Square test\n",
    "\n",
    "# 2 tailed chi square test"
   ]
  },
  {
   "cell_type": "code",
   "execution_count": 22,
   "metadata": {
    "collapsed": false,
    "deletable": true,
    "editable": true
   },
   "outputs": [
    {
     "ename": "NameError",
     "evalue": "name 'scrambled_human_data' is not defined",
     "output_type": "error",
     "traceback": [
      "\u001b[0;31m---------------------------------------------------------------------------\u001b[0m",
      "\u001b[0;31mNameError\u001b[0m                                 Traceback (most recent call last)",
      "\u001b[0;32m<ipython-input-22-52b169df35c3>\u001b[0m in \u001b[0;36m<module>\u001b[0;34m()\u001b[0m\n\u001b[1;32m      5\u001b[0m \u001b[0mhuman_data\u001b[0m\u001b[0;34m.\u001b[0m\u001b[0mto_csv\u001b[0m\u001b[0;34m(\u001b[0m\u001b[0;34m\"human_pwm_scores.csv\"\u001b[0m\u001b[0;34m)\u001b[0m\u001b[0;34m\u001b[0m\u001b[0m\n\u001b[1;32m      6\u001b[0m \u001b[0;31m# viral_data.to_csv(\"viral_pwm_scores.csv\")\u001b[0m\u001b[0;34m\u001b[0m\u001b[0;34m\u001b[0m\u001b[0m\n\u001b[0;32m----> 7\u001b[0;31m \u001b[0mscrambled_human_data\u001b[0m\u001b[0;34m.\u001b[0m\u001b[0mto_csv\u001b[0m\u001b[0;34m(\u001b[0m\u001b[0;34m\"scrambled_human_pwm_scores.csv\"\u001b[0m\u001b[0;34m)\u001b[0m\u001b[0;34m\u001b[0m\u001b[0m\n\u001b[0m\u001b[1;32m      8\u001b[0m \u001b[0;34m\u001b[0m\u001b[0m\n\u001b[1;32m      9\u001b[0m \u001b[0;34m\u001b[0m\u001b[0m\n",
      "\u001b[0;31mNameError\u001b[0m: name 'scrambled_human_data' is not defined"
     ]
    }
   ],
   "source": [
    "from scipy import stats\n",
    "\n",
    "# stats.chisquare()\n",
    "\n",
    "human_data.to_csv(\"human_pwm_scores.csv\")\n",
    "# viral_data.to_csv(\"viral_pwm_scores.csv\")\n",
    "scrambled_human_data.to_csv(\"scrambled_human_pwm_scores.csv\")\n",
    "\n",
    "\n",
    "\n",
    "\n",
    "scanning_viral_data.to_csv(\"scanning_viral_pwm_scores.csv\")\n",
    "ires_viral_data.to_csv(\"ires_viral_pwm_scores\")\n",
    "leaky_viral_data.to_csv(\"leaky_viral_pwm_scores\")\n",
    "nsp_viral_data.to_csv(\"nsp_viral_pwm_scores\")\n",
    "rs_viral_data.to_csv(\"rs_viral_pwm_scores\")\n",
    "ti_viral_data.to_csv(\"ti_viral_pwm_scores\")\n",
    "vpg_viral_data.to_csv(\"vpg_viral_pwm_scores\")\n",
    "unknown_viral_data.to_csv(\"unknown_viral_pwm_scores\")\n",
    "\n",
    "\n",
    "\n",
    "\n",
    "gemini_data.to_csv(\"gemini_pwm_scores.csv\")\n",
    "\n",
    "\n",
    "# observed = np.array(human_data)\n",
    "# expected = np.array(scrambled_human_data)\n",
    "\n",
    "\n",
    "\n"
   ]
  },
  {
   "cell_type": "code",
   "execution_count": null,
   "metadata": {
    "collapsed": false,
    "deletable": true,
    "editable": true
   },
   "outputs": [],
   "source": [
    "stats.chisquare(scram_human_data, human_data)"
   ]
  },
  {
   "cell_type": "markdown",
   "metadata": {
    "deletable": true,
    "editable": true
   },
   "source": [
    "# use the new scoring scheme to scan the entire ORF like what you did in last semester."
   ]
  },
  {
   "cell_type": "code",
   "execution_count": null,
   "metadata": {
    "collapsed": true,
    "deletable": true,
    "editable": true
   },
   "outputs": [],
   "source": [
    "# have to scan the TIS + 200 bp downstream\n",
    "\n",
    "\n"
   ]
  }
 ],
 "metadata": {
  "kernelspec": {
   "display_name": "Python 3",
   "language": "python",
   "name": "python3"
  },
  "language_info": {
   "codemirror_mode": {
    "name": "ipython",
    "version": 3
   },
   "file_extension": ".py",
   "mimetype": "text/x-python",
   "name": "python",
   "nbconvert_exporter": "python",
   "pygments_lexer": "ipython3",
   "version": "3.6.0"
  }
 },
 "nbformat": 4,
 "nbformat_minor": 2
}
