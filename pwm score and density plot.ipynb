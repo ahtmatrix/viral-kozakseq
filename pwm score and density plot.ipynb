{
 "cells": [
  {
   "cell_type": "markdown",
   "metadata": {
    "deletable": true,
    "editable": true
   },
   "source": [
    "# Read CSV to make diNT PWM used for looking up the scores"
   ]
  },
  {
   "cell_type": "code",
   "execution_count": 1,
   "metadata": {
    "collapsed": true,
    "deletable": true,
    "editable": true
   },
   "outputs": [],
   "source": [
    "import csv\n",
    "\n",
    "diNT_csv_dictionary = {}\n",
    "\n",
    "#opens csv file, reads into a dictionary\n",
    "with open('diNTpwm_fordict.csv') as csvfile:\n",
    "    reader = csv.DictReader(csvfile)\n",
    "    for row in reader:\n",
    "        diNT_csv_dictionary[row['dinucleotide'], row['position']] = row['efficiency']"
   ]
  },
  {
   "cell_type": "code",
   "execution_count": 1,
   "metadata": {
    "collapsed": true
   },
   "outputs": [],
   "source": [
    "# scan in the manually created Dinucleotide PWM of TIS efficiency\n",
    "\n"
   ]
  },
  {
   "cell_type": "markdown",
   "metadata": {
    "deletable": true,
    "editable": true
   },
   "source": [
    "# diNT PWM score TIS"
   ]
  },
  {
   "cell_type": "markdown",
   "metadata": {
    "deletable": true,
    "editable": true
   },
   "source": [
    "``  1 , 2,  3,  4,  5,  6,  7 ``\n",
    "\n",
    "`` -6, -5, -4, -3, -2, -1, +4, +5 ``\n"
   ]
  },
  {
   "cell_type": "code",
   "execution_count": 2,
   "metadata": {
    "collapsed": true,
    "deletable": true,
    "editable": true
   },
   "outputs": [],
   "source": [
    "#have to scan through each dinucleotide position in seq\n",
    "#get the efficiency and multiply together\n",
    "#save into table\n",
    "\n",
    "import pandas as pd\n",
    "import numpy as np\n",
    "import matplotlib.pyplot as plt\n",
    "from Bio import SeqIO\n",
    "from Bio import Seq\n",
    "\n",
    "import operator\n",
    "import functools\n",
    "\n",
    "import math\n",
    "\n",
    "import re\n",
    "\n",
    "import numpy as np \n",
    "import pylab \n",
    "import pandas as pd\n",
    "from scipy import stats, integrate\n",
    "import matplotlib.pyplot as plt\n",
    "import seaborn as sns\n",
    "from Bio.Alphabet import generic_dna, generic_rna\n",
    "\n",
    "\n",
    "import numpy\n",
    "import random\n",
    "from Bio.SeqRecord import SeqRecord\n",
    "from Bio.Seq import Seq\n",
    "from Bio.Alphabet import generic_rna\n"
   ]
  },
  {
   "cell_type": "markdown",
   "metadata": {
    "deletable": true,
    "editable": true
   },
   "source": [
    "# compartmentalized functions for extracting sequenes"
   ]
  },
  {
   "cell_type": "code",
   "execution_count": 3,
   "metadata": {
    "collapsed": true,
    "deletable": true,
    "editable": true
   },
   "outputs": [],
   "source": [
    "def get_RNA_seq(filename):\n",
    "    \n",
    "    RNA_seq_list = []\n",
    "    \n",
    "    for seq_record in SeqIO.parse(filename,\"fasta\"):\n",
    "        #may fail b/c of transcribe\n",
    "        try:\n",
    "            RNA_seq_list.append(seq_record.seq.transcribe())\n",
    "        except ValueError:\n",
    "            RNA_seq_list.append(seq_record.seq)\n",
    "    return RNA_seq_list\n",
    "    \n"
   ]
  },
  {
   "cell_type": "code",
   "execution_count": 4,
   "metadata": {
    "collapsed": false,
    "deletable": true,
    "editable": true
   },
   "outputs": [],
   "source": [
    "def get_first_capital_character(seq):\n",
    "    for i, c in enumerate(seq):\n",
    "        if c.isupper():\n",
    "            return i"
   ]
  },
  {
   "cell_type": "code",
   "execution_count": 5,
   "metadata": {
    "collapsed": false,
    "deletable": true,
    "editable": true
   },
   "outputs": [],
   "source": [
    "def get_first_TIS(RNA_seq_list, species):\n",
    "\n",
    "    if species == \"V\":\n",
    "\n",
    "        v_RNA_seq_list = []\n",
    "        for v_RNA_seq in RNA_seq_list:\n",
    "            v_TIS_seq = v_RNA_seq[24:35]\n",
    "            \n",
    "            if len(v_TIS_seq) == 11:\n",
    "                v_RNA_seq_list.append(v_TIS_seq)\n",
    "            \n",
    "\n",
    "        return v_RNA_seq_list\n",
    "    \n",
    "    else:\n",
    "        TIS_seq_list = []\n",
    "\n",
    "        for seq in RNA_seq_list:\n",
    "\n",
    "            start_codon_index = get_first_capital_character(seq)\n",
    "\n",
    "            TIS_seq = seq[start_codon_index-6:start_codon_index+5].upper()\n",
    "\n",
    "            if len(TIS_seq) == 11:\n",
    "\n",
    "                TIS_seq_list.append(TIS_seq)\n",
    "            \n",
    "\n",
    "        return TIS_seq_list\n",
    "\n",
    "# #V for viral\n",
    "# #H for human\n",
    "# #G for gemini\n",
    "# #A for arabidopsis\n",
    "\n",
    "# def get_first_TIS(RNA_seq_list,species):\n",
    "    \n",
    "\n",
    "            \n",
    "#     elif species == \"H\":\n",
    "        \n",
    "#         h_RNA_seq_list = []\n",
    "#         for h_RNA_seq in RNA_seq_list:\n",
    "#             h_RNA_seq_list.append(h_RNA_seq[30:41])\n",
    "#         return h_RNA_seq_list\n",
    "    \n",
    "#     elif species == \"G\":\n",
    "        \n",
    "#         g_RNA_seq_list = []\n",
    "#         for g_RNA_seq in RNA_seq_list:\n",
    "#             g_RNA_seq_list.append(g_RNA_seq[29:40])\n",
    "#         return g_RNA_seq_list\n",
    "# #     elif species == \"A\":\n",
    "# #         for a_RNA_seq in RNA_seq_list:\n",
    "# #             v_RNA_seq[24:35]\n"
   ]
  },
  {
   "cell_type": "markdown",
   "metadata": {
    "deletable": true,
    "editable": true
   },
   "source": [
    "# extract diNT from TIS_list and discard common AUG"
   ]
  },
  {
   "cell_type": "code",
   "execution_count": 6,
   "metadata": {
    "collapsed": true,
    "deletable": true,
    "editable": true
   },
   "outputs": [],
   "source": [
    "def diNT_tuple_gen(TIS_list):\n",
    "    \n",
    "    # MAKES A LIST OF DINT TUPLES FOR EACH TIS DISCARDING THE AUG - saves the diNT and its position\n",
    "    seq_dint_tuple_list = []\n",
    "    \n",
    "    for i in range(len(TIS_list)):\n",
    "\n",
    "        for j in range(0,5):\n",
    "            seq_dint_tuple_list.append((str(TIS_list[i][j:j+2]), j+1))\n",
    "\n",
    "        # add dint position 6\n",
    "        seq_dint_tuple_list.append((TIS_list[i][5]+TIS_list[i][9], 6))\n",
    "\n",
    "\n",
    "        # add dint position 7\n",
    "        seq_dint_tuple_list.append((TIS_list[i][9]+TIS_list[i][10], 7))\n",
    "    \n",
    "    return seq_dint_tuple_list"
   ]
  },
  {
   "cell_type": "code",
   "execution_count": 7,
   "metadata": {
    "collapsed": false,
    "deletable": true,
    "editable": true
   },
   "outputs": [],
   "source": [
    "# teststst = get_first_TIS(get_RNA_seq(sv_filename),\"V\")\n",
    "\n",
    "# wergtsergerh = diNT_tuple_gen(teststst)\n",
    "\n",
    "\n",
    "# pwm_scores_per_seq = []\n",
    "# for i in range(len(wergtsergerh)):\n",
    "#     pwm_scores_per_seq.append(PWM(wergtsergerh[i][0],str(wergtsergerh[i][1])))\n",
    "\n",
    "# len(pwm_scores_per_seq)\n",
    "\n",
    "# [pwm_scores_per_seq[x:x+7] for x in range(0, len(pwm_scores_per_seq),7)]\n",
    "\n",
    "\n",
    "\n",
    "# #     # have to multiply every 7 indices together to get single PWM score per sequence\n",
    "# #     PWM_scores_seq = []\n",
    "# #     for i in range(len(list_of_tuples_by_seven)):\n",
    "# #         PWM_scores_seq.append(functools.reduce(operator.mul, list_of_tuples_by_seven[i], 7))\n",
    "    \n",
    "# #     return PWM_scores_seq\n",
    "\n",
    "# pwm_scores_per_seq\n",
    "\n",
    "# wergtsergerh"
   ]
  },
  {
   "cell_type": "markdown",
   "metadata": {
    "deletable": true,
    "editable": true
   },
   "source": [
    "\n",
    "# define PWM score lookup function"
   ]
  },
  {
   "cell_type": "code",
   "execution_count": 8,
   "metadata": {
    "collapsed": true,
    "deletable": true,
    "editable": true
   },
   "outputs": [],
   "source": [
    "def PWM(dinucleotide, position):\n",
    "    #convert efficiency into float\n",
    "    return float(diNT_csv_dictionary[dinucleotide, position])"
   ]
  },
  {
   "cell_type": "code",
   "execution_count": 9,
   "metadata": {
    "collapsed": true,
    "deletable": true,
    "editable": true
   },
   "outputs": [],
   "source": [
    "#first index is 0 to 6\n",
    "#2nd index is from 0 to 1\n",
    "\n",
    "#have to accumulate every 7 PWMs\n",
    "\n",
    "def score_seq_with_PWM(seq_dint_tuple_list):\n",
    "    \n",
    "    PWM_diNT_scores_seq = []\n",
    "    \n",
    "    #loop through all the tuples in the dint tuple list\n",
    "    for i in range(len(seq_dint_tuple_list)):\n",
    "        \n",
    "        #score each diNT, save the position and store into another list PWM_diNT_scores_seq\n",
    "        PWM_diNT_scores_seq.append(PWM(seq_dint_tuple_list[i][0], str(seq_dint_tuple_list[i][1])))\n",
    "\n",
    "\n",
    "    #group every 7 tuples which is a single sequence\n",
    "    list_of_tuples_by_seven = [PWM_diNT_scores_seq[x:x+7] for x in range(0, len(PWM_diNT_scores_seq),7)]\n",
    "\n",
    "\n",
    "    # have to multiply every 7 indices together to get single PWM score per sequence\n",
    "    PWM_scores_seq = []\n",
    "    for i in range(len(list_of_tuples_by_seven)):\n",
    "        PWM_scores_seq.append(functools.reduce(operator.mul, list_of_tuples_by_seven[i], 7))\n",
    "    \n",
    "    return PWM_scores_seq\n"
   ]
  },
  {
   "cell_type": "code",
   "execution_count": 10,
   "metadata": {
    "collapsed": true,
    "deletable": true,
    "editable": true
   },
   "outputs": [],
   "source": [
    "def convert_to_Pandas_series_adjust_K_val(PWM_scores_seq):\n",
    "    #convert to pandas series, a datastructure, to easily manipulate\n",
    "    pandas_PWM_scores = pd.Series(PWM_scores_seq)\n",
    "    \n",
    "                                                        #CHECK THIS COEFFICIENT\n",
    "    adjusted_PWM_scores = pandas_PWM_scores*math.exp(4.602730)\n",
    "    \n",
    "    return adjusted_PWM_scores"
   ]
  },
  {
   "cell_type": "markdown",
   "metadata": {
    "deletable": true,
    "editable": true
   },
   "source": [
    "# Load sequences into differnet TIS lists, from #30_ATG_rest and transcribe to RNA"
   ]
  },
  {
   "cell_type": "code",
   "execution_count": 11,
   "metadata": {
    "collapsed": false,
    "deletable": true,
    "editable": true
   },
   "outputs": [],
   "source": [
    "def analysis_pipeline(file):\n",
    "        \n",
    "    seqs = get_first_TIS(get_RNA_seq(file[0]),file[1])\n",
    "    efficiencies = convert_to_Pandas_series_adjust_K_val(score_seq_with_PWM(diNT_tuple_gen(seqs)))\n",
    "    \n",
    "    return efficiencies\n",
    "    \n",
    "    "
   ]
  },
  {
   "cell_type": "code",
   "execution_count": 12,
   "metadata": {
    "collapsed": true,
    "deletable": true,
    "editable": true
   },
   "outputs": [],
   "source": [
    "ex_TIS_seqs = get_RNA_seq(\"all_possible_TIS.fasta\")\n",
    "ex_eff = convert_to_Pandas_series_adjust_K_val(score_seq_with_PWM(diNT_tuple_gen(ex_TIS_seqs)))\n",
    "    "
   ]
  },
  {
   "cell_type": "code",
   "execution_count": 13,
   "metadata": {
    "collapsed": true,
    "deletable": true,
    "editable": true
   },
   "outputs": [],
   "source": [
    "\n",
    "sv_filename   = \"SCANNING_viral_all_30up_toSTOP_SEP.fasta\"\n",
    "iv_filename   = \"IRES_viral_all_30up_toSTOP_SEP.fasta\"\n",
    "lv_filename   = \"LEAKY_viral_all_30up_toSTOP_SEP.fasta\"\n",
    "nv_filename   = \"NSP_viral_all_30up_toSTOP_SEP.fasta\"\n",
    "rs_filename   = \"RIBOSOMESHUNTING_viral_all_30up_toSTOP_SEP.fasta\"\n",
    "ti_filename   = \"TERMINATIONREINITIATION_viral_all_30up_toSTOP_SEP.fasta\"\n",
    "vp_filename   = \"VPG_viral_all_30up_toSTOP_SEP.fasta\"\n",
    "uk_filename   = \"UNKNOWN_viral_all_30up_toSTOP_SEP.fasta\"\n",
    "hs_filename   = \"hs_all_nodup_u36.fasta\"\n",
    "ge_filename   = \"YA_diNT_replace_C_gemini_5utr_orf.fasta\"\n",
    "ab_filename   = \"ar_utr_cds.fasta\"\n",
    "\n",
    "\n",
    "samples=[ (sv_filename, \"V\"),\n",
    "          (iv_filename,\"V\"),\n",
    "          (lv_filename,\"V\"),\n",
    "          (nv_filename,\"V\"),\n",
    "          (rs_filename,\"V\"),\n",
    "          (ti_filename,\"V\"),\n",
    "          (vp_filename,\"V\"),\n",
    "          (uk_filename,\"V\"),\n",
    "          (hs_filename,\"H\"),\n",
    "          (ge_filename,\"G\"),\n",
    "          (ab_filename,\"A\")\n",
    "          ]\n",
    "\n"
   ]
  },
  {
   "cell_type": "code",
   "execution_count": 14,
   "metadata": {
    "collapsed": false,
    "deletable": true,
    "editable": true,
    "slideshow": {
     "slide_type": "-"
    }
   },
   "outputs": [],
   "source": [
    "\n",
    "\n",
    "sv_eff   = analysis_pipeline(samples[0])\n",
    "iv_eff   = analysis_pipeline(samples[1])\n",
    "lv_eff   = analysis_pipeline(samples[2])\n",
    "nv_eff   = analysis_pipeline(samples[3])\n",
    "rs_eff   = analysis_pipeline(samples[4])\n",
    "ti_eff   = analysis_pipeline(samples[5])\n",
    "vp_eff   = analysis_pipeline(samples[6])\n",
    "uk_eff   = analysis_pipeline(samples[7])\n",
    "hs_eff   = analysis_pipeline(samples[8])\n",
    "ge_eff   = analysis_pipeline(samples[9])\n",
    "ab_eff   = analysis_pipeline(samples[10])\n",
    "\n",
    "\n"
   ]
  },
  {
   "cell_type": "code",
   "execution_count": 15,
   "metadata": {
    "collapsed": true,
    "deletable": true,
    "editable": true
   },
   "outputs": [],
   "source": [
    "sample_effs = [(sv_eff,\"Scanning\"),(iv_eff,\"IRES\"),(lv_eff,\"Leaky Scanning\"),\n",
    "               (nv_eff,\"NSP3\"),(rs_eff,\"Ribosome Shunting\"),(ti_eff,\"Termination-Reinitiation\"),(vp_eff,\"VPg\"),\n",
    "               (uk_eff,\"Unknown\"),(hs_eff,\"Human\"),(ge_eff,\"Geminivirus\"),(ex_eff,\"All possible TIS\")]"
   ]
  },
  {
   "cell_type": "code",
   "execution_count": 16,
   "metadata": {
    "collapsed": true,
    "deletable": true,
    "editable": true
   },
   "outputs": [],
   "source": [
    "# above TIS_lists will be the input of below function"
   ]
  },
  {
   "cell_type": "markdown",
   "metadata": {
    "deletable": true,
    "editable": true
   },
   "source": [
    "# NEGATIVE Controls internal AUG"
   ]
  },
  {
   "cell_type": "code",
   "execution_count": 17,
   "metadata": {
    "collapsed": false,
    "deletable": true,
    "editable": true
   },
   "outputs": [],
   "source": [
    "def extract_after_first_TIS(seqs, species):\n",
    "\n",
    "    if species == \"V\":\n",
    "        index = 35\n",
    "      \n",
    "        v_after_first_START = []\n",
    "    \n",
    "        for seq in seqs:\n",
    "            v_after_first_START.append(seq[index:])\n",
    "    \n",
    "        return v_after_first_START\n",
    "\n",
    "    else:\n",
    "        after_TIS_seqs = []\n",
    "\n",
    "        for seq in seqs:\n",
    "            start_codon_index = get_first_capital_character(seq)\n",
    "\n",
    "            after_TIS_seq = seq[start_codon_index+5:].upper()\n",
    "\n",
    "            after_TIS_seqs.append(after_TIS_seq)\n",
    "            \n",
    "        return after_TIS_seqs\n",
    "\n",
    "# #cut RNA seqs to after the first TIS\n",
    "# def extract_after_first_TIS(seqs, species):\n",
    "    \n",
    "#     if species == \"V\":\n",
    "#         index = 35\n",
    "#     elif species == \"H\":\n",
    "#         index = 40\n",
    "#     elif species == \"G\":\n",
    "#         index = 41\n",
    "    \n",
    "#     no_first_seq_list = []\n",
    "    \n",
    "#     for seq in seqs:\n",
    "#         no_first_seq_list.append(seq[index:])\n",
    "    \n",
    "#     return no_first_seq_list \n"
   ]
  },
  {
   "cell_type": "code",
   "execution_count": 18,
   "metadata": {
    "collapsed": true,
    "deletable": true,
    "editable": true
   },
   "outputs": [],
   "source": [
    "# TGAAGCGGGAGGTTTGAACGCGCAGCCGCCATGCC GGGGTTTTACGAGATTGTGATTAAG\n",
    "# GTCCCCAGCGACCTTGACGAGCATCTGCCCGGCATTTCTGACAGCTTTGTGAACTGGGTG\n",
    "# GCCGAGAAGGAATGGGAGTTGCCGCCAGATTCTGACATGGATCTGAATCTGATTGAGCAG\n",
    "# GCACCCCTGACCGTGGCCGAGAAGCTGCAGCGCGACTTTCTGACGGAATGGCGCCGTGTG\n",
    "# AGTAAGGCCCCGGAGGCCCTTTTCTTTGTGCAATTTGAGAAGGGAGAGAGCTACTTCCAC\n",
    "# ATGCACGTGCTCGTGGAAACCACCGGGGTGAAATCCATGGTTTTGGGACGTTTCCTGAGT\n",
    "# CAGATTCGCGAAAAACTGATTCAGAGAATTTACCGCGGGATCGAGCCGACTTTGCCAAAC\n",
    "# TGGTTCGCGGTCACAAAGACCAGAAAT"
   ]
  },
  {
   "cell_type": "code",
   "execution_count": 19,
   "metadata": {
    "collapsed": false,
    "deletable": true,
    "editable": true
   },
   "outputs": [],
   "source": [
    "def get_all_downstream_CODON_TIS_indices(sequence,query_codon):\n",
    "    \n",
    "    #gets all the indices of the querycodon's first character \n",
    "    AUG_positions = [m.start() for m in re.finditer(query_codon,sequence)]\n",
    "    return AUG_positions\n",
    "    "
   ]
  },
  {
   "cell_type": "code",
   "execution_count": 20,
   "metadata": {
    "collapsed": false,
    "deletable": true,
    "editable": true
   },
   "outputs": [],
   "source": [
    "\n",
    "# def internal_AUG_analysis_pipeline(file):\n",
    "    \n",
    "#     nucleotides = set('AUCG')\n",
    "#     downstream_TISs = []\n",
    "\n",
    "#     downstream_seq = extract_after_first_TIS(get_RNA_seq(file[0]), file[1])\n",
    "    \n",
    "#     for seq in downstream_seq:\n",
    "#         downstream_AUGs = get_all_downstream_CODON_TIS_indices(str(seq),\"AUG\")\n",
    "    \n",
    "#         for pos in downstream_AUGs:\n",
    "#             internal_AUG = seq[pos-6:pos+5]\n",
    "            \n",
    "#             re.match('',)\n",
    "#             if \"N\" not in internal_AUG:\n",
    "#                 if \"S\" not in internal_AUG:\n",
    "#                     if \"K\" not in internal_AUG:\n",
    "#                         if len(internal_AUG) == 11:\n",
    "#                             downstream_TISs.append(internal_AUG)\n",
    "\n",
    "#     downstream_diNT_tuples = diNT_tuple_gen(downstream_TISs)\n",
    "    \n",
    "#     downstream_PWM_scores = score_seq_with_PWM(downstream_diNT_tuples)\n",
    "#     efficiencies = convert_to_Pandas_series_adjust_K_val(downstream_PWM_scores)\n",
    "# #     sns.distplot(efficiencies)\n",
    "# #     sns.plt.title(file)\n",
    "# #     plt.show()\n",
    "#     return efficiencies\n",
    "\n",
    "    \n",
    "\n",
    "\n",
    "def internal_AUG_analysis_pipeline(file):\n",
    "    downstream_TISs = []\n",
    "\n",
    "    downstream_seq = extract_after_first_TIS(get_RNA_seq(file[0]), file[1])\n",
    "    \n",
    "    for seq in downstream_seq:\n",
    "        downstream_AUGs = get_all_downstream_CODON_TIS_indices(str(seq),\"AUG\")\n",
    "    \n",
    "        for pos in downstream_AUGs:\n",
    "            internal_AUG = seq[pos-6:pos+5]\n",
    "            \n",
    "            if \"N\" not in internal_AUG:\n",
    "                if \"S\" not in internal_AUG:\n",
    "                    if \"K\" not in internal_AUG:\n",
    "                        if len(internal_AUG) == 11:\n",
    "                            downstream_TISs.append(internal_AUG)\n",
    "                        \n",
    "\n",
    "    downstream_diNT_tuples = diNT_tuple_gen(downstream_TISs)\n",
    "    \n",
    "    downstream_PWM_scores = score_seq_with_PWM(downstream_diNT_tuples)\n",
    "    efficiencies = convert_to_Pandas_series_adjust_K_val(downstream_PWM_scores)\n",
    "#     sns.distplot(efficiencies)\n",
    "#     sns.plt.title(file)\n",
    "#     plt.show()\n",
    "    return efficiencies\n",
    "\n",
    "    "
   ]
  },
  {
   "cell_type": "code",
   "execution_count": 21,
   "metadata": {
    "collapsed": false,
    "deletable": true,
    "editable": true
   },
   "outputs": [],
   "source": [
    "\n",
    "sv_IA_eff   = internal_AUG_analysis_pipeline(samples[0])\n",
    "iv_IA_eff   = internal_AUG_analysis_pipeline(samples[1])\n",
    "lv_IA_eff   = internal_AUG_analysis_pipeline(samples[2])\n",
    "nv_IA_eff   = internal_AUG_analysis_pipeline(samples[3])\n",
    "rs_IA_eff   = internal_AUG_analysis_pipeline(samples[4])\n",
    "ti_IA_eff   = internal_AUG_analysis_pipeline(samples[5])\n",
    "vp_IA_eff   = internal_AUG_analysis_pipeline(samples[6])\n",
    "uk_IA_eff   = internal_AUG_analysis_pipeline(samples[7])\n",
    "hs_IA_eff   = internal_AUG_analysis_pipeline(samples[8])\n",
    "ge_IA_eff   = internal_AUG_analysis_pipeline(samples[9])\n"
   ]
  },
  {
   "cell_type": "code",
   "execution_count": 22,
   "metadata": {
    "collapsed": false,
    "deletable": true,
    "editable": true
   },
   "outputs": [],
   "source": [
    "internal_AUG_eff = [(sv_IA_eff,\"Scanning - int AUG\"),(iv_IA_eff,\"IRES- int AUG\"),(lv_IA_eff,\"Leaky Scanning- int AUG\"),\n",
    "                    (nv_IA_eff,\"NSP3- int AUG\"),(rs_IA_eff,\"Ribosome Shunting- int AUG\"),(ti_IA_eff,\"Termination-Reinitiation- int AUG\"),(vp_IA_eff,\"VPg- int AUG\"),\n",
    "                    (uk_IA_eff,\"Unknown- int AUG\"),(hs_IA_eff,\"Human- int AUG\"),(ge_IA_eff,\"Geminivirus- int AUG\")]"
   ]
  },
  {
   "cell_type": "markdown",
   "metadata": {
    "deletable": true,
    "editable": true
   },
   "source": [
    "# Scramble and PWMscore  negative control"
   ]
  },
  {
   "cell_type": "code",
   "execution_count": 23,
   "metadata": {
    "collapsed": true,
    "deletable": true,
    "editable": true
   },
   "outputs": [],
   "source": [
    "def scramble_TIS(TIS_list):\n",
    "    #rerun to get more random seq\n",
    "    shuffled_TIS_list =[]\n",
    "\n",
    "    for seq in TIS_list:\n",
    "\n",
    "        #get the TIS only\n",
    "        TIS_only = str(seq[0:6] + seq[9:11])\n",
    "\n",
    "        #shuffles the TIS string\n",
    "        shuffled_TIS_source_string = ''.join(random.sample(TIS_only,len(TIS_only)))\n",
    "\n",
    "        shuffled_record = Seq(shuffled_TIS_source_string[0:6] + \"AUG\" + shuffled_TIS_source_string[6:8], \n",
    "                generic_rna)\n",
    "        shuffled_TIS_list.append(shuffled_record)\n",
    "    return shuffled_TIS_list\n",
    "    "
   ]
  },
  {
   "cell_type": "code",
   "execution_count": 24,
   "metadata": {
    "collapsed": true,
    "deletable": true,
    "editable": true
   },
   "outputs": [],
   "source": [
    "def scramble_pipeline(file):\n",
    "\n",
    "    seqs = get_first_TIS(get_RNA_seq(file[0]),file[1])\n",
    "    scram_seqs = scramble_TIS(seqs)\n",
    "    efficiencies = convert_to_Pandas_series_adjust_K_val(score_seq_with_PWM(diNT_tuple_gen(scram_seqs)))\n",
    "    \n",
    "    return efficiencies\n",
    "    \n",
    "    "
   ]
  },
  {
   "cell_type": "code",
   "execution_count": 25,
   "metadata": {
    "collapsed": false,
    "deletable": true,
    "editable": true
   },
   "outputs": [],
   "source": [
    "\n",
    "sv_scram_eff   = scramble_pipeline(samples[0])\n",
    "iv_scram_eff   = scramble_pipeline(samples[1])\n",
    "lv_scram_eff   = scramble_pipeline(samples[2])\n",
    "nv_scram_eff   = scramble_pipeline(samples[3])\n",
    "rs_scram_eff   = scramble_pipeline(samples[4])\n",
    "ti_scram_eff   = scramble_pipeline(samples[5])\n",
    "vp_scram_eff   = scramble_pipeline(samples[6])\n",
    "uk_scram_eff   = scramble_pipeline(samples[7])\n",
    "hs_scram_eff   = scramble_pipeline(samples[8])\n",
    "ge_scram_eff   = scramble_pipeline(samples[9])\n"
   ]
  },
  {
   "cell_type": "code",
   "execution_count": 26,
   "metadata": {
    "collapsed": true,
    "deletable": true,
    "editable": true
   },
   "outputs": [],
   "source": [
    "scram_eff = [(sv_scram_eff,\"Scanning - int AUG\"),(iv_scram_eff,\"IRES- int AUG\"),(lv_scram_eff,\"Leaky Scanning- int AUG\"),\n",
    "             (nv_scram_eff,\"NSP3- int AUG\"),(rs_scram_eff,\"Ribosome Shunting- int AUG\"),(ti_scram_eff,\"Termination-Reinitiation- int AUG\"),(vp_scram_eff,\"VPg- int AUG\"),\n",
    "             (uk_scram_eff,\"Unknown- int AUG\"),(hs_scram_eff,\"Human- int AUG\"),(ge_scram_eff,\"Geminivirus- int AUG\")]"
   ]
  },
  {
   "cell_type": "markdown",
   "metadata": {
    "deletable": true,
    "editable": true
   },
   "source": [
    "# test code for getting the nth AUG in a sequence "
   ]
  },
  {
   "cell_type": "code",
   "execution_count": 27,
   "metadata": {
    "collapsed": true,
    "deletable": true,
    "editable": true
   },
   "outputs": [],
   "source": [
    "# #find's the nth occurence of something\n",
    "# #SOURCE: http://stackoverflow.com/questions/1883980/find-the-nth-occurrence-of-substring-in-a-string\n",
    "# def findnth(haystack, needle, n):\n",
    "#     parts= haystack.split(needle, n+1)\n",
    "#     if len(parts)<=n+1:\n",
    "#         return -1\n",
    "#     return len(haystack)-len(parts[-1])-len(needle)"
   ]
  },
  {
   "cell_type": "code",
   "execution_count": 28,
   "metadata": {
    "collapsed": false,
    "deletable": true,
    "editable": true
   },
   "outputs": [],
   "source": [
    "# #returns a list\n",
    "# def extract_AUG_and_surroundings(seq_list, string_to_search ,n):\n",
    "\n",
    "#     extracted_downstream_AUG = []\n",
    "    \n",
    "#     for each in seq_list:\n",
    "#         #will give you the index of the 2nd CHARACTER of \"AUG\"\n",
    "#         internal_start_codon_index = findnth(str(each),string_to_search,n)\n",
    "\n",
    "#         #apply findnth to all sequences\n",
    "#         single_down_AUG = each[internal_start_codon_index-6:internal_start_codon_index+5]\n",
    "#         if len(single_down_AUG) == 11:\n",
    "#             extracted_downstream_AUG.append(single_down_AUG)\n",
    "            \n",
    "            \n",
    "#         #find all occurences of internal AUG, except those that are smaller than the size 11\n",
    "#     return extracted_downstream_AUG\n"
   ]
  },
  {
   "cell_type": "markdown",
   "metadata": {
    "deletable": true,
    "editable": true
   },
   "source": [
    "# test code for getting first AUG in a sequence"
   ]
  },
  {
   "cell_type": "code",
   "execution_count": 29,
   "metadata": {
    "collapsed": false,
    "deletable": true,
    "editable": true
   },
   "outputs": [],
   "source": [
    "# # viral_TIS_INTERNALAUG_list = []\n",
    "# viral_INTERNAL_AUG = extract_AUG_and_surroundings(viral_TIS_INTERNALAUG_list,\"AUG\",1)\n",
    "\n",
    "# # SCANNING_VIRAL_TIS_INTERNALAUG_LIST = []\n",
    "# SCANNING_INTERNAL_AUG = extract_AUG_and_surroundings(SCANNING_VIRAL_TIS_INTERNALAUG_LIST,\"AUG\",1)\n",
    "\n",
    "# # IRES_VIRAL_TIS_INTERNALAUG_LIST = []\n",
    "# IRES_INTERNAL_AUG = extract_AUG_and_surroundings(IRES_VIRAL_TIS_INTERNALAUG_LIST,\"AUG\",1)\n",
    "\n",
    "# # LEAKY_VIRAL_TIS_INTERNALAUG_LIST = []\n",
    "# LEAKY_INTERNAL_AUG = extract_AUG_and_surroundings(LEAKY_VIRAL_TIS_INTERNALAUG_LIST,\"AUG\",1)\n",
    "\n",
    "# # NSP_VIRAL_TIS_INTERNALAUG_LIST = []\n",
    "# NSP_INTERNAL_AUG = extract_AUG_and_surroundings(NSP_VIRAL_TIS_INTERNALAUG_LIST,\"AUG\",1)\n",
    "\n",
    "# # RIBOSOMESHUNTING_TIS_INTERNALAUG_LIST = []\n",
    "# RS_INTERNAL_AUG = extract_AUG_and_surroundings(RIBOSOMESHUNTING_TIS_INTERNALAUG_LIST,\"AUG\",1)\n",
    "    \n",
    "# # TERMINATIONINITIATION_TIS_INTERNALAUG_LIST = []\n",
    "# TI_INTERNAL_AUG = extract_AUG_and_surroundings(TERMINATIONINITIATION_TIS_INTERNALAUG_LIST,\"AUG\",1)\n",
    "    \n",
    "# # VPG_TIS_INTERNALAUG_LIST = []\n",
    "# VPG_INTERNAL_AUG = extract_AUG_and_surroundings(VPG_TIS_INTERNALAUG_LIST,\"AUG\",1)\n",
    "\n",
    "# # UNKNOWN_TIS_INTERNALAUG_LIST = []\n",
    "# UNKN_INTERNAL_AUG = extract_AUG_and_surroundings(UNKNOWN_TIS_INTERNALAUG_LIST,\"AUG\",1)\n",
    "\n",
    "    \n",
    "# # human_TIS_INTERNALAUG_list = []\n",
    "# HUMAN_INTERNAL_AUG = extract_AUG_and_surroundings(human_TIS_INTERNALAUG_list,\"AUG\",1)\n",
    "\n",
    "# # gemini_TIS_INTERNALAUG_list = []\n",
    "# GEMINI_INTERNAL_AUG = extract_AUG_and_surroundings(gemini_TIS_INTERNALAUG_list,\"AUG\",1)\n"
   ]
  },
  {
   "cell_type": "markdown",
   "metadata": {
    "deletable": true,
    "editable": true
   },
   "source": [
    "# TESTING CODE to remove YA from gemini diNT"
   ]
  },
  {
   "cell_type": "code",
   "execution_count": 30,
   "metadata": {
    "collapsed": false,
    "deletable": true,
    "editable": true
   },
   "outputs": [],
   "source": [
    "# test_list = diNT_tuple_gen_test(gemini_TIS_list)\n",
    "\n",
    "# \"YA\" in test_list\n",
    "\n",
    "# test_list[0:2]\n",
    "\n",
    "\n",
    "# [('YA', 1) for ]"
   ]
  },
  {
   "cell_type": "markdown",
   "metadata": {
    "deletable": true,
    "editable": true
   },
   "source": [
    "# Randomize human TIS sequence"
   ]
  },
  {
   "cell_type": "code",
   "execution_count": 31,
   "metadata": {
    "collapsed": true,
    "deletable": true,
    "editable": true
   },
   "outputs": [],
   "source": [
    "\n",
    "\n",
    "#for human sequences make a new fresh list of TIS sequences\n",
    "# from Bio import SeqIO\n",
    "# rand_TIS_list = []\n",
    "# #get the sequence out of the fasta file # should start at 24 until 35\n",
    "# for rand_seq_record in SeqIO.parse(\"hs_all_nodup_u36.fasta\", \"fasta\"):\n",
    "#     #transcribes from DNA to RNA by replacing T with U\n",
    "#     rand_TIS_list.append(rand_seq_record.seq.upper()[30:41].transcribe())"
   ]
  },
  {
   "cell_type": "code",
   "execution_count": 32,
   "metadata": {
    "collapsed": false,
    "deletable": true,
    "editable": true
   },
   "outputs": [],
   "source": [
    "# #rerun to get more random seq\n",
    "# shuffled_TIS_list =[]\n",
    "\n",
    "# for each in rand_TIS_list:\n",
    "    \n",
    "#     #get the TIS only\n",
    "#     TIS_only = str(each[0:6] + each[9:11])\n",
    "    \n",
    "#     #shuffles the TIS string\n",
    "#     shuffled_TIS_source_string = ''.join(random.sample(TIS_only,len(TIS_only)))\n",
    "    \n",
    "#     shuffled_record = Seq(shuffled_TIS_source_string[0:6] + \"AUG\" + shuffled_TIS_source_string[6:8], \n",
    "#             generic_rna)\n",
    "#     shuffled_TIS_list.append(shuffled_record)\n",
    "    \n",
    "    \n",
    "    \n",
    "\n",
    "    \n",
    "# scrambled_diNT_tuple_list = diNT_tuple_gen(shuffled_TIS_list)\n",
    "\n",
    "# scrambled_PWM_scores = score_seq_with_PWM(scrambled_diNT_tuple_list)\n",
    "\n",
    "# scrambled_human_data = convert_to_Pandas_series_adjust_K_val(scrambled_PWM_scores)\n",
    "\n",
    "# plt.hist(scrambled_human_data,bins=200)\n",
    "# plt.show()\n",
    "    \n",
    "# seq_dint_tuple_list = []\n",
    "# for i in range(len(shuffled_TIS_list)):\n",
    "\n",
    "#     for j in range(0,5):\n",
    "#         seq_dint_tuple_list.append((str(shuffled_TIS_list[i][j:j+2]), j+1))\n",
    "\n",
    "#     # add dint position 6\n",
    "#     seq_dint_tuple_list.append((shuffled_TIS_list[i][5]+TIS_list[i][9], 6))\n",
    "\n",
    "\n",
    "#     # add dint position 7\n",
    "#     seq_dint_tuple_list.append((shuffled_TIS_list[i][9]+TIS_list[i][10], 7))\n",
    "    \n",
    "\n",
    "    \n",
    "    #first index is 0 to 6\n",
    "#2nd index is from 0 to 1\n",
    "\n",
    "#have to accumulate every 7 PWMs\n",
    "\n",
    "# PWM_diNT_scores_seq = []\n",
    "# for i in range(len(seq_dint_tuple_list)):\n",
    "#     PWM_diNT_scores_seq.append(PWM(seq_dint_tuple_list[i][0], str(seq_dint_tuple_list[i][1])))\n",
    "    \n",
    "# list_of_tuples_by_seven = [PWM_diNT_scores_seq[x:x+7] for x in range(0, len(PWM_diNT_scores_seq),7)]\n",
    "\n",
    "\n",
    "# # have to multiply every 7 indices\n",
    "    \n",
    "# import operator\n",
    "# import functools\n",
    "\n",
    "# PWM_scores_seq = []\n",
    "# for i in range(len(list_of_tuples_by_seven)):\n",
    "#     PWM_scores_seq.append(functools.reduce(operator.mul, list_of_tuples_by_seven[i], 7))\n"
   ]
  },
  {
   "cell_type": "markdown",
   "metadata": {
    "deletable": true,
    "editable": true
   },
   "source": [
    "# diNT PWM scoring pipeline"
   ]
  },
  {
   "cell_type": "code",
   "execution_count": 33,
   "metadata": {
    "collapsed": true,
    "deletable": true,
    "editable": true
   },
   "outputs": [],
   "source": [
    "\n",
    "\n",
    "\n",
    "\n",
    "\n",
    "# gemini_diNT_tuples = diNT_tuple_gen(gemini_TIS_list)\n",
    "# not_adjusted_gemini_PWM_scores = score_seq_with_PWM(gemini_diNT_tuples) \n",
    "# #messed up diNT \"YA\"  so just skip the YA diNT\n",
    "# gemini_data = convert_to_Pandas_series_adjust_K_val(not_adjusted_gemini_PWM_scores)\n",
    "\n",
    "\n",
    "\n",
    "\n",
    "# plt.hist(gemini_data,bins=200)\n",
    "\n",
    "\n",
    "# plt.show()"
   ]
  },
  {
   "cell_type": "markdown",
   "metadata": {
    "deletable": true,
    "editable": true
   },
   "source": [
    "^above result always has a characterisit peak at 0-1"
   ]
  },
  {
   "cell_type": "code",
   "execution_count": 34,
   "metadata": {
    "collapsed": false,
    "deletable": true,
    "editable": true
   },
   "outputs": [],
   "source": [
    "# print(str(len(SCANNING_VIRAL_TIS_LIST))+\" = # of Scanning TIS seq\")\n",
    "# print(str(len(IRES_VIRAL_TIS_LIST))+\" = # of IRES TIS seq\")\n",
    "# print(str(len(LEAKY_VIRAL_TIS_LIST))+\" = # of Leaky Scanning TIS seq\")\n",
    "# print(str(len(NSP_VIRAL_TIS_LIST))+\" = # of NSP TIS seq\")\n",
    "# print(str(len(RIBOSOMESHUNTING_TIS_LIST))+\" = # of Ribosome Shunting TIS seq\")\n",
    "# print(str(len(TERMINATIONINITIATION_TIS_LIST))+\" = # Termination Reinitiation TIS seq\")\n",
    "# print(str(len(VPG_TIS_LIST))+\" = # of VPG TIS seq\")\n",
    "# print(str(len(UNKNOWN_TIS_LIST))+\" = # of unknown TIS seq\")"
   ]
  },
  {
   "cell_type": "markdown",
   "metadata": {
    "collapsed": true,
    "deletable": true,
    "editable": true
   },
   "source": [
    "score PWM first immediate downstream AUG of everything\n",
    "\n",
    "# expect TIS efficiency to be lower and the PWM score to be lower as well\n",
    "\n",
    "# TIS efficiencies in plants PWM\n",
    "\n",
    "# construct same dinucleotide PWM"
   ]
  },
  {
   "cell_type": "markdown",
   "metadata": {
    "deletable": true,
    "editable": true
   },
   "source": [
    "# KS test 2 samples"
   ]
  },
  {
   "cell_type": "code",
   "execution_count": 35,
   "metadata": {
    "collapsed": false,
    "deletable": true,
    "editable": true
   },
   "outputs": [
    {
     "data": {
      "text/plain": [
       "Ks_2sampResult(statistic=0.12770991325715206, pvalue=0.01049682009271879)"
      ]
     },
     "execution_count": 35,
     "metadata": {},
     "output_type": "execute_result"
    }
   ],
   "source": [
    "import scipy.stats\n",
    "scipy.stats.ks_2samp(ex_eff, hs_eff)\n",
    "scipy.stats.ks_2samp(sv_eff, hs_eff)"
   ]
  },
  {
   "cell_type": "code",
   "execution_count": 36,
   "metadata": {
    "collapsed": false,
    "deletable": true,
    "editable": true
   },
   "outputs": [],
   "source": [
    "\n",
    "test = [x[0] for x in sample_effs]\n",
    "\n",
    "# test[0].duplicated()\n",
    "\n",
    "\n",
    "\n",
    "\n",
    "# \"return the second item in a tuple for all tuples in list L.\"\n",
    "# [x[1] for x in L]\n",
    "\n",
    "# from collections import defaultdict\n",
    "# D = defaultdict(list)\n",
    "# for i,item in enumerate(sample_effs[:][0]):\n",
    "#     D[item].append(i)\n",
    "# D = {k:v for k,v in D.items() if len(v)>1}"
   ]
  },
  {
   "cell_type": "code",
   "execution_count": 37,
   "metadata": {
    "collapsed": false,
    "deletable": true,
    "editable": true
   },
   "outputs": [
    {
     "data": {
      "text/plain": [
       "159"
      ]
     },
     "execution_count": 37,
     "metadata": {},
     "output_type": "execute_result"
    }
   ],
   "source": [
    "# test[0]\n",
    "\n",
    "sv_test_dup_seqs = get_first_TIS(get_RNA_seq(sv_filename),\"V\")\n",
    "\n",
    "# pd.Series(sv_test_dup_seqs).duplicated(keep = \"last\")\n",
    "\n",
    "len(sv_test_dup_seqs)\n",
    "    "
   ]
  },
  {
   "cell_type": "code",
   "execution_count": 38,
   "metadata": {
    "collapsed": true,
    "deletable": true,
    "editable": true
   },
   "outputs": [],
   "source": [
    "def get_sample_name():\n",
    "    return"
   ]
  },
  {
   "cell_type": "code",
   "execution_count": 55,
   "metadata": {
    "collapsed": false,
    "deletable": true,
    "editable": true,
    "scrolled": true
   },
   "outputs": [
    {
     "name": "stderr",
     "output_type": "stream",
     "text": [
      "/home/alan/.conda/envs/bioinfo/lib/python3.6/site-packages/matplotlib/font_manager.py:1297: UserWarning: findfont: Font family ['sans-serif'] not found. Falling back to DejaVu Sans\n",
      "  (prop.get_family(), self.defaultFamily[fontext]))\n"
     ]
    },
    {
     "data": {
      "image/png": "[encoded data removed]",
      "text/plain": [
       "<matplotlib.figure.Figure at 0x7f3576bf6748>"
      ]
     },
     "metadata": {},
     "output_type": "display_data"
    },
    {
     "data": {
      "text/plain": [
       "Ks_2sampResult(statistic=0.16277808688586848, pvalue=1.2328972469782333e-31)"
      ]
     },
     "execution_count": 55,
     "metadata": {},
     "output_type": "execute_result"
    }
   ],
   "source": [
    "import scipy\n",
    "\n",
    "# sample_effs\n",
    "# internal_AUG_eff\n",
    "# scram_eff\n",
    "\n",
    "\n",
    "# dens_plots = []\n",
    "# for eff in viral_eff:\n",
    "#      dens_plots.append(sns.distplot(eff, hist=False))\n",
    "\n",
    "\n",
    "\n",
    "\n",
    "\n",
    "\n",
    "# all_viral_test_eff = analysis_pipeline((\"viral_all_30up_toSTOP.fasta\",\"V\"))\n",
    "\n",
    "sample1 = iv_eff\n",
    "sample2 = hs_eff\n",
    "\n",
    "sns.distplot(sample1, hist = False , label = \"IRES\")\n",
    "sns.distplot(sample2, hist = False, label = \"human\")\n",
    "\n",
    "plt.show()\n",
    "scipy.stats.ks_2samp(sample1, sample2)\n",
    "\n",
    "# #https://docs.scipy.org/doc/scipy/reference/generated/scipy.stats.chisquare.html\n",
    "# scipy.stats.chisquare(hs_eff,ex_eff)"
   ]
  },
  {
   "cell_type": "markdown",
   "metadata": {
    "deletable": true,
    "editable": true
   },
   "source": [
    "# use the new scoring scheme to scan the entire ORF like what you did in last semester."
   ]
  },
  {
   "cell_type": "code",
   "execution_count": 40,
   "metadata": {
    "collapsed": false,
    "deletable": true,
    "editable": true
   },
   "outputs": [],
   "source": [
    "# have to scan the TIS + 200 bp downstream\n",
    "\n",
    "\n"
   ]
  }
 ],
 "metadata": {
  "kernelspec": {
   "display_name": "Python 3",
   "language": "python",
   "name": "python3"
  },
  "language_info": {
   "codemirror_mode": {
    "name": "ipython",
    "version": 3
   },
   "file_extension": ".py",
   "mimetype": "text/x-python",
   "name": "python",
   "nbconvert_exporter": "python",
   "pygments_lexer": "ipython3",
   "version": "3.6.0"
  }
 },
 "nbformat": 4,
 "nbformat_minor": 2
}
