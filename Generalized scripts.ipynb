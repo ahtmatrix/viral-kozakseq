{
 "cells": [
  {
   "cell_type": "markdown",
   "metadata": {
    "deletable": true,
    "editable": true
   },
   "source": [
    "# Read CSV to make diNT PWM used for looking up the scores"
   ]
  },
  {
   "cell_type": "code",
   "execution_count": 8,
   "metadata": {
    "collapsed": true,
    "deletable": true,
    "editable": true
   },
   "outputs": [],
   "source": [
    "import csv\n",
    "\n",
    "diNT_csv_dictionary = {}\n",
    "\n",
    "#opens csv file, reads into a dictionary\n",
    "with open('diNTpwm_fordict.csv') as csvfile:\n",
    "    reader = csv.DictReader(csvfile)\n",
    "    for row in reader:\n",
    "        diNT_csv_dictionary[row['dinucleotide'], row['position']] = row['efficiency']"
   ]
  },
  {
   "cell_type": "markdown",
   "metadata": {
    "deletable": true,
    "editable": true
   },
   "source": [
    "# diNT PWM score TIS"
   ]
  },
  {
   "cell_type": "markdown",
   "metadata": {},
   "source": [
    "``  1 , 2,  3,  4,  5,  6,  7 ``\n",
    "\n",
    "`` -6, -5, -4, -3, -2, -1, +4, +5 ``\n"
   ]
  },
  {
   "cell_type": "code",
   "execution_count": 9,
   "metadata": {
    "collapsed": true
   },
   "outputs": [],
   "source": [
    "#have to scan through each dinucleotide position in seq\n",
    "#get the efficiency and multiply together\n",
    "#save into table\n",
    "\n",
    "import pandas as pd\n",
    "import numpy as np\n",
    "import matplotlib.pyplot as plt\n",
    "from Bio import SeqIO\n",
    "\n",
    "import operator\n",
    "import functools\n",
    "\n",
    "import math\n",
    "\n"
   ]
  },
  {
   "cell_type": "markdown",
   "metadata": {},
   "source": [
    "Load sequences into differnet TIS lists, from #30_ATG_rest and transcribe to RNA"
   ]
  },
  {
   "cell_type": "code",
   "execution_count": 10,
   "metadata": {
    "collapsed": false,
    "slideshow": {
     "slide_type": "-"
    }
   },
   "outputs": [],
   "source": [
    "viral_TIS_list = []\n",
    "#get the sequence out of the fasta file # should start at 24 until 35\n",
    "for viral_seq_record in SeqIO.parse(\"viral_all_30up_toSTOP.fasta\", \"fasta\"):\n",
    "    #transcribes from DNA to RNA by replacing T with U\n",
    "    viral_TIS_list.append(viral_seq_record.seq[24:35].transcribe())\n",
    "    \n",
    "    \n",
    "    \n",
    "    \n",
    "human_TIS_list = []\n",
    "for human_seq_record in SeqIO.parse(\"hs_all_nodup_u36.fasta\", \"fasta\"):\n",
    "    human_TIS_list.append(human_seq_record.seq.upper()[30:41].transcribe())\n",
    "    \n",
    "    \n",
    "    \n",
    "        \n",
    "gemini_TIS_list = []\n",
    "for gemini_seq_record in SeqIO.parse(\"gemini_5utr_orf.fasta\", \"fasta\"):\n",
    "    gemini_TIS_list.append(gemini_seq_record.seq.upper()[29:40].transcribe())  "
   ]
  },
  {
   "cell_type": "code",
   "execution_count": 7,
   "metadata": {
    "collapsed": true
   },
   "outputs": [],
   "source": [
    "# above TIS_lists will be the input of below function"
   ]
  },
  {
   "cell_type": "markdown",
   "metadata": {},
   "source": [
    "# extract diNT from TIS_list and discard common AUG"
   ]
  },
  {
   "cell_type": "code",
   "execution_count": 11,
   "metadata": {
    "collapsed": true
   },
   "outputs": [],
   "source": [
    "def diNT_tuple_gen(TIS_list):\n",
    "    \n",
    "    # MAKES A LIST OF DINT TUPLES FOR EACH TIS DISCARDING THE AUG - saves the diNT and its position\n",
    "    seq_dint_tuple_list = []\n",
    "    \n",
    "    for i in range(len(TIS_list)):\n",
    "\n",
    "        for j in range(0,5):\n",
    "            seq_dint_tuple_list.append((str(TIS_list[i][j:j+2]), j+1))\n",
    "\n",
    "        # add dint position 6\n",
    "        seq_dint_tuple_list.append((TIS_list[i][5]+TIS_list[i][9], 6))\n",
    "\n",
    "\n",
    "        # add dint position 7\n",
    "        seq_dint_tuple_list.append((TIS_list[i][9]+TIS_list[i][10], 7))\n",
    "    \n",
    "    return seq_dint_tuple_list"
   ]
  },
  {
   "cell_type": "markdown",
   "metadata": {},
   "source": [
    "# define PWM score lookup function"
   ]
  },
  {
   "cell_type": "code",
   "execution_count": 12,
   "metadata": {
    "collapsed": true
   },
   "outputs": [],
   "source": [
    "def PWM(dinucleotide, position):\n",
    "    #convert efficiency into float\n",
    "    return float(diNT_csv_dictionary[dinucleotide, position])"
   ]
  },
  {
   "cell_type": "code",
   "execution_count": 13,
   "metadata": {
    "collapsed": true
   },
   "outputs": [],
   "source": [
    "#first index is 0 to 6\n",
    "#2nd index is from 0 to 1\n",
    "\n",
    "#have to accumulate every 7 PWMs\n",
    "\n",
    "def score_seq_with_PWM(seq_dint_tuple_list):\n",
    "    \n",
    "    PWM_diNT_scores_seq = []\n",
    "    \n",
    "    #loop through all the tuples in the dint tuple list\n",
    "    for i in range(len(seq_dint_tuple_list)):\n",
    "        \n",
    "        #score each diNT, save the position and store into another list PWM_diNT_scores_seq\n",
    "        PWM_diNT_scores_seq.append(PWM(seq_dint_tuple_list[i][0], str(seq_dint_tuple_list[i][1])))\n",
    "\n",
    "\n",
    "    #group every 7 tuples which is a single sequence\n",
    "    list_of_tuples_by_seven = [PWM_diNT_scores_seq[x:x+7] for x in range(0, len(PWM_diNT_scores_seq),7)]\n",
    "\n",
    "\n",
    "    # have to multiply every 7 indices together to get single PWM score per sequence\n",
    "    PWM_scores_seq = []\n",
    "    for i in range(len(list_of_tuples_by_seven)):\n",
    "        PWM_scores_seq.append(functools.reduce(operator.mul, list_of_tuples_by_seven[i], 7))\n",
    "    \n",
    "    return PWM_scores_seq\n"
   ]
  },
  {
   "cell_type": "code",
   "execution_count": 14,
   "metadata": {
    "collapsed": true
   },
   "outputs": [],
   "source": [
    "def convert_to_Pandas_series_adjust_K_val(PWM_scores_seq):\n",
    "    #convert to pandas series, a datastructure, to easily manipulate\n",
    "    pandas_PWM_scores = pd.Series(PWM_scores_seq)\n",
    "    adjusted_PWM_scores = pandas_PWM_scores*math.exp(4.602730)\n",
    "    \n",
    "    return adjusted_PWM_scores"
   ]
  },
  {
   "cell_type": "code",
   "execution_count": null,
   "metadata": {
    "collapsed": true
   },
   "outputs": [],
   "source": [
    "plt.hist(adjusted_PWM_scores, bins = 200)\n",
    "plt.show()"
   ]
  },
  {
   "cell_type": "markdown",
   "metadata": {},
   "source": [
    "# diNT PWM scoring pipeline"
   ]
  },
  {
   "cell_type": "code",
   "execution_count": 32,
   "metadata": {
    "collapsed": false
   },
   "outputs": [
    {
     "data": {
      "image/png": "[encoded data removed]",
      "text/plain": [
       "<matplotlib.figure.Figure at 0x7fa44614e128>"
      ]
     },
     "metadata": {},
     "output_type": "display_data"
    }
   ],
   "source": [
    "viral_diNT_tuples = diNT_tuple_gen(viral_TIS_list)\n",
    "human_diNT_tuples = diNT_tuple_gen(human_TIS_list)\n",
    "gemini_diNT_tuples = diNT_tuple_gen(gemini_TIS_list)\n",
    "\n",
    "not_adjusted_viral_PWM_scores = score_seq_with_PWM(viral_diNT_tuples)\n",
    "not_adjusted_human_PWM_scores = score_seq_with_PWM(human_diNT_tuples)\n",
    "# score_seq_with_PWM(gemini_diNT_tuples) \n",
    "#messed up diNT \"YA\"\n",
    "\n",
    "\n",
    "viral_data = convert_to_Pandas_series_adjust_K_val(not_adjusted_viral_PWM_scores)\n",
    "human_data = convert_to_Pandas_series_adjust_K_val(not_adjusted_human_PWM_scores)\n",
    "\n",
    "plt.hist(viral_data,bins = 200)\n",
    "plt.hist(human_data, bins = 200)\n",
    "plt.show()"
   ]
  },
  {
   "cell_type": "markdown",
   "metadata": {
    "deletable": true,
    "editable": true
   },
   "source": [
    "# Randomize human TIS sequence"
   ]
  },
  {
   "cell_type": "code",
   "execution_count": 34,
   "metadata": {
    "collapsed": true,
    "deletable": true,
    "editable": true
   },
   "outputs": [],
   "source": [
    "import numpy\n",
    "import random\n",
    "from Bio.SeqRecord import SeqRecord\n",
    "from Bio.Seq import Seq\n",
    "from Bio.Alphabet import generic_rna\n",
    "\n",
    "#for human sequences make a new fresh list of TIS sequences\n",
    "from Bio import SeqIO\n",
    "rand_TIS_list = []\n",
    "#get the sequence out of the fasta file # should start at 24 until 35\n",
    "for rand_seq_record in SeqIO.parse(\"hs_all_nodup_u36.fasta\", \"fasta\"):\n",
    "    #transcribes from DNA to RNA by replacing T with U\n",
    "    rand_TIS_list.append(rand_seq_record.seq.upper()[30:41].transcribe())"
   ]
  },
  {
   "cell_type": "code",
   "execution_count": 36,
   "metadata": {
    "collapsed": true
   },
   "outputs": [],
   "source": [
    "#rerun to get more random seq\n",
    "shuffled_TIS_list =[]\n",
    "\n",
    "for each in rand_TIS_list:\n",
    "    \n",
    "    #get the TIS only\n",
    "    TIS_only = str(each[0:6] + each[9:11])\n",
    "    \n",
    "    #shuffles the TIS string\n",
    "    shuffled_TIS_source_string = ''.join(random.sample(TIS_only,len(TIS_only)))\n",
    "    \n",
    "    shuffled_record = Seq(shuffled_TIS_source_string[0:6] + \"AUG\" + shuffled_TIS_source_string[6:8], \n",
    "            generic_rna)\n",
    "    shuffled_TIS_list.append(shuffled_record)"
   ]
  },
  {
   "cell_type": "code",
   "execution_count": 48,
   "metadata": {
    "collapsed": false
   },
   "outputs": [
    {
     "data": {
      "image/png": "[encoded data removed]",
      "text/plain": [
       "<matplotlib.figure.Figure at 0x7fa445f55208>"
      ]
     },
     "metadata": {},
     "output_type": "display_data"
    }
   ],
   "source": [
    "#rerun to get more random seq\n",
    "shuffled_TIS_list =[]\n",
    "\n",
    "for each in rand_TIS_list:\n",
    "    \n",
    "    #get the TIS only\n",
    "    TIS_only = str(each[0:6] + each[9:11])\n",
    "    \n",
    "    #shuffles the TIS string\n",
    "    shuffled_TIS_source_string = ''.join(random.sample(TIS_only,len(TIS_only)))\n",
    "    \n",
    "    shuffled_record = Seq(shuffled_TIS_source_string[0:6] + \"AUG\" + shuffled_TIS_source_string[6:8], \n",
    "            generic_rna)\n",
    "    shuffled_TIS_list.append(shuffled_record)\n",
    "    \n",
    "    \n",
    "    \n",
    "\n",
    "    \n",
    "scrambled_diNT_tuple_list = diNT_tuple_gen(shuffled_TIS_list)\n",
    "\n",
    "scrambled_PWM_scores = score_seq_with_PWM(scrambled_diNT_tuple_list)\n",
    "\n",
    "scrambled_human_data = convert_to_Pandas_series_adjust_K_val(scrambled_PWM_scores)\n",
    "\n",
    "plt.hist(scrambled_human_data,bins=200)\n",
    "plt.show()\n",
    "    \n",
    "# seq_dint_tuple_list = []\n",
    "# for i in range(len(shuffled_TIS_list)):\n",
    "\n",
    "#     for j in range(0,5):\n",
    "#         seq_dint_tuple_list.append((str(shuffled_TIS_list[i][j:j+2]), j+1))\n",
    "\n",
    "#     # add dint position 6\n",
    "#     seq_dint_tuple_list.append((shuffled_TIS_list[i][5]+TIS_list[i][9], 6))\n",
    "\n",
    "\n",
    "#     # add dint position 7\n",
    "#     seq_dint_tuple_list.append((shuffled_TIS_list[i][9]+TIS_list[i][10], 7))\n",
    "    \n",
    "\n",
    "    \n",
    "    #first index is 0 to 6\n",
    "#2nd index is from 0 to 1\n",
    "\n",
    "#have to accumulate every 7 PWMs\n",
    "\n",
    "# PWM_diNT_scores_seq = []\n",
    "# for i in range(len(seq_dint_tuple_list)):\n",
    "#     PWM_diNT_scores_seq.append(PWM(seq_dint_tuple_list[i][0], str(seq_dint_tuple_list[i][1])))\n",
    "    \n",
    "# list_of_tuples_by_seven = [PWM_diNT_scores_seq[x:x+7] for x in range(0, len(PWM_diNT_scores_seq),7)]\n",
    "\n",
    "\n",
    "# # have to multiply every 7 indices\n",
    "    \n",
    "# import operator\n",
    "# import functools\n",
    "\n",
    "# PWM_scores_seq = []\n",
    "# for i in range(len(list_of_tuples_by_seven)):\n",
    "#     PWM_scores_seq.append(functools.reduce(operator.mul, list_of_tuples_by_seven[i], 7))\n"
   ]
  },
  {
   "cell_type": "markdown",
   "metadata": {
    "deletable": true,
    "editable": true
   },
   "source": [
    "# Plot density of diNT PWM scores"
   ]
  },
  {
   "cell_type": "code",
   "execution_count": 1,
   "metadata": {
    "collapsed": false,
    "deletable": true,
    "editable": true
   },
   "outputs": [
    {
     "ename": "NameError",
     "evalue": "name 'final_data_human' is not defined",
     "output_type": "error",
     "traceback": [
      "\u001b[0;31m---------------------------------------------------------------------------\u001b[0m",
      "\u001b[0;31mNameError\u001b[0m                                 Traceback (most recent call last)",
      "\u001b[0;32m<ipython-input-1-53cb3cab773b>\u001b[0m in \u001b[0;36m<module>\u001b[0;34m()\u001b[0m\n\u001b[1;32m      7\u001b[0m \u001b[0;34m\u001b[0m\u001b[0m\n\u001b[1;32m      8\u001b[0m \u001b[0;34m\u001b[0m\u001b[0m\n\u001b[0;32m----> 9\u001b[0;31m \u001b[0mdata_human\u001b[0m \u001b[0;34m=\u001b[0m \u001b[0mfinal_data_human\u001b[0m\u001b[0;34m\u001b[0m\u001b[0m\n\u001b[0m\u001b[1;32m     10\u001b[0m \u001b[0;34m\u001b[0m\u001b[0m\n\u001b[1;32m     11\u001b[0m \u001b[0mdensity_human\u001b[0m \u001b[0;34m=\u001b[0m \u001b[0mgaussian_kde\u001b[0m\u001b[0;34m(\u001b[0m\u001b[0mdata_human\u001b[0m\u001b[0;34m)\u001b[0m\u001b[0;34m\u001b[0m\u001b[0m\n",
      "\u001b[0;31mNameError\u001b[0m: name 'final_data_human' is not defined"
     ]
    }
   ],
   "source": [
    "#plots densities of the efficiencies\n",
    "\n",
    "import matplotlib.pyplot as plt\n",
    "import numpy as np\n",
    "from scipy.stats import gaussian_kde\n",
    "\n",
    "\n",
    "\n",
    "data_human = final_data_human\n",
    "\n",
    "density_human = gaussian_kde(data_human)\n",
    "\n",
    "\n",
    "\n",
    "\n",
    "\n",
    "data_viral = final_data_viral\n",
    "\n",
    "density_viral = gaussian_kde(data_viral)\n",
    "\n",
    "\n",
    "xs = np.linspace(-1000,4000,2000)\n",
    "\n",
    "\n",
    "\n",
    "\n",
    "\n",
    "\n",
    "density_viral.covariance_factor = lambda : .25\n",
    "\n",
    "density_viral._compute_covariance()\n",
    "\n",
    "\n",
    "\n",
    "\n",
    "\n",
    "\n",
    "\n",
    "\n",
    "\n",
    "density_human.covariance_factor = lambda : .25\n",
    "\n",
    "density_human._compute_covariance()\n",
    "\n",
    "\n",
    "plt.plot(xs,density_viral(xs), label = \"viral TIS\")\n",
    "plt.plot(xs,density_human(xs), label = \"human TIS\")\n",
    "plt.legend()\n",
    "plt.show()\n",
    "\n",
    "#human"
   ]
  }
 ],
 "metadata": {
  "kernelspec": {
   "display_name": "Python 3",
   "language": "python",
   "name": "python3"
  },
  "language_info": {
   "codemirror_mode": {
    "name": "ipython",
    "version": 3
   },
   "file_extension": ".py",
   "mimetype": "text/x-python",
   "name": "python",
   "nbconvert_exporter": "python",
   "pygments_lexer": "ipython3",
   "version": "3.6.0"
  }
 },
 "nbformat": 4,
 "nbformat_minor": 2
}
