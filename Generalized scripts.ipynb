{
 "cells": [
  {
   "cell_type": "markdown",
   "metadata": {
    "deletable": true,
    "editable": true
   },
   "source": [
    "# Read CSV to make diNT PWM used for looking up the scores"
   ]
  },
  {
   "cell_type": "code",
   "execution_count": 2,
   "metadata": {
    "collapsed": true,
    "deletable": true,
    "editable": true
   },
   "outputs": [],
   "source": [
    "import csv\n",
    "\n",
    "diNT_csv_dictionary = {}\n",
    "\n",
    "#opens csv file, reads into a dictionary\n",
    "with open('diNTpwm_fordict.csv') as csvfile:\n",
    "    reader = csv.DictReader(csvfile)\n",
    "    for row in reader:\n",
    "        diNT_csv_dictionary[row['dinucleotide'], row['position']] = row['efficiency']"
   ]
  },
  {
   "cell_type": "markdown",
   "metadata": {
    "deletable": true,
    "editable": true
   },
   "source": [
    "# diNT PWM score TIS"
   ]
  },
  {
   "cell_type": "markdown",
   "metadata": {
    "deletable": true,
    "editable": true
   },
   "source": [
    "``  1 , 2,  3,  4,  5,  6,  7 ``\n",
    "\n",
    "`` -6, -5, -4, -3, -2, -1, +4, +5 ``\n"
   ]
  },
  {
   "cell_type": "code",
   "execution_count": 3,
   "metadata": {
    "collapsed": true,
    "deletable": true,
    "editable": true
   },
   "outputs": [],
   "source": [
    "#have to scan through each dinucleotide position in seq\n",
    "#get the efficiency and multiply together\n",
    "#save into table\n",
    "\n",
    "import pandas as pd\n",
    "import numpy as np\n",
    "import matplotlib.pyplot as plt\n",
    "from Bio import SeqIO\n",
    "\n",
    "import operator\n",
    "import functools\n",
    "\n",
    "import math\n",
    "\n"
   ]
  },
  {
   "cell_type": "markdown",
   "metadata": {
    "deletable": true,
    "editable": true
   },
   "source": [
    "Load sequences into differnet TIS lists, from #30_ATG_rest and transcribe to RNA"
   ]
  },
  {
   "cell_type": "code",
   "execution_count": 35,
   "metadata": {
    "collapsed": false,
    "deletable": true,
    "editable": true,
    "slideshow": {
     "slide_type": "-"
    }
   },
   "outputs": [],
   "source": [
    "viral_TIS_list = []\n",
    "#get the sequence out of the fasta file # should start at 24 until 35\n",
    "for viral_seq_record in SeqIO.parse(\"viral_all_30up_toSTOP.fasta\", \"fasta\"):\n",
    "    #transcribes from DNA to RNA by replacing T with U\n",
    "    viral_TIS_list.append(viral_seq_record.seq[24:35].transcribe())\n",
    "    \n",
    "    \n",
    "\n",
    "\n",
    "# Scanning = []\n",
    "# IRES = []\n",
    "# LS = []\n",
    "# NSP = []\n",
    "# RS = []\n",
    "# TR = []\n",
    "# VPG = []\n",
    "# UNKNOWN = []\n",
    "    \n",
    "\n",
    "SCANNING_VIRAL_TIS_LIST = []\n",
    "#get the sequence out of the fasta file # should start at 24 until 35\n",
    "for viral_seq_record in SeqIO.parse(\"SCANNING_viral_all_30up_toSTOP_SEP.fasta\", \"fasta\"):\n",
    "    #transcribes from DNA to RNA by replacing T with U\n",
    "    SCANNING_VIRAL_TIS_LIST.append(viral_seq_record.seq[24:35].transcribe())\n",
    "    \n",
    "IRES_VIRAL_TIS_LIST = []\n",
    "#get the sequence out of the fasta file # should start at 24 until 35\n",
    "for viral_seq_record in SeqIO.parse(\"IRES_viral_all_30up_toSTOP_SEP.fasta\", \"fasta\"):\n",
    "    #transcribes from DNA to RNA by replacing T with U\n",
    "    IRES_VIRAL_TIS_LIST.append(viral_seq_record.seq[24:35].transcribe())\n",
    "    \n",
    "LEAKY_VIRAL_TIS_LIST = []\n",
    "#get the sequence out of the fasta file # should start at 24 until 35\n",
    "for viral_seq_record in SeqIO.parse(\"LEAKY_viral_all_30up_toSTOP_SEP.fasta\", \"fasta\"):\n",
    "    #transcribes from DNA to RNA by replacing T with U\n",
    "    LEAKY_VIRAL_TIS_LIST.append(viral_seq_record.seq[24:35].transcribe())\n",
    "    \n",
    "NSP_VIRAL_TIS_LIST = []\n",
    "#get the sequence out of the fasta file # should start at 24 until 35\n",
    "for viral_seq_record in SeqIO.parse(\"NSP_viral_all_30up_toSTOP_SEP.fasta\", \"fasta\"):\n",
    "    #transcribes from DNA to RNA by replacing T with U\n",
    "    NSP_VIRAL_TIS_LIST.append(viral_seq_record.seq[24:35].transcribe())\n",
    "    \n",
    "RIBOSOMESHUNTING_TIS_LIST = []\n",
    "#get the sequence out of the fasta file # should start at 24 until 35\n",
    "for viral_seq_record in SeqIO.parse(\"RIBOSOMESHUNTING_viral_all_30up_toSTOP_SEP.fasta\", \"fasta\"):\n",
    "    #transcribes from DNA to RNA by replacing T with U\n",
    "    RIBOSOMESHUNTING_TIS_LIST.append(viral_seq_record.seq[24:35].transcribe())\n",
    "    \n",
    "    \n",
    "    \n",
    "TERMINATIONINITIATION_TIS_LIST = []\n",
    "#get the sequence out of the fasta file # should start at 24 until 35\n",
    "for viral_seq_record in SeqIO.parse(\"TERMINATIONREINITIATION_viral_all_30up_toSTOP_SEP.fasta\", \"fasta\"):\n",
    "    #transcribes from DNA to RNA by replacing T with U\n",
    "    TERMINATIONINITIATION_TIS_LIST.append(viral_seq_record.seq[24:35].transcribe())\n",
    "    \n",
    "    \n",
    "    \n",
    "VPG_TIS_LIST = []\n",
    "#get the sequence out of the fasta file # should start at 24 until 35\n",
    "for viral_seq_record in SeqIO.parse(\"VPG_viral_all_30up_toSTOP_SEP.fasta\", \"fasta\"):\n",
    "    #transcribes from DNA to RNA by replacing T with U\n",
    "    VPG_TIS_LIST.append(viral_seq_record.seq[24:35].transcribe())\n",
    "    \n",
    "    \n",
    "    \n",
    "    \n",
    "UNKNOWN_TIS_LIST = []\n",
    "#get the sequence out of the fasta file # should start at 24 until 35\n",
    "for viral_seq_record in SeqIO.parse(\"UNKNOWN_viral_all_30up_toSTOP_SEP.fasta\", \"fasta\"):\n",
    "    #transcribes from DNA to RNA by replacing T with U\n",
    "    UNKNOWN_TIS_LIST.append(viral_seq_record.seq[24:35].transcribe())\n",
    "    \n",
    "    \n",
    "    \n",
    "    \n",
    "    \n",
    "    \n",
    "    \n",
    "    \n",
    "    \n",
    "    \n",
    "    \n",
    "human_TIS_list = []\n",
    "for human_seq_record in SeqIO.parse(\"hs_all_nodup_u36.fasta\", \"fasta\"):\n",
    "    human_TIS_list.append(human_seq_record.seq.upper()[30:41].transcribe())\n",
    "    \n",
    "    \n",
    "    \n",
    "        \n",
    "gemini_TIS_list = []\n",
    "for gemini_seq_record in SeqIO.parse(\"YA_diNT_replace_C_gemini_5utr_orf.fasta\", \"fasta\"):\n",
    "    gemini_TIS_list.append(gemini_seq_record.seq.upper()[29:40].transcribe())  "
   ]
  },
  {
   "cell_type": "code",
   "execution_count": 7,
   "metadata": {
    "collapsed": true,
    "deletable": true,
    "editable": true
   },
   "outputs": [],
   "source": [
    "# above TIS_lists will be the input of below function"
   ]
  },
  {
   "cell_type": "markdown",
   "metadata": {
    "deletable": true,
    "editable": true
   },
   "source": [
    "# extract diNT from TIS_list and discard common AUG"
   ]
  },
  {
   "cell_type": "code",
   "execution_count": 5,
   "metadata": {
    "collapsed": true,
    "deletable": true,
    "editable": true
   },
   "outputs": [],
   "source": [
    "def diNT_tuple_gen(TIS_list):\n",
    "    \n",
    "    # MAKES A LIST OF DINT TUPLES FOR EACH TIS DISCARDING THE AUG - saves the diNT and its position\n",
    "    seq_dint_tuple_list = []\n",
    "    \n",
    "    for i in range(len(TIS_list)):\n",
    "\n",
    "        for j in range(0,5):\n",
    "            seq_dint_tuple_list.append((str(TIS_list[i][j:j+2]), j+1))\n",
    "\n",
    "        # add dint position 6\n",
    "        seq_dint_tuple_list.append((TIS_list[i][5]+TIS_list[i][9], 6))\n",
    "\n",
    "\n",
    "        # add dint position 7\n",
    "        seq_dint_tuple_list.append((TIS_list[i][9]+TIS_list[i][10], 7))\n",
    "    \n",
    "    return seq_dint_tuple_list"
   ]
  },
  {
   "cell_type": "markdown",
   "metadata": {
    "deletable": true,
    "editable": true
   },
   "source": [
    "# TESTING CODE to remove YA diNT"
   ]
  },
  {
   "cell_type": "code",
   "execution_count": 6,
   "metadata": {
    "collapsed": true,
    "deletable": true,
    "editable": true
   },
   "outputs": [],
   "source": [
    "# have to remove YA diNT\n",
    "def diNT_tuple_gen_test(TIS_list):\n",
    "    \n",
    "    # MAKES A LIST OF DINT TUPLES FOR EACH TIS DISCARDING THE AUG - saves the diNT and its position\n",
    "    seq_dint_tuple_list = []\n",
    "    \n",
    "    for i in range(len(TIS_list)):\n",
    "\n",
    "        for j in range(0,5):\n",
    "            seq_dint_tuple_list.append((str(TIS_list[i][j:j+2]), j+1))\n",
    "\n",
    "        # add dint position 6\n",
    "        seq_dint_tuple_list.append((TIS_list[i][5]+TIS_list[i][9], 6))\n",
    "\n",
    "        \n",
    "        # add dint position 7\n",
    "        seq_dint_tuple_list.append((TIS_list[i][9]+TIS_list[i][10], 7))\n",
    "    \n",
    "    return seq_dint_tuple_list"
   ]
  },
  {
   "cell_type": "code",
   "execution_count": 18,
   "metadata": {
    "collapsed": false,
    "deletable": true,
    "editable": true
   },
   "outputs": [
    {
     "data": {
      "text/plain": [
       "[('UA', 1), ('AU', 2)]"
      ]
     },
     "execution_count": 18,
     "metadata": {},
     "output_type": "execute_result"
    }
   ],
   "source": [
    "test_list = diNT_tuple_gen_test(gemini_TIS_list)\n",
    "\n",
    "\"YA\" in test_list\n",
    "\n",
    "test_list[0:2]\n",
    "\n",
    "\n",
    "[('YA', 1) for ]"
   ]
  },
  {
   "cell_type": "markdown",
   "metadata": {
    "deletable": true,
    "editable": true
   },
   "source": [
    "# TESTING CODE to remove YA diNT"
   ]
  },
  {
   "cell_type": "markdown",
   "metadata": {
    "deletable": true,
    "editable": true
   },
   "source": [
    "\n",
    "# define PWM score lookup function"
   ]
  },
  {
   "cell_type": "code",
   "execution_count": 7,
   "metadata": {
    "collapsed": true,
    "deletable": true,
    "editable": true
   },
   "outputs": [],
   "source": [
    "def PWM(dinucleotide, position):\n",
    "    #convert efficiency into float\n",
    "    return float(diNT_csv_dictionary[dinucleotide, position])"
   ]
  },
  {
   "cell_type": "code",
   "execution_count": 8,
   "metadata": {
    "collapsed": true,
    "deletable": true,
    "editable": true
   },
   "outputs": [],
   "source": [
    "#first index is 0 to 6\n",
    "#2nd index is from 0 to 1\n",
    "\n",
    "#have to accumulate every 7 PWMs\n",
    "\n",
    "def score_seq_with_PWM(seq_dint_tuple_list):\n",
    "    \n",
    "    PWM_diNT_scores_seq = []\n",
    "    \n",
    "    #loop through all the tuples in the dint tuple list\n",
    "    for i in range(len(seq_dint_tuple_list)):\n",
    "        \n",
    "        #score each diNT, save the position and store into another list PWM_diNT_scores_seq\n",
    "        PWM_diNT_scores_seq.append(PWM(seq_dint_tuple_list[i][0], str(seq_dint_tuple_list[i][1])))\n",
    "\n",
    "\n",
    "    #group every 7 tuples which is a single sequence\n",
    "    list_of_tuples_by_seven = [PWM_diNT_scores_seq[x:x+7] for x in range(0, len(PWM_diNT_scores_seq),7)]\n",
    "\n",
    "\n",
    "    # have to multiply every 7 indices together to get single PWM score per sequence\n",
    "    PWM_scores_seq = []\n",
    "    for i in range(len(list_of_tuples_by_seven)):\n",
    "        PWM_scores_seq.append(functools.reduce(operator.mul, list_of_tuples_by_seven[i], 7))\n",
    "    \n",
    "    return PWM_scores_seq\n"
   ]
  },
  {
   "cell_type": "code",
   "execution_count": 9,
   "metadata": {
    "collapsed": true,
    "deletable": true,
    "editable": true
   },
   "outputs": [],
   "source": [
    "def convert_to_Pandas_series_adjust_K_val(PWM_scores_seq):\n",
    "    #convert to pandas series, a datastructure, to easily manipulate\n",
    "    pandas_PWM_scores = pd.Series(PWM_scores_seq)\n",
    "    adjusted_PWM_scores = pandas_PWM_scores*math.exp(4.602730)\n",
    "    \n",
    "    return adjusted_PWM_scores"
   ]
  },
  {
   "cell_type": "markdown",
   "metadata": {
    "deletable": true,
    "editable": true
   },
   "source": [
    "# Plotting functions"
   ]
  },
  {
   "cell_type": "code",
   "execution_count": null,
   "metadata": {
    "collapsed": true,
    "deletable": true,
    "editable": true
   },
   "outputs": [],
   "source": [
    "plt.hist(adjusted_PWM_scores, bins = 200)\n",
    "plt.show()"
   ]
  },
  {
   "cell_type": "markdown",
   "metadata": {
    "deletable": true,
    "editable": true
   },
   "source": [
    "# diNT PWM scoring pipeline"
   ]
  },
  {
   "cell_type": "code",
   "execution_count": 36,
   "metadata": {
    "collapsed": false,
    "deletable": true,
    "editable": true
   },
   "outputs": [
    {
     "data": {
      "image/png": "[encoded data removed]",
      "text/plain": [
       "<matplotlib.figure.Figure at 0x7f5485e8d898>"
      ]
     },
     "metadata": {},
     "output_type": "display_data"
    }
   ],
   "source": [
    "viral_diNT_tuples = diNT_tuple_gen(viral_TIS_list)\n",
    "not_adjusted_viral_PWM_scores = score_seq_with_PWM(viral_diNT_tuples)\n",
    "viral_data = convert_to_Pandas_series_adjust_K_val(not_adjusted_viral_PWM_scores)\n",
    "\n",
    "\n",
    "s_v_t_l = diNT_tuple_gen(SCANNING_VIRAL_TIS_LIST)\n",
    "not_adjusted_s_v_t_l = score_seq_with_PWM(s_v_t_l)\n",
    "scanning_viral_data = convert_to_Pandas_series_adjust_K_val(not_adjusted_s_v_t_l)\n",
    "\n",
    "ivtl = diNT_tuple_gen(IRES_VIRAL_TIS_LIST)\n",
    "not_adjusted_ivtl = score_seq_with_PWM(ivtl)\n",
    "ires_viral_data = convert_to_Pandas_series_adjust_K_val(not_adjusted_ivtl)\n",
    "\n",
    "lvtl = diNT_tuple_gen(LEAKY_VIRAL_TIS_LIST)\n",
    "not_adjusted_lvtl = score_seq_with_PWM(lvtl)\n",
    "leaky_viral_data = convert_to_Pandas_series_adjust_K_val(not_adjusted_lvtl)\n",
    "\n",
    "nsvtl = diNT_tuple_gen(NSP_VIRAL_TIS_LIST)\n",
    "not_adjusted_nsvtl = score_seq_with_PWM(nsvtl)\n",
    "nsp_viral_data = convert_to_Pandas_series_adjust_K_val(not_adjusted_nsvtl)\n",
    "\n",
    "\n",
    "rstl = diNT_tuple_gen(RIBOSOMESHUNTING_TIS_LIST)\n",
    "not_adjusted_rstl = score_seq_with_PWM(rstl)\n",
    "rs_viral_data = convert_to_Pandas_series_adjust_K_val(not_adjusted_rstl)\n",
    "\n",
    "\n",
    "titl = diNT_tuple_gen(TERMINATIONINITIATION_TIS_LIST)\n",
    "not_adjusted_titl = score_seq_with_PWM(titl)\n",
    "ti_viral_data = convert_to_Pandas_series_adjust_K_val(not_adjusted_titl)\n",
    "\n",
    "\n",
    "\n",
    "vpgtl = diNT_tuple_gen(VPG_TIS_LIST)\n",
    "not_adjusted_vpgtl = score_seq_with_PWM(vpgtl)\n",
    "vpg_viral_data = convert_to_Pandas_series_adjust_K_val(not_adjusted_vpgtl)\n",
    "\n",
    "\n",
    "unknowntl = diNT_tuple_gen(UNKNOWN_TIS_LIST)\n",
    "not_adjusted_unknowntl = score_seq_with_PWM(unknowntl)\n",
    "unknown_viral_data = convert_to_Pandas_series_adjust_K_val(not_adjusted_unknowntl)\n",
    "    \n",
    "\n",
    "\n",
    "human_diNT_tuples = diNT_tuple_gen(human_TIS_list)\n",
    "not_adjusted_human_PWM_scores = score_seq_with_PWM(human_diNT_tuples)\n",
    "human_data = convert_to_Pandas_series_adjust_K_val(not_adjusted_human_PWM_scores)\n",
    "\n",
    "\n",
    "scram_human_TIS                      = scramble_TIS(human_TIS_list)\n",
    "\n",
    "scram_SCANNING_VIRAL_TIS_LIST        = scramble_TIS(SCANNING_VIRAL_TIS_LIST)\n",
    "scram_IRES_VIRAL_TIS_LIST            = scramble_TIS(IRES_VIRAL_TIS_LIST)\n",
    "scarm_LEAKY_VIRAL_TIS_LIST           = scramble_TIS(LEAKY_VIRAL_TIS_LIST)\n",
    "scram_NSP_VIRAL_TIS_LIST             = scramble_TIS(NSP_VIRAL_TIS_LIST)\n",
    "scram_RIBOSOMESHUNTING_TIS_LIST      = scramble_TIS(RIBOSOMESHUNTING_TIS_LIST)\n",
    "scram_TERMINATIONINITIATION_TIS_LIST = scramble_TIS(TERMINATIONINITIATION_TIS_LIST)\n",
    "scram_VPG_TIS_LIST                   = scramble_TIS(VPG_TIS_LIST)\n",
    "scram_UNKNOWN_TIS_LIST               = scramble_TIS(UNKNOWN_TIS_LIST)\n",
    "\n",
    "\n",
    "\n",
    "\n",
    "scram_human_TIS_diNT_tuple = diNT_tuple_gen(scram_human_TIS)\n",
    "no_adjust_scram_human_TIS = score_seq_with_PWM(scram_human_TIS_diNT_tuple)\n",
    "scram_human_data = convert_to_Pandas_series_adjust_K_val(no_adjust_scram_human_TIS)\n",
    "\n",
    "\n",
    "\n",
    "\n",
    "scram_SCANNING_VIRAL_TIS_LIST_diNT_tuple = diNT_tuple_gen(scram_SCANNING_VIRAL_TIS_LIST)\n",
    "no_adjust_SCANNING_VIRAL_TIS = score_seq_with_PWM(scram_SCANNING_VIRAL_TIS_LIST_diNT_tuple)\n",
    "scram_SCANNING_data = convert_to_Pandas_series_adjust_K_val(no_adjust_SCANNING_VIRAL_TIS)\n",
    "\n",
    "scram_IRES_VIRAL_TIS_LIST_diNT_tuple = diNT_tuple_gen(scram_IRES_VIRAL_TIS_LIST)\n",
    "no_adjust_IRES_VIRAL_TIS = score_seq_with_PWM(scram_IRES_VIRAL_TIS_LIST_diNT_tuple)\n",
    "scram_IRES_data = convert_to_Pandas_series_adjust_K_val(no_adjust_IRES_VIRAL_TIS)\n",
    "\n",
    "scarm_LEAKY_VIRAL_TIS_LIST_diNT_tuple = diNT_tuple_gen(scarm_LEAKY_VIRAL_TIS_LIST)\n",
    "no_adjust_LEAKY_VIRA_TIS = score_seq_with_PWM(scarm_LEAKY_VIRAL_TIS_LIST_diNT_tuple)\n",
    "scram_LEAKY_data = convert_to_Pandas_series_adjust_K_val(no_adjust_LEAKY_VIRA_TIS)\n",
    "\n",
    "scram_NSP_VIRAL_TIS_LIST_diNT_tuple = diNT_tuple_gen(scram_NSP_VIRAL_TIS_LIST)\n",
    "no_adjust_NSP_VIRAL_TIS = score_seq_with_PWM(scram_NSP_VIRAL_TIS_LIST_diNT_tuple)\n",
    "scram_NSP_data = convert_to_Pandas_series_adjust_K_val(no_adjust_NSP_VIRAL_TIS)\n",
    "\n",
    "scram_RIBOSOMESHUNTING_TIS_LIST_diNT_tuple = diNT_tuple_gen(scram_RIBOSOMESHUNTING_TIS_LIST)\n",
    "no_adjust_RIBOSOMESHUNTING_TIS_TIS = score_seq_with_PWM(scram_RIBOSOMESHUNTING_TIS_LIST_diNT_tuple)\n",
    "scram_RS_data = convert_to_Pandas_series_adjust_K_val(no_adjust_RIBOSOMESHUNTING_TIS_TIS)\n",
    "\n",
    "scram_TERMINATIONINITIATION_TIS_LIST_diNT_tuple = diNT_tuple_gen(scram_TERMINATIONINITIATION_TIS_LIST)\n",
    "no_adjust_TERMINATIONINITIATION_TIS = score_seq_with_PWM(scram_TERMINATIONINITIATION_TIS_LIST_diNT_tuple)\n",
    "scram_TI_data = convert_to_Pandas_series_adjust_K_val(no_adjust_TERMINATIONINITIATION_TIS)\n",
    "\n",
    "scram_VPG_TIS_LIST_diNT_tuple = diNT_tuple_gen(scram_VPG_TIS_LIST)\n",
    "no_adjust_scram_VPG_TIS = score_seq_with_PWM(scram_VPG_TIS_LIST_diNT_tuple)\n",
    "scram_VPG_data = convert_to_Pandas_series_adjust_K_val(no_adjust_scram_VPG_TIS)\n",
    "\n",
    "scram_UNKNOWN_TIS_LIST_diNT_tuple = diNT_tuple_gen(scram_UNKNOWN_TIS_LIST)\n",
    "no_adjust_scram_UNKNOWN_TIS = score_seq_with_PWM(scram_UNKNOWN_TIS_LIST_diNT_tuple)\n",
    "scram_UNKNOWN_data = convert_to_Pandas_series_adjust_K_val(no_adjust_scram_UNKNOWN_TIS)\n",
    "\n",
    "\n",
    "\n",
    "gemini_diNT_tuples = diNT_tuple_gen(gemini_TIS_list)\n",
    "not_adjusted_gemini_PWM_scores = score_seq_with_PWM(gemini_diNT_tuples) \n",
    "#messed up diNT \"YA\"  so just skip the YA diNT\n",
    "gemini_data = convert_to_Pandas_series_adjust_K_val(not_adjusted_gemini_PWM_scores)\n",
    "\n",
    "\n",
    "\n",
    "\n",
    "\n",
    "\n",
    "# plt.hist(viral_data,bins = 200)\n",
    "# plt.hist(human_data, bins = 200)\n",
    "\n",
    "# plt.hist(scrambled_human_data,bins=200)\n",
    "\n",
    "plt.hist(gemini_data,bins=200)\n",
    "\n",
    "\n",
    "\n",
    "plt.show()"
   ]
  },
  {
   "cell_type": "code",
   "execution_count": 70,
   "metadata": {
    "collapsed": false
   },
   "outputs": [
    {
     "data": {
      "text/plain": [
       "[Seq('GCCGCCAUGCC', RNAAlphabet()),\n",
       " Seq('GCCGCCAUGCC', RNAAlphabet()),\n",
       " Seq('AGGUACAUGGA', RNAAlphabet()),\n",
       " Seq('AGGUACAUGGA', RNAAlphabet()),\n",
       " Seq('UCAGGUAUGGC', RNAAlphabet()),\n",
       " Seq('GUUAAGACGGC', RNAAlphabet()),\n",
       " Seq('GUCAGACUGGA', RNAAlphabet()),\n",
       " Seq('AAUACGAUGGC', RNAAlphabet()),\n",
       " Seq('AGCAGUAUGGU', RNAAlphabet()),\n",
       " Seq('GCGCCCAUGGG', RNAAlphabet()),\n",
       " Seq('GCGACCAUGCG', RNAAlphabet()),\n",
       " Seq('UAGGCAAUGGG', RNAAlphabet()),\n",
       " Seq('UAGGCAAUGGG', RNAAlphabet()),\n",
       " Seq('UAGGCAAUGGG', RNAAlphabet()),\n",
       " Seq('AGCUGCAUGCC', RNAAlphabet()),\n",
       " Seq('AACACCAUGGG', RNAAlphabet()),\n",
       " Seq('AACACCAUGGG', RNAAlphabet()),\n",
       " Seq('CCCAAAAUGGA', RNAAlphabet()),\n",
       " Seq('GCCAAGAUGUU', RNAAlphabet()),\n",
       " Seq('GCCAAGAUGUU', RNAAlphabet()),\n",
       " Seq('AAGGCCAUGGU', RNAAlphabet()),\n",
       " Seq('AGGUUCAUGGG', RNAAlphabet()),\n",
       " Seq('UCAGGCAUGGC', RNAAlphabet()),\n",
       " Seq('AUGAAGAUGGC', RNAAlphabet()),\n",
       " Seq('GAAUCCAUGGA', RNAAlphabet()),\n",
       " Seq('GAAUCCAUGGA', RNAAlphabet()),\n",
       " Seq('GUAAACAUGAA', RNAAlphabet()),\n",
       " Seq('GUAAACAUGAA', RNAAlphabet()),\n",
       " Seq('AUUCCCAUGGA', RNAAlphabet()),\n",
       " Seq('GCCCGAAUGGC', RNAAlphabet()),\n",
       " Seq('AUCACAAUGGA', RNAAlphabet()),\n",
       " Seq('ACCACCAUGAA', RNAAlphabet()),\n",
       " Seq('ACCACCAUGAA', RNAAlphabet()),\n",
       " Seq('AUCAAAAUGUC', RNAAlphabet()),\n",
       " Seq('GAUAUCAUGGA', RNAAlphabet()),\n",
       " Seq('AGAUAGAUGAG', RNAAlphabet()),\n",
       " Seq('UUCAUCAUGAG', RNAAlphabet()),\n",
       " Seq('GACACUAUGAA', RNAAlphabet()),\n",
       " Seq('GCAAUCAUGGA', RNAAlphabet()),\n",
       " Seq('CCAAACAUGGC', RNAAlphabet()),\n",
       " Seq('GGCAACAUGGA', RNAAlphabet()),\n",
       " Seq('GGCAACAUGGA', RNAAlphabet()),\n",
       " Seq('ACCAAAAUGAA', RNAAlphabet()),\n",
       " Seq('AAAAUCAUGGC', RNAAlphabet()),\n",
       " Seq('ACAGCCAUGGG', RNAAlphabet()),\n",
       " Seq('AUAGUAAUGUG', RNAAlphabet()),\n",
       " Seq('AUAGUAAUGUG', RNAAlphabet()),\n",
       " Seq('AGCACCAUGGC', RNAAlphabet()),\n",
       " Seq('CACAAAAUGAA', RNAAlphabet()),\n",
       " Seq('AUCAAAAUGUC', RNAAlphabet()),\n",
       " Seq('CCAAAAAUGAA', RNAAlphabet()),\n",
       " Seq('UGAACAAUGCU', RNAAlphabet()),\n",
       " Seq('GGAAAGAUGGC', RNAAlphabet()),\n",
       " Seq('GGAAAGAUGGC', RNAAlphabet()),\n",
       " Seq('CCGAGUAUGGA', RNAAlphabet()),\n",
       " Seq('AACAAGAUGAC', RNAAlphabet()),\n",
       " Seq('AAAAAUAUGAG', RNAAlphabet()),\n",
       " Seq('AACACAAUGGG', RNAAlphabet()),\n",
       " Seq('AACACAAUGGG', RNAAlphabet()),\n",
       " Seq('AACACAAUGGG', RNAAlphabet()),\n",
       " Seq('UUUUAAAUGGA', RNAAlphabet()),\n",
       " Seq('AAAACCAUGGC', RNAAlphabet()),\n",
       " Seq('UAUUAAAUGGC', RNAAlphabet()),\n",
       " Seq('UUCCUAAUGGC', RNAAlphabet()),\n",
       " Seq('UUCCUAAUGGC', RNAAlphabet()),\n",
       " Seq('AAUAAAAUGUU', RNAAlphabet()),\n",
       " Seq('ACAGUAAUGGC', RNAAlphabet()),\n",
       " Seq('UUUGCUAUGCA', RNAAlphabet()),\n",
       " Seq('ACUAAGAUGUU', RNAAlphabet()),\n",
       " Seq('ACGACAAUGUC', RNAAlphabet()),\n",
       " Seq('GAAAAGAUGGC', RNAAlphabet()),\n",
       " Seq('CCCACGAUGGC', RNAAlphabet()),\n",
       " Seq('AGCACCAUGAA', RNAAlphabet()),\n",
       " Seq('AGCACCAUGAA', RNAAlphabet()),\n",
       " Seq('CUCAUCAUGUC', RNAAlphabet()),\n",
       " Seq('UCCACCAUGGA', RNAAlphabet()),\n",
       " Seq('UCCACCAUGGA', RNAAlphabet()),\n",
       " Seq('UCCAAAAUGGA', RNAAlphabet()),\n",
       " Seq('UCAGAGAUGUU', RNAAlphabet()),\n",
       " Seq('UCAGAGAUGUU', RNAAlphabet()),\n",
       " Seq('CUGAACAUGGA', RNAAlphabet()),\n",
       " Seq('GUUUCCAUGGC', RNAAlphabet()),\n",
       " Seq('AGCACCAUGCA', RNAAlphabet()),\n",
       " Seq('UGGGGCAUGGA', RNAAlphabet()),\n",
       " Seq('CCCAUCAUGGA', RNAAlphabet()),\n",
       " Seq('GCUACAAUGGA', RNAAlphabet()),\n",
       " Seq('GCUACAAUGGA', RNAAlphabet()),\n",
       " Seq('ACGAAAAUGAC', RNAAlphabet()),\n",
       " Seq('CCAACAAUGGC', RNAAlphabet()),\n",
       " Seq('GUCUCAAUGAA', RNAAlphabet()),\n",
       " Seq('UAUCAAAUGCC', RNAAlphabet()),\n",
       " Seq('AUUGCAAUGGA', RNAAlphabet()),\n",
       " Seq('UCAUACAUGAU', RNAAlphabet()),\n",
       " Seq('UGCGCAAUGGA', RNAAlphabet()),\n",
       " Seq('GUCCUCGGCCA', RNAAlphabet()),\n",
       " Seq('AGAAGGAUGGG', RNAAlphabet()),\n",
       " Seq('AACAAGAUGUC', RNAAlphabet()),\n",
       " Seq('CUGGCGAUGAG', RNAAlphabet()),\n",
       " Seq('UUUAAAAUGGG', RNAAlphabet()),\n",
       " Seq('CUCCAAAUGGG', RNAAlphabet()),\n",
       " Seq('CUAAACAUGGA', RNAAlphabet()),\n",
       " Seq('GGUAAGAUGGA', RNAAlphabet()),\n",
       " Seq('GGUAAGAUGGA', RNAAlphabet()),\n",
       " Seq('ACGAACAUGUU', RNAAlphabet()),\n",
       " Seq('GAACUUAUGGA', RNAAlphabet()),\n",
       " Seq('UACUUUAUGAU', RNAAlphabet()),\n",
       " Seq('GAACUUAUGUA', RNAAlphabet()),\n",
       " Seq('CUUAUCAUGGC', RNAAlphabet()),\n",
       " Seq('CAACAGAUGUU', RNAAlphabet()),\n",
       " Seq('ACGAACAUGAA', RNAAlphabet()),\n",
       " Seq('GACAGAAUGAA', RNAAlphabet()),\n",
       " Seq('ACGAACAUGAA', RNAAlphabet()),\n",
       " Seq('AACCUCAUGUG', RNAAlphabet()),\n",
       " Seq('AUUAAAAUGUC', RNAAlphabet()),\n",
       " Seq('CUGAUAAUGGA', RNAAlphabet()),\n",
       " Seq('UAACACAUGGG', RNAAlphabet()),\n",
       " Seq('GCCACUAUGGC', RNAAlphabet()),\n",
       " Seq('CCCACAAUGGG', RNAAlphabet()),\n",
       " Seq('UUGGCCAUGGA', RNAAlphabet()),\n",
       " Seq('AGACAAAUGGG', RNAAlphabet()),\n",
       " Seq('UUGAGCAUGGA', RNAAlphabet()),\n",
       " Seq('UGCACAAUGGG', RNAAlphabet()),\n",
       " Seq('UCUGGCAUGGC', RNAAlphabet()),\n",
       " Seq('ACAAAUAUGGG', RNAAlphabet()),\n",
       " Seq('UCUGGAAUGAG', RNAAlphabet()),\n",
       " Seq('CCCGCCAUGAA', RNAAlphabet()),\n",
       " Seq('AGAGAAAUGGC', RNAAlphabet()),\n",
       " Seq('AGGAUCAUGUG', RNAAlphabet()),\n",
       " Seq('AAAAAGAUGGA', RNAAlphabet()),\n",
       " Seq('GGAGAGAUGGG', RNAAlphabet()),\n",
       " Seq('UUGAUCAUGGA', RNAAlphabet()),\n",
       " Seq('UUUAGGAUGGG', RNAAlphabet()),\n",
       " Seq('UCAAAGAUGGG', RNAAlphabet()),\n",
       " Seq('UCCAAAAUGUC', RNAAlphabet()),\n",
       " Seq('AGAAAGAUGAU', RNAAlphabet()),\n",
       " Seq('UGAAGGAUGGA', RNAAlphabet()),\n",
       " Seq('GAGAGAAUGGU', RNAAlphabet()),\n",
       " Seq('UCGGAAAUGGC', RNAAlphabet()),\n",
       " Seq('CUUAGAAUGAG', RNAAlphabet()),\n",
       " Seq('UUUUAGAUGGG', RNAAlphabet()),\n",
       " Seq('UCAGGAAUGGC', RNAAlphabet()),\n",
       " Seq('AACAAGAUGAG', RNAAlphabet()),\n",
       " Seq('GGCAAAAUGGA', RNAAlphabet()),\n",
       " Seq('GGCAAAAUGGA', RNAAlphabet()),\n",
       " Seq('UUCAGGAUGGG', RNAAlphabet()),\n",
       " Seq('UUGAAGAUGGC', RNAAlphabet()),\n",
       " Seq('GAAAGAGAGGC', RNAAlphabet()),\n",
       " Seq('GAAAGAGAGGC', RNAAlphabet()),\n",
       " Seq('CACAUCAUGUC', RNAAlphabet()),\n",
       " Seq('CACAUCAUGUC', RNAAlphabet()),\n",
       " Seq('GUGACAAUGAU', RNAAlphabet()),\n",
       " Seq('CUAUUAAUGAG', RNAAlphabet()),\n",
       " Seq('AACUCUAUGGA', RNAAlphabet()),\n",
       " Seq('AUAAGGAUGGA', RNAAlphabet()),\n",
       " Seq('CGAACUAUGGC', RNAAlphabet()),\n",
       " Seq('CGAACUAUGUU', RNAAlphabet()),\n",
       " Seq('UUCAUAAUGUC', RNAAlphabet()),\n",
       " Seq('AUUGUUAUGGC', RNAAlphabet()),\n",
       " Seq('CUCUUAAUGCC', RNAAlphabet())]"
      ]
     },
     "execution_count": 70,
     "metadata": {},
     "output_type": "execute_result"
    }
   ],
   "source": [
    "SCANNING_VIRAL_TIS_LIST\n",
    "\n",
    "\n",
    "# scanning_viral_data\n",
    "# ires_viral_data\n",
    "# leaky_viral_data\n",
    "# nsp_viral_data\n",
    "# rs_viral_data\n",
    "# ti_viral_data\n",
    "# vpg_viral_data\n",
    "# unknown_viral_data\n"
   ]
  },
  {
   "cell_type": "markdown",
   "metadata": {
    "deletable": true,
    "editable": true
   },
   "source": [
    "# Randomize human TIS sequence"
   ]
  },
  {
   "cell_type": "code",
   "execution_count": 11,
   "metadata": {
    "collapsed": true,
    "deletable": true,
    "editable": true
   },
   "outputs": [],
   "source": [
    "import numpy\n",
    "import random\n",
    "from Bio.SeqRecord import SeqRecord\n",
    "from Bio.Seq import Seq\n",
    "from Bio.Alphabet import generic_rna\n",
    "\n",
    "#for human sequences make a new fresh list of TIS sequences\n",
    "from Bio import SeqIO\n",
    "rand_TIS_list = []\n",
    "#get the sequence out of the fasta file # should start at 24 until 35\n",
    "for rand_seq_record in SeqIO.parse(\"hs_all_nodup_u36.fasta\", \"fasta\"):\n",
    "    #transcribes from DNA to RNA by replacing T with U\n",
    "    rand_TIS_list.append(rand_seq_record.seq.upper()[30:41].transcribe())"
   ]
  },
  {
   "cell_type": "code",
   "execution_count": 47,
   "metadata": {
    "collapsed": true
   },
   "outputs": [],
   "source": [
    "def scramble_TIS(rand_TIS_list):\n",
    "    #rerun to get more random seq\n",
    "    shuffled_TIS_list =[]\n",
    "\n",
    "    for each in rand_TIS_list:\n",
    "\n",
    "        #get the TIS only\n",
    "        TIS_only = str(each[0:6] + each[9:11])\n",
    "\n",
    "        #shuffles the TIS string\n",
    "        shuffled_TIS_source_string = ''.join(random.sample(TIS_only,len(TIS_only)))\n",
    "\n",
    "        shuffled_record = Seq(shuffled_TIS_source_string[0:6] + \"AUG\" + shuffled_TIS_source_string[6:8], \n",
    "                generic_rna)\n",
    "        shuffled_TIS_list.append(shuffled_record)\n",
    "    return shuffled_TIS_list\n",
    "    "
   ]
  },
  {
   "cell_type": "code",
   "execution_count": 12,
   "metadata": {
    "collapsed": false,
    "deletable": true,
    "editable": true
   },
   "outputs": [
    {
     "data": {
      "image/png": "[encoded data removed]",
      "text/plain": [
       "<matplotlib.figure.Figure at 0x7f5483a0b978>"
      ]
     },
     "metadata": {},
     "output_type": "display_data"
    }
   ],
   "source": [
    "# #rerun to get more random seq\n",
    "# shuffled_TIS_list =[]\n",
    "\n",
    "# for each in rand_TIS_list:\n",
    "    \n",
    "#     #get the TIS only\n",
    "#     TIS_only = str(each[0:6] + each[9:11])\n",
    "    \n",
    "#     #shuffles the TIS string\n",
    "#     shuffled_TIS_source_string = ''.join(random.sample(TIS_only,len(TIS_only)))\n",
    "    \n",
    "#     shuffled_record = Seq(shuffled_TIS_source_string[0:6] + \"AUG\" + shuffled_TIS_source_string[6:8], \n",
    "#             generic_rna)\n",
    "#     shuffled_TIS_list.append(shuffled_record)\n",
    "    \n",
    "    \n",
    "    \n",
    "\n",
    "    \n",
    "scrambled_diNT_tuple_list = diNT_tuple_gen(shuffled_TIS_list)\n",
    "\n",
    "scrambled_PWM_scores = score_seq_with_PWM(scrambled_diNT_tuple_list)\n",
    "\n",
    "scrambled_human_data = convert_to_Pandas_series_adjust_K_val(scrambled_PWM_scores)\n",
    "\n",
    "plt.hist(scrambled_human_data,bins=200)\n",
    "plt.show()\n",
    "    \n",
    "# seq_dint_tuple_list = []\n",
    "# for i in range(len(shuffled_TIS_list)):\n",
    "\n",
    "#     for j in range(0,5):\n",
    "#         seq_dint_tuple_list.append((str(shuffled_TIS_list[i][j:j+2]), j+1))\n",
    "\n",
    "#     # add dint position 6\n",
    "#     seq_dint_tuple_list.append((shuffled_TIS_list[i][5]+TIS_list[i][9], 6))\n",
    "\n",
    "\n",
    "#     # add dint position 7\n",
    "#     seq_dint_tuple_list.append((shuffled_TIS_list[i][9]+TIS_list[i][10], 7))\n",
    "    \n",
    "\n",
    "    \n",
    "    #first index is 0 to 6\n",
    "#2nd index is from 0 to 1\n",
    "\n",
    "#have to accumulate every 7 PWMs\n",
    "\n",
    "# PWM_diNT_scores_seq = []\n",
    "# for i in range(len(seq_dint_tuple_list)):\n",
    "#     PWM_diNT_scores_seq.append(PWM(seq_dint_tuple_list[i][0], str(seq_dint_tuple_list[i][1])))\n",
    "    \n",
    "# list_of_tuples_by_seven = [PWM_diNT_scores_seq[x:x+7] for x in range(0, len(PWM_diNT_scores_seq),7)]\n",
    "\n",
    "\n",
    "# # have to multiply every 7 indices\n",
    "    \n",
    "# import operator\n",
    "# import functools\n",
    "\n",
    "# PWM_scores_seq = []\n",
    "# for i in range(len(list_of_tuples_by_seven)):\n",
    "#     PWM_scores_seq.append(functools.reduce(operator.mul, list_of_tuples_by_seven[i], 7))\n"
   ]
  },
  {
   "cell_type": "markdown",
   "metadata": {
    "deletable": true,
    "editable": true
   },
   "source": [
    "^above result always has a characterisit peak at 0-1"
   ]
  },
  {
   "cell_type": "markdown",
   "metadata": {
    "deletable": true,
    "editable": true
   },
   "source": [
    "# Plot density of diNT PWM scores"
   ]
  },
  {
   "cell_type": "code",
   "execution_count": 45,
   "metadata": {
    "collapsed": false,
    "deletable": true,
    "editable": true,
    "scrolled": true
   },
   "outputs": [
    {
     "data": {
      "image/png": "[encoded data removed]",
      "text/plain": [
       "<matplotlib.figure.Figure at 0x7f5483521b00>"
      ]
     },
     "metadata": {},
     "output_type": "display_data"
    }
   ],
   "source": [
    "#plots densities of the efficiencies\n",
    "\n",
    "import matplotlib.pyplot as plt\n",
    "import numpy as np\n",
    "from scipy.stats import gaussian_kde\n",
    "\n",
    "xs = np.linspace(-1000,4000,2000)\n",
    "\n",
    "\n",
    "# plt.hist(viral_data,bins = 200)\n",
    "# plt.hist(human_data, bins = 200)\n",
    "# plt.hist(scrambled_human_data,bins=200)\n",
    "\n",
    "\n",
    "# density_viral = gaussian_kde(viral_data)\n",
    "# density_viral.covariance_factor = lambda : .25\n",
    "# density_viral._compute_covariance()\n",
    "# plt.plot(xs,density_viral(xs), label = \"viral TIS\")\n",
    "\n",
    "\n",
    "\n",
    "density_human = gaussian_kde(human_data)\n",
    "density_human.covariance_factor = lambda : .25\n",
    "density_human._compute_covariance()\n",
    "plt.plot(xs,density_human(xs), label = \"human TIS\")\n",
    "\n",
    "\n",
    "\n",
    "density_scrambled_human = gaussian_kde(scrambled_human_data)\n",
    "density_scrambled_human.covariance_factor = lambda : .25\n",
    "density_scrambled_human._compute_covariance()\n",
    "plt.plot(xs,density_scrambled_human(xs),label = \"scrambled human TIS\")\n",
    "\n",
    "\n",
    "\n",
    "# density_gemini = gaussian_kde(gemini_data)\n",
    "# density_gemini.covariance_factor = lambda : .25\n",
    "# density_gemini._compute_covariance()\n",
    "# plt.plot(xs,density_gemini(xs),label = \"gemini TIS\")\n",
    "\n",
    "\n",
    "\n",
    "\n",
    "\n",
    "# scanning_viral_data\n",
    "# ires_viral_data\n",
    "# leaky_viral_data\n",
    "# nsp_viral_data\n",
    "# rs_viral_data\n",
    "# ti_viral_data\n",
    "# vpg_viral_data\n",
    "# unknown_viral_data\n",
    "\n",
    "\n",
    "\n",
    "\n",
    "# density_s = gaussian_kde(scanning_viral_data)\n",
    "# density_s.covariance_factor = lambda : .25\n",
    "# density_s._compute_covariance()\n",
    "# plt.plot(xs,density_s(xs),label = \"scanning viral TIS\")\n",
    "\n",
    "\n",
    "# density_i = gaussian_kde(ires_viral_data)\n",
    "# density_i.covariance_factor = lambda : .25\n",
    "# density_i._compute_covariance()\n",
    "# plt.plot(xs,density_i(xs),label = \"ires viral TIS\")\n",
    "\n",
    "# density_l = gaussian_kde(leaky_viral_data)\n",
    "# density_l.covariance_factor = lambda : .25\n",
    "# density_l._compute_covariance()\n",
    "# plt.plot(xs,density_l(xs),label = \"leaky viral TIS\")\n",
    "\n",
    "# density_n = gaussian_kde(nsp_viral_data)\n",
    "# density_n.covariance_factor = lambda : .25\n",
    "# density_n._compute_covariance()\n",
    "# plt.plot(xs,density_n(xs),label = \"nsp viral TIS\")\n",
    "\n",
    "# density_rs = gaussian_kde(rs_viral_data)\n",
    "# density_rs.covariance_factor = lambda : .25\n",
    "# density_rs._compute_covariance()\n",
    "# plt.plot(xs,density_rs(xs),label = \"ribosome shunting viral TIS\")\n",
    "\n",
    "# density_ti = gaussian_kde(ti_viral_data)\n",
    "# density_ti.covariance_factor = lambda : .25\n",
    "# density_ti._compute_covariance()\n",
    "# plt.plot(xs,density_ti(xs),label = \"termination reinitiation viral TIS\")\n",
    "\n",
    "# density_v = gaussian_kde(vpg_viral_data)\n",
    "# density_v.covariance_factor = lambda : .25\n",
    "# density_v._compute_covariance()\n",
    "# plt.plot(xs,density_v(xs),label = \"vpg viral TIS\")\n",
    "\n",
    "density_uk = gaussian_kde(unknown_viral_data)\n",
    "density_uk.covariance_factor = lambda : .25\n",
    "density_uk._compute_covariance()\n",
    "plt.plot(xs,density_uk(xs),label = \"unknown TIS\")\n",
    "\n",
    "\n",
    "\n",
    "\n",
    "plt.legend()\n",
    "plt.show()\n",
    "\n",
    "#human"
   ]
  },
  {
   "cell_type": "markdown",
   "metadata": {
    "deletable": true,
    "editable": true
   },
   "source": [
    "# Chi Square test"
   ]
  },
  {
   "cell_type": "code",
   "execution_count": 46,
   "metadata": {
    "collapsed": false,
    "deletable": true,
    "editable": true
   },
   "outputs": [],
   "source": [
    "from scipy import stats\n",
    "\n",
    "# stats.chisquare()\n",
    "\n",
    "human_data.to_csv(\"human_pwm_scores.csv\")\n",
    "# viral_data.to_csv(\"viral_pwm_scores.csv\")\n",
    "scrambled_human_data.to_csv(\"scrambled_human_pwm_scores.csv\")\n",
    "\n",
    "\n",
    "\n",
    "\n",
    "scanning_viral_data.to_csv(\"scanning_viral_pwm_scores.csv\")\n",
    "ires_viral_data.to_csv(\"ires_viral_pwm_scores\")\n",
    "leaky_viral_data.to_csv(\"leaky_viral_pwm_scores\")\n",
    "nsp_viral_data.to_csv(\"nsp_viral_pwm_scores\")\n",
    "rs_viral_data.to_csv(\"rs_viral_pwm_scores\")\n",
    "ti_viral_data.to_csv(\"ti_viral_pwm_scores\")\n",
    "vpg_viral_data.to_csv(\"vpg_viral_pwm_scores\")\n",
    "unknown_viral_data.to_csv(\"unknown_viral_pwm_scores\")\n",
    "\n",
    "\n",
    "\n",
    "\n",
    "\n",
    "\n",
    "\n",
    "\n",
    "\n",
    "\n",
    "gemini_data.to_csv(\"gemini_pwm_scores.csv\")\n",
    "\n",
    "\n",
    "# observed = np.array(human_data)\n",
    "# expected = np.array(scrambled_human_data)\n",
    "\n",
    "\n",
    "\n"
   ]
  },
  {
   "cell_type": "code",
   "execution_count": null,
   "metadata": {
    "collapsed": true
   },
   "outputs": [],
   "source": [
    "stats.chisquare(human_data, scrambled_human_data)"
   ]
  },
  {
   "cell_type": "markdown",
   "metadata": {
    "deletable": true,
    "editable": true
   },
   "source": [
    "# use the new scoring scheme to scan the entire ORF like what you did in last semester."
   ]
  },
  {
   "cell_type": "code",
   "execution_count": 25,
   "metadata": {
    "collapsed": true,
    "deletable": true,
    "editable": true
   },
   "outputs": [],
   "source": [
    "# have to scan the TIS + 200 bp downstream\n",
    "\n",
    "\n"
   ]
  }
 ],
 "metadata": {
  "kernelspec": {
   "display_name": "Python 3",
   "language": "python",
   "name": "python3"
  },
  "language_info": {
   "codemirror_mode": {
    "name": "ipython",
    "version": 3
   },
   "file_extension": ".py",
   "mimetype": "text/x-python",
   "name": "python",
   "nbconvert_exporter": "python",
   "pygments_lexer": "ipython3",
   "version": "3.6.0"
  }
 },
 "nbformat": 4,
 "nbformat_minor": 2
}
