{
 "cells": [
  {
   "cell_type": "markdown",
   "metadata": {
    "deletable": true,
    "editable": true
   },
   "source": [
    "# TODO\n",
    "# filter out viral seq into differnet classes of TIS\n",
    "# FASTA annotator.py\n",
    "\n",
    "\n",
    "# 2 tailed chi square test\n",
    "# compare human and shuffled seq\n",
    "# scramble viral seq\n",
    "# scrambled\n",
    "\n",
    "\n",
    "# 4 distributions\n",
    "\n",
    "# plant viruses\n",
    "\n",
    "\n",
    "# human human viruses | arabidopsis and arabidopsis viruses\n",
    "\n",
    "# duplicate cell to preserve outputs\n",
    "\n",
    "\n",
    "# methods of RBSdesigner\n",
    "\n",
    "\n",
    "\n",
    "\n",
    "\n",
    "# human vs viral for all variants\n",
    "# will have many distribustion\n",
    "\n",
    "# human vs human shuffle\n",
    "# human vs viral shuffle\n"
   ]
  },
  {
   "cell_type": "code",
   "execution_count": 1,
   "metadata": {
    "collapsed": false,
    "deletable": true,
    "editable": true
   },
   "outputs": [
    {
     "data": {
      "text/plain": [
       "2528"
      ]
     },
     "execution_count": 1,
     "metadata": {},
     "output_type": "execute_result"
    }
   ],
   "source": [
    "import sys\n",
    "import os\n",
    "from Bio import SeqIO\n",
    "from Bio.SeqRecord import SeqRecord\n",
    "# from Bio.SeqFeature import SeqFeature, FeatureLocation\n",
    "# from Bio import pairwise2\n",
    "# import warnings\n",
    "# from Bio import BiopythonWarning\n",
    "# import re\n",
    "import csv\n",
    "\n",
    "\n",
    "\n",
    "# make a dictionary of the csv file\n",
    "#----------------------------------------------------------------------------------------------------------------\n",
    "reader = csv.DictReader(open('TIS_annotation.csv'))\n",
    "\n",
    "TIS_annotation_dict = {}\n",
    "\n",
    "for row in reader:\n",
    "    \n",
    "    #get old key\n",
    "    key  = row['Accession_#']\n",
    "    start = key.find('NC')\n",
    "    end = key.find('.', start)\n",
    "    \n",
    "    #strip out the verision number\n",
    "    cleaned_key = key[start:end]\n",
    "    \n",
    "    TIS_annotation_dict[cleaned_key] = row['primary_TIS_type']\n",
    "#----------------------------------------------------------------------------------------------------------------\n",
    "\n",
    "\n",
    "# annotate TIS with TIS type\n",
    "#----------------------------------------------------------------------------------------------------------------\n",
    "annotated_extracted_TIS_list = []\n",
    "\n",
    "filename = \"viral_all_30up_toSTOP.fasta\"\n",
    "\n",
    "for record in SeqIO.parse(filename, \"fasta\"):\n",
    "    record_description = str(record.description)\n",
    "    \n",
    "    annotated_record = SeqRecord(record.seq,\n",
    "                                 record.name,\n",
    "                                 description = record_description + str(TIS_annotation_dict.get(record.id)))\n",
    "\n",
    "    annotated_extracted_TIS_list.append(annotated_record)\n",
    "\n",
    "#----------------------------------------------------------------------------------------------------------------\n",
    "\n",
    "\n",
    "\n",
    "\n",
    "# IRES\n",
    "# IRES, Leaky Scanning\n",
    "# Leaky Scanning\n",
    "# NSP3-3'UTR\n",
    "# Ribosome Shunting\n",
    "# Scanning\n",
    "# Scanning, IRES\n",
    "# Termination-Reinitiation\n",
    "# VPg\n",
    "# UNKNOWN\n",
    "\n",
    "\n",
    "\n",
    "#have to separate it out into different files\n",
    "\n",
    "\n",
    "\n",
    "# write out annotated TIS list to file\n",
    "SeqIO.write(annotated_extracted_TIS_list, \"annotated_\" + filename, \"fasta\")\n",
    "\n",
    "\n",
    "\n",
    "# def set_rna_TIS(fullpath, filename):\n",
    "\n",
    "#     annotated_extracted_TIS_list = []\n",
    "\n",
    "#     for record in SeqIO.parse(fullpath, \"fasta\"):\n",
    "#         record_description = str(record.description)\n",
    "#                                                                                                 #you can change this\n",
    "#         annotated_record = SeqRecord(record.seq, record.name,description = record_description + \"Scanning\")\n",
    "\n",
    "#         annotated_extracted_TIS_list.append(annotated_record)\n",
    "        \n",
    "#     SeqIO.write(annotated_extracted_TIS_list, \"annotated_\" + filename +\".fasta\", \"fasta\")\n",
    "#     return\n",
    "\n",
    "\n",
    "\n",
    "\n",
    "# creates a list of the files in this directory\n",
    "# raw_datadir_listing = os.listdir(os.getcwd())\n",
    "\n",
    "\n",
    "\n",
    "\n",
    "# loops over the list of files\n",
    "\n",
    "\n",
    "# for files in raw_datadir_listing:\n",
    "#     if files.startswith('viral_all_30up_toSTOP'):\n",
    "#         full_path = os.path.join(os.getcwd(), files)\n",
    "#         filename = os.path.splitext(files)[0]\n",
    "#         set_viral_TIS(full_path, filename)\n",
    "        \n",
    "\n",
    "    # if files.startswith('extracted_TIS_rna'):\n",
    "    #     full_path = os.path.join(os.getcwd(), files)\n",
    "    #     filename = os.path.splitext(files)[0]\n",
    "    #     set_rna_TIS(full_path, filename)"
   ]
  },
  {
   "cell_type": "code",
   "execution_count": 40,
   "metadata": {
    "collapsed": false,
    "deletable": true,
    "editable": true
   },
   "outputs": [
    {
     "name": "stdout",
     "output_type": "stream",
     "text": [
      "[]\n"
     ]
    }
   ],
   "source": [
    "TIS_annotation_dict\n",
    "\n",
    "\n",
    "dank = []\n",
    "for val in TIS_annotation_dict.values():\n",
    "    if val in TIS_annotation_dict.values():\n",
    "        continue\n",
    "    else:\n",
    "        dank.append(val)\n",
    "\n",
    "print(dank)\n",
    "\n",
    "\n"
   ]
  },
  {
   "cell_type": "markdown",
   "metadata": {},
   "source": [
    "# have to figure out how to split into multiple files of different TIS types"
   ]
  }
 ],
 "metadata": {
  "kernelspec": {
   "display_name": "Python 3",
   "language": "python",
   "name": "python3"
  },
  "language_info": {
   "codemirror_mode": {
    "name": "ipython",
    "version": 3
   },
   "file_extension": ".py",
   "mimetype": "text/x-python",
   "name": "python",
   "nbconvert_exporter": "python",
   "pygments_lexer": "ipython3",
   "version": "3.6.0"
  }
 },
 "nbformat": 4,
 "nbformat_minor": 2
}
