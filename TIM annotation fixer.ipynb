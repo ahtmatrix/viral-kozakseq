{
 "cells": [
  {
   "cell_type": "code",
   "execution_count": 7,
   "metadata": {
    "collapsed": false,
    "deletable": true,
    "editable": true
   },
   "outputs": [],
   "source": [
    "import sys\n",
    "import os\n",
    "from Bio import SeqIO\n",
    "from Bio.SeqRecord import SeqRecord\n",
    "# from Bio.SeqFeature import SeqFeature, FeatureLocation\n",
    "# from Bio import pairwise2\n",
    "# import warnings\n",
    "# from Bio import BiopythonWarning\n",
    "# import re\n",
    "import csv\n",
    "\n",
    "\n",
    "\n",
    "# make a dictionary of the csv file and clean up the accession numbers so it matches the viral data\n",
    "#----------------------------------------------------------------------------------------------------------------\n",
    "reader = csv.DictReader(open('TIS_annotation.csv'))\n",
    "\n",
    "TIS_annotation_dict = {}\n",
    "\n",
    "for row in reader:\n",
    "    \n",
    "    #get old key\n",
    "    key  = row['Accession_#']\n",
    "    start = key.find('NC')\n",
    "    end = key.find('.', start)\n",
    "    \n",
    "    #strip out the verision number\n",
    "    cleaned_key = key[start:end]\n",
    "    \n",
    "    #makes a new correct TIS annotation dictionary\n",
    "    TIS_annotation_dict[cleaned_key] = row['primary_TIS_type']\n",
    "#----------------------------------------------------------------------------------------------------------------\n",
    "\n"
   ]
  },
  {
   "cell_type": "code",
   "execution_count": 8,
   "metadata": {
    "collapsed": false,
    "deletable": true,
    "editable": true
   },
   "outputs": [
    {
     "data": {
      "text/plain": [
       "2528"
      ]
     },
     "execution_count": 8,
     "metadata": {},
     "output_type": "execute_result"
    }
   ],
   "source": [
    "import sys\n",
    "import os\n",
    "from Bio import SeqIO\n",
    "from Bio.SeqRecord import SeqRecord\n",
    "# annotate TIS with TIS type\n",
    "#----------------------------------------------------------------------------------------------------------------\n",
    "annotated_extracted_TIS_list = []\n",
    "\n",
    "filename = \"fixed_accession_viral_all_30up_toSTOP.fasta\"\n",
    "\n",
    "#for every record in the fasta file, delimited by >\n",
    "for record in SeqIO.parse(filename, \"fasta\"):\n",
    "    \n",
    "    record_description = str(record.description)\n",
    "    \n",
    "    #make a new record with the sequence, name of protein, and the TIS type\n",
    "    annotated_record = SeqRecord(record.seq,\n",
    "                                 record.name,\n",
    "                                 description = record_description + str(TIS_annotation_dict.get(record.id)))\n",
    "\n",
    "    annotated_extracted_TIS_list.append(annotated_record)\n",
    "\n",
    "#----------------------------------------------------------------------------------------------------------------\n",
    "\n",
    "\n",
    "\n",
    "\n",
    "# IRES\n",
    "# IRES, Leaky Scanning\n",
    "# Leaky Scanning\n",
    "# NSP3-3'UTR\n",
    "# Ribosome Shunting\n",
    "# Scanning\n",
    "# Scanning, IRES\n",
    "# Termination-Reinitiation\n",
    "# VPg\n",
    "# UNKNOWN\n",
    "\n",
    "\n",
    "\n",
    "#have to separate it out into different files\n",
    "\n",
    "\n",
    "\n",
    "# write out annotated TIS list to file\n",
    "SeqIO.write(annotated_extracted_TIS_list, \"annotated_\" + filename, \"fasta\")\n",
    "\n",
    "\n",
    "\n",
    "# def set_rna_TIS(fullpath, filename):\n",
    "\n",
    "#     annotated_extracted_TIS_list = []\n",
    "\n",
    "#     for record in SeqIO.parse(fullpath, \"fasta\"):\n",
    "#         record_description = str(record.description)\n",
    "#                                                                                                 #you can change this\n",
    "#         annotated_record = SeqRecord(record.seq, record.name,description = record_description + \"Scanning\")\n",
    "\n",
    "#         annotated_extracted_TIS_list.append(annotated_record)\n",
    "        \n",
    "#     SeqIO.write(annotated_extracted_TIS_list, \"annotated_\" + filename +\".fasta\", \"fasta\")\n",
    "#     return\n",
    "\n",
    "\n",
    "\n",
    "\n",
    "# creates a list of the files in this directory\n",
    "# raw_datadir_listing = os.listdir(os.getcwd())\n",
    "\n",
    "\n",
    "\n",
    "\n",
    "# loops over the list of files\n",
    "\n",
    "\n",
    "# for files in raw_datadir_listing:\n",
    "#     if files.startswith('viral_all_30up_toSTOP'):\n",
    "#         full_path = os.path.join(os.getcwd(), files)\n",
    "#         filename = os.path.splitext(files)[0]\n",
    "#         set_viral_TIS(full_path, filename)\n",
    "        \n",
    "\n",
    "    # if files.startswith('extracted_TIS_rna'):\n",
    "    #     full_path = os.path.join(os.getcwd(), files)\n",
    "    #     filename = os.path.splitext(files)[0]\n",
    "    #     set_rna_TIS(full_path, filename)"
   ]
  },
  {
   "cell_type": "markdown",
   "metadata": {
    "deletable": true,
    "editable": true
   },
   "source": [
    "# CODE FOR INTERACE WITH ENTREZ"
   ]
  },
  {
   "cell_type": "code",
   "execution_count": 8,
   "metadata": {
    "collapsed": true,
    "deletable": true,
    "editable": true
   },
   "outputs": [],
   "source": [
    "#search ncbi GenBank with term biopython\n",
    "handle = Entrez.esearch(db =\"nucleotide\", term = \"biopython\")"
   ]
  },
  {
   "cell_type": "code",
   "execution_count": 6,
   "metadata": {
    "collapsed": false,
    "deletable": true,
    "editable": true,
    "scrolled": false
   },
   "outputs": [
    {
     "data": {
      "text/plain": [
       "['28011774', '24929426', '24497503', '24267035', '24194598', '23842806', '23157543', '22909249', '22399473', '21666252', '21210977', '20015970', '19811691', '19773334', '19304878', '18606172', '21585724', '16403221', '16377612', '14871861']"
      ]
     },
     "execution_count": 6,
     "metadata": {},
     "output_type": "execute_result"
    }
   ],
   "source": [
    "record = Entrez.read(handle)\n",
    "record[\"IdList\"]"
   ]
  },
  {
   "cell_type": "markdown",
   "metadata": {
    "deletable": true,
    "editable": true
   },
   "source": [
    "# Fix unnown accession number in original fasta"
   ]
  },
  {
   "cell_type": "code",
   "execution_count": 25,
   "metadata": {
    "collapsed": false,
    "deletable": true,
    "editable": true
   },
   "outputs": [],
   "source": [
    "from Bio import SeqIO\n",
    "from Bio import Entrez\n",
    "from Bio import SeqIO\n",
    "\n",
    "Entrez.email = \"laksdjfkjaskldfjkla@gmail.com\"\n",
    "\n",
    "\n",
    "fixed_accession_TIS_list = []\n",
    "\n",
    "\n",
    "for seq_record_local in SeqIO.parse(\"viral_all_30up_toSTOP.fasta\", \"fasta\"):\n",
    "    \n",
    "    \n",
    "    #copy all seq_record_local to new file \n",
    "    \n",
    "    \n",
    "    if \"unknown\" in seq_record_local.name:\n",
    "        \n",
    "        \n",
    "        # get the protein name per sequence\n",
    "        seq_description = seq_record_local.description\n",
    "\n",
    "        start = seq_description.find('P_')\n",
    "        end = seq_description.find('|', start)\n",
    "\n",
    "        full_protein_name = seq_description[start-1:end]\n",
    "        \n",
    "\n",
    "        handle = Entrez.efetch(db=\"protein\", rettype=\"gp\", retmode=\"text\",\n",
    "                       id=full_protein_name)\n",
    "        \n",
    "        \n",
    "        # search NCBI protein db and update all missing genome accession numbers\n",
    "        \n",
    "        for protein_id_remote in SeqIO.parse(handle, \"genbank\"):\n",
    "            \n",
    "            #get the accession number that links to the protein ID in the ncbi db\n",
    "            accession_num_unstrip = protein_id_remote.annotations[\"db_source\"]\n",
    "            \n",
    "            start = accession_num_unstrip.find('NC_')\n",
    "            end = accession_num_unstrip.find('.',start)\n",
    "            \n",
    "            accession_num = accession_num_unstrip[start:end]\n",
    "            \n",
    "            \n",
    "            seq_record_local.id = accession_num\n",
    "            seq_record_local.name = accession_num\n",
    "            seq_record_local.description = \"|\" +full_protein_name +\"|\"\n",
    "\n",
    "            \n",
    "            fixed_accession_record = SeqRecord(seq_record_local.seq,\n",
    "                                               id = seq_record_local.id,\n",
    "                                               name = seq_record_local.name, \n",
    "                                               description = seq_record_local.description)\n",
    "\n",
    "            fixed_accession_TIS_list.append(fixed_accession_record)\n",
    "            \n",
    "#             print(\"changed seq record\")\n",
    "\n",
    "        handle.close()\n",
    "    else:\n",
    "        \n",
    "        #else append the unchanged seq_record into the fixed_accession_TIS_list\n",
    "        \n",
    "        fixed_accession_TIS_list.append(seq_record_local)\n",
    "#         print(\"unchanged seq record\")\n",
    "        \n",
    "        \n",
    "#have to write the fixed unknown accession number to file\n",
    "\n",
    "\n",
    "\n",
    "SeqIO.write(fixed_accession_TIS_list, \"fixed_accession_\" + \"viral_all_30up_toSTOP.fasta\", \"fasta\")\n",
    "\n",
    "\n",
    "\n",
    "    \n",
    "    "
   ]
  },
  {
   "cell_type": "code",
   "execution_count": 4,
   "metadata": {
    "collapsed": false,
    "deletable": true,
    "editable": true
   },
   "outputs": [],
   "source": [
    "# len(fixed)\n",
    "len(fixed_accession_TIS_list)\n",
    "\n",
    "#should have 2528 sequences\n",
    "\n",
    "count = 0\n",
    "for seq_record in SeqIO.parse(\"annotated_fixed_accession_viral_all_30up_toSTOP.fasta\", \"fasta\"):\n",
    "    count = count+1\n",
    "    print(count)"
   ]
  },
  {
   "cell_type": "code",
   "execution_count": 21,
   "metadata": {
    "collapsed": false,
    "deletable": true,
    "editable": true
   },
   "outputs": [
    {
     "name": "stdout",
     "output_type": "stream",
     "text": [
      "NC_004108 |NP_671968.1|IRES or Leaky Scanning\n",
      "NC_004109 |NP_671969.1|IRES or Leaky Scanning\n",
      "NC_004110 |NP_671970.1|IRES or Leaky Scanning\n",
      "NC_004110 |NP_671971.1|IRES or Leaky Scanning\n",
      "NC_005218 |NP_941977.1|Scanning or IRES\n",
      "NC_005219 |NP_941978.1|Scanning or IRES\n",
      "NC_005222 |NP_941982.1|Scanning or IRES\n"
     ]
    }
   ],
   "source": [
    "#some fasta will contain duplicates b/c of sharing TIS types\n",
    "\n",
    "Scanning = []\n",
    "\n",
    "\n",
    "IRES = []\n",
    "\n",
    "LS = []\n",
    "NSP = []\n",
    "RS = []\n",
    "\n",
    "TR = []\n",
    "\n",
    "VPG = []\n",
    "\n",
    "UNKNOWN = []\n",
    "\n",
    "\n",
    "# how many delimiters in to split\n",
    "#2nd delimiter\n",
    "n = 2\n",
    "\n",
    "for seq_record in SeqIO.parse(\"annotated_fixed_accession_viral_all_30up_toSTOP.fasta\", \"fasta\"):\n",
    "    \n",
    "    #split string after 2nd delimiter\n",
    "    groups = seq_record.description.split('|')\n",
    "    TIS_type = '|'.join(groups[n:])\n",
    "    \n",
    "    \n",
    "    if TIS_type == \"Scanning\":\n",
    "        Scanning.append(seq_record)\n",
    "    elif TIS_type == \"Scanning, IRES\":\n",
    "        Scanning.append(seq_record)\n",
    "        IRES.append(seq_record)\n",
    "    elif TIS_type == \"IRES\":\n",
    "        IRES.append(seq_record)\n",
    "#     elif TIS_type == \"IRES, Leaky Scanning\":\n",
    "#         IRES.append(seq_record)\n",
    "#         LS.append(seq_record)\n",
    "    elif TIS_type == \"Leaky Scanning\":\n",
    "        LS.append(seq_record)\n",
    "    elif TIS_type == \"NSP3-3'UTR\":\n",
    "        NSP.append(seq_record)\n",
    "    elif TIS_type == \"Ribosome Shunting\":\n",
    "        RS.append(seq_record)\n",
    "    elif TIS_type == \"Termination-Reinitiation\":\n",
    "        TR.append(seq_record)\n",
    "    elif TIS_type == \"VPg\":\n",
    "        VPG.append(seq_record)\n",
    "    elif TIS_type == \"UNKNOWN\":\n",
    "        UNKNOWN.append(seq_record)\n",
    "    else:\n",
    "        print(seq_record.name)\n",
    "        print(seq_record.description)\n",
    "\n",
    "# Scanning\n",
    "# Scanning, IRES\n",
    "# IRES\n",
    "# IRES, Leaky Scanning\n",
    "# Leaky Scanning\n",
    "# NSP3-3'UTR\n",
    "# Ribosome Shunting\n",
    "\n",
    "# Termination-Reinitiation\n",
    "# VPg\n",
    "# UNKNOWN"
   ]
  },
  {
   "cell_type": "code",
   "execution_count": 17,
   "metadata": {
    "collapsed": false,
    "deletable": true,
    "editable": true
   },
   "outputs": [
    {
     "data": {
      "text/plain": [
       "336"
      ]
     },
     "execution_count": 17,
     "metadata": {},
     "output_type": "execute_result"
    }
   ],
   "source": [
    "\n",
    "# Scanning = []\n",
    "# IRES = []\n",
    "# LS = []\n",
    "# NSP = []\n",
    "# RS = []\n",
    "# TR = []\n",
    "# VPG = []\n",
    "# UNKNOWN = []\n",
    "\n",
    "SeqIO.write(Scanning, \"SCANNING_\" + \"viral_all_30up_toSTOP_SEP.fasta\", \"fasta\")\n",
    "SeqIO.write(IRES, \"IRES_\" + \"viral_all_30up_toSTOP_SEP.fasta\", \"fasta\")\n",
    "SeqIO.write(LS, \"LEAKY_\" + \"viral_all_30up_toSTOP_SEP.fasta\", \"fasta\")\n",
    "SeqIO.write(NSP, \"NSP_\" + \"viral_all_30up_toSTOP_SEP.fasta\", \"fasta\")\n",
    "SeqIO.write(RS, \"RIBOSOMESHUNTING_\" + \"viral_all_30up_toSTOP_SEP.fasta\", \"fasta\")\n",
    "SeqIO.write(TR, \"TERMINATIONREINITIATION_\" + \"viral_all_30up_toSTOP_SEP.fasta\", \"fasta\")\n",
    "SeqIO.write(VPG, \"VPG_\" + \"viral_all_30up_toSTOP_SEP.fasta\", \"fasta\")\n",
    "SeqIO.write(UNKNOWN, \"UNKNOWN_\" + \"viral_all_30up_toSTOP_SEP.fasta\", \"fasta\")\n",
    "\n",
    "\n"
   ]
  },
  {
   "cell_type": "code",
   "execution_count": 18,
   "metadata": {
    "collapsed": false,
    "deletable": true,
    "editable": true
   },
   "outputs": [
    {
     "data": {
      "text/plain": [
       "2521"
      ]
     },
     "execution_count": 18,
     "metadata": {},
     "output_type": "execute_result"
    }
   ],
   "source": [
    "len(Scanning)+len(IRES)+len(LS)+len(NSP)+len(RS)+len(TR)+len(VPG)+len(UNKNOWN)\n",
    "\n",
    "# Scanning = []\n",
    "\n",
    "\n",
    "# IRES = []\n",
    "\n",
    "# LS = []\n",
    "# NSP = []\n",
    "# RS = []\n",
    "\n",
    "# TR = []\n",
    "\n",
    "# VPG = []\n",
    "\n",
    "# UNKNOWN = []\n",
    "\n",
    "# Scanning[0]"
   ]
  }
 ],
 "metadata": {
  "kernelspec": {
   "display_name": "Python 3",
   "language": "python",
   "name": "python3"
  },
  "language_info": {
   "codemirror_mode": {
    "name": "ipython",
    "version": 3
   },
   "file_extension": ".py",
   "mimetype": "text/x-python",
   "name": "python",
   "nbconvert_exporter": "python",
   "pygments_lexer": "ipython3",
   "version": "3.6.0"
  }
 },
 "nbformat": 4,
 "nbformat_minor": 2
}
